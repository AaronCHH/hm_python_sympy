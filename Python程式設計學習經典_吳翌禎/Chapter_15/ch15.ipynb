{
 "cells": [
  {
   "cell_type": "code",
   "execution_count": 20,
   "id": "a649d3b3-f749-4dae-afc4-2c9a8b424baa",
   "metadata": {},
   "outputs": [
    {
     "name": "stdout",
     "output_type": "stream",
     "text": [
      "Piecewise((1/s, Abs(arg(s)) < pi/2), (Integral(exp(-s*x), (x, 0, oo)), True))\n",
      "Piecewise((s**(-2), Abs(arg(s)) < pi/2), (Integral(x*exp(-s*x), (x, 0, oo)), True))\n",
      "Piecewise((2/s**3, Abs(arg(s)) < pi/2), (Integral(x**2*exp(-s*x), (x, 0, oo)), True))\n",
      "Piecewise((1/(s**2 + 1), Abs(arg(s)) < pi/2), (Integral(exp(-s*x)*sin(x), (x, 0, oo)), True))\n",
      "Piecewise((s/(s**2 + 1), Abs(arg(s)) < pi/2), (Integral(exp(-s*x)*cos(x), (x, 0, oo)), True))\n",
      "Piecewise((-1/(2*(s + 1)) - 1/(2*(1 - s)), (Abs(s) > 1) & (Abs(arg(s)) <= pi/2) & (Abs(arg(s)) < pi/2)), (Integral(exp(-s*x)*sinh(x), (x, 0, oo)), True))\n",
      "Piecewise((pi*Piecewise((-s/(pi*(1 - s**2)), Abs(s**2) < 1), (1/(pi*s*(1 - 1/s**2)), 1/Abs(s**2) < 1), (meijerg(((1/2,), (0, 0)), ((0, 1/2), (0,)), polar_lift(s)**2), True)), s**2 > 1), (Integral(exp(-s*x)*cosh(x), (x, 0, oo)), True))\n",
      "Piecewise((-1/(a*(1 - s/a)), ((Abs(arg(s)) <= pi/2) & (Abs(arg(a) + pi) < pi/2)) | ((Abs(arg(s)) < pi/2) & (Abs(arg(a) + pi) <= pi/2)) | ((Abs(arg(s)) < pi/2) & (Abs(arg(a) + pi) < pi/2))), (Integral(exp(a*x)*exp(-s*x), (x, 0, oo)), True))\n"
     ]
    }
   ],
   "source": [
    "# %load CH_15_10_EX_1_Laplace_Transforms.py\n",
    "# ----------------------------------------\n",
    "#   CH_15_10_EX_1_Laplace_Transforms.py\n",
    "# ----------------------------------------\n",
    "from sympy import *\n",
    "x, s, a = symbols('x, s, a')\n",
    "# -----列示Laplace 轉換結果\n",
    "print(integrate(1*exp(-s*x), (x, 0, oo)))\n",
    "print(integrate(x*exp(-s*x), (x, 0, oo)))\n",
    "print(integrate(x**2*exp(-s*x), (x, 0, oo)))\n",
    "print(integrate(sin(x)*exp(-s*x), (x, 0, oo)))\n",
    "print(integrate(cos(x)*exp(-s*x), (x, 0, oo)))\n",
    "print(integrate(sinh(x)*exp(-s*x), (x, 0, oo)))\n",
    "print(integrate(cosh(x)*exp(-s*x), (x, 0, oo)))\n",
    "print(integrate(exp(a*x)*exp(-s*x), (x, 0, oo)))"
   ]
  },
  {
   "cell_type": "code",
   "execution_count": 21,
   "id": "e8641235-004d-4301-89a7-5ad73927cdc4",
   "metadata": {},
   "outputs": [
    {
     "name": "stdout",
     "output_type": "stream",
     "text": [
      "Matrix([[a11, a12], [a21, a22]])\n",
      "Matrix([[b11, b12], [b21, b22]])\n",
      "Matrix([[a11 + b11, a12 + b12], [a21 + b21, a22 + b22]])\n",
      "Matrix([[a11 - b11, a12 - b12], [a21 - b21, a22 - b22]])\n",
      "Matrix([[a11*b11 + a12*b21, a11*b12 + a12*b22], [a21*b11 + a22*b21, a21*b12 + a22*b22]])\n",
      "Matrix([[a11**2 + a12*a21, a11*a12 + a12*a22], [a11*a21 + a21*a22, a12*a21 + a22**2]])\n",
      "a11*a22 - a12*a21\n",
      "Matrix([[a11, a21], [a12, a22]])\n",
      "(2, 2)\n",
      "Matrix([[a22/(a11*a22 - a12*a21), -a12/(a11*a22 - a12*a21)], [-a21/(a11*a22 - a12*a21), a11/(a11*a22 - a12*a21)]])\n"
     ]
    }
   ],
   "source": [
    "# %load CH_15_11_EX_1_Matrix_Operations.py\n",
    "# ---------------------------------------\n",
    "#   CH_15_11_EX_1_Matrix_Operations.py\n",
    "# ---------------------------------------\n",
    "from sympy import *\n",
    "import numpy as np\n",
    "a11, a12, a21, a22 = symbols('a11, a12, a21, a22')\n",
    "b11, b12, b21, b22 = symbols('b11, b12, b21, b22')\n",
    "# -----矩陣定義 (Matrix Definition)\n",
    "matA = Matrix([[a11, a12], [a21, a22]])\n",
    "matB = Matrix([[b11, b12], [b21, b22]])\n",
    "print(matA)\n",
    "print(matB)\n",
    "# -----矩陣運算 (Matrix Operations)\n",
    "print(matA+matB)\n",
    "print(matA-matB)\n",
    "print(matA*matB)\n",
    "print(matA**2)\n",
    "# -----行列式，轉置，逆矩陣\n",
    "print(det(matA))\n",
    "print(transpose(matA))\n",
    "print(matA.shape)\n",
    "print(matA**(-1))"
   ]
  },
  {
   "cell_type": "code",
   "execution_count": 22,
   "id": "833174e7-915a-45fd-a87f-e785b8274296",
   "metadata": {},
   "outputs": [
    {
     "name": "stdout",
     "output_type": "stream",
     "text": [
      "a10 =  1.00000000000000\n",
      "a1n =  Piecewise((0, (n > 0) | (n < 0)), (1.0, True))\n",
      "b1n =  Piecewise((-1.0/(pi*n), (n > 0) | (n < 0)), (0, True))\n",
      "a20 =  1.33333333333333\n",
      "a2n =  Piecewise((-4.0/(pi**2*n**2), (n > 0) | (n < 0)), (1.33333333333333, True))\n",
      "b2n =  0\n"
     ]
    }
   ],
   "source": [
    "# %load CH_15_12_2_EX_1_Euler_Coefficients_of_Fourier_Series.py\n",
    "# ------------------------------------------------------------\n",
    "#   CH_15_12_2_EX_1_Euler_Coefficients_of_Fourier_Series.py\n",
    "# ------------------------------------------------------------\n",
    "from sympy import *\n",
    "import numpy as np\n",
    "x = symbols('x')\n",
    "n = symbols('n', integer=True)\n",
    "# ----- 線性函數 (Linear function)\n",
    "T = 1-0\n",
    "a10 = simplify(integrate(x, (x, 0, 1))/(T/2))\n",
    "a1n = simplify(integrate(x*cos(2*n*pi*x/T), (x, 0, 1))/(T/2))\n",
    "b1n = simplify(integrate(x*sin(2*n*pi*x/T), (x, 0, 1))/(T/2))\n",
    "a10 = trigsimp(a10)\n",
    "a1n = trigsimp(a1n)\n",
    "b1n = trigsimp(b1n)\n",
    "print('a10 = ', a10)\n",
    "print('a1n = ', a1n)\n",
    "print('b1n = ', b1n)\n",
    "# ----- 二次式函數 (Quadratic function)\n",
    "T = 1-0\n",
    "a20 = simplify(integrate((-4*x**2 + 4*x), (x, 0, 1))/(T/2))\n",
    "a2n = simplify(integrate((-4*x**2 + 4*x)*cos(2*n*pi*x/T), (x, 0, 1))/(T/2))\n",
    "b2n = simplify(integrate((-4*x**2 + 4*x)*sin(2*n*pi*x/T), (x, 0, 1))/(T/2))\n",
    "a20 = trigsimp(a20)\n",
    "a2n = trigsimp(a2n)\n",
    "b2n = trigsimp(b2n)\n",
    "print('a20 = ', a20)\n",
    "print('a2n = ', a2n)\n",
    "print('b2n = ', b2n)"
   ]
  },
  {
   "cell_type": "code",
   "execution_count": 23,
   "id": "327a3eb4-247b-44b4-a9f6-12dd0157f68c",
   "metadata": {},
   "outputs": [
    {
     "name": "stdout",
     "output_type": "stream",
     "text": [
      "v(t) = Matrix([[L*cos(theta(t))*Derivative(theta(t), t)], [L*sin(theta(t))*Derivative(theta(t), t)]])\n",
      "T = Matrix([[0.5*L**2*m*Derivative(theta(t), t)**2]])\n",
      "Lagrangian =  Matrix([[0.5*L**2*m*Derivative(theta(t), t)**2 - L*g*m*(1 - cos(theta(t)))]])\n",
      "L1= Matrix([[1.0*L**2*m*Derivative(theta(t), t)]])\n",
      "Eq = Matrix([[1.0*L**2*m*Derivative(theta(t), (t, 2)) + L*g*m*sin(theta(t))]])\n",
      "Eq1 = Matrix([[L*m*(1.0*L*Derivative(theta(t), (t, 2)) + g*sin(theta(t)))]])\n"
     ]
    }
   ],
   "source": [
    "# %load CH_15_12_3_EX_1_Derivation_of_EOM_Lagrange_Eq.py\n",
    "# -----------------------------------------------------\n",
    "#   CH_15_12_3_EX_1_Derivation_of_EOM_Lagrange_Eq.py\n",
    "# -----------------------------------------------------\n",
    "from sympy import *\n",
    "import numpy as np\n",
    "#----- 定義符號變數\n",
    "t, L, m, g = symbols('t, L, m, g')\n",
    "theta, T, U, Lag, L1 = symbols('theta, T, U, Lag, L1', cls=Function)\n",
    "#----- 定義位置向量\n",
    "rt = Matrix([L*sin(theta(t)), -L*cos(theta(t))])\n",
    "#----- 以微分推求速度向量\n",
    "vt = diff(rt, t)\n",
    "print('v(t) =', vt)\n",
    "#----- 推求動能\n",
    "T = simplify(0.5*m*transpose(vt)*vt)\n",
    "print('T =', T)\n",
    "#----- 推求位能\n",
    "U = Matrix([[m*g*L*(1-cos(theta(t)))]])\n",
    "# ----- 推求 Lagrangian\n",
    "Lagrangian = T - U\n",
    "\n",
    "print('Lagrangian = ', Lagrangian)\n",
    "#----- 推求運動方程式\n",
    "L1 = diff(Lagrangian, Derivative(theta(t), t))\n",
    "print('L1=', L1)\n",
    "Eq = diff(L1, t) - diff(Lagrangian, theta(t))\n",
    "Eq1 = simplify(Eq)\n",
    "print('Eq =', Eq)\n",
    "print('Eq1 =', Eq1)"
   ]
  },
  {
   "cell_type": "code",
   "execution_count": 24,
   "id": "a4872684-a4e5-4636-9425-bb5dde98f757",
   "metadata": {},
   "outputs": [
    {
     "name": "stdout",
     "output_type": "stream",
     "text": [
      "x**2 + 2*x*y + y**2\n",
      "x**3 + 3*x**2*y + 3*x*y**2 + y**3\n",
      "x**4 + 4*x**3*y + 6*x**2*y**2 + 4*x*y**3 + y**4\n"
     ]
    }
   ],
   "source": [
    "# %load CH_15_2_EX_1_Sympy_First_Example.py\n",
    "# ----------------------------------------\n",
    "#   CH_15_2_EX_1_Sympy_First_Example.py\n",
    "# ----------------------------------------\n",
    "from sympy import *\n",
    "x, y = symbols('x, y')\n",
    "print(expand((x+y)**2))\n",
    "print(expand((x+y)**3))\n",
    "print(expand((x+y)**4))"
   ]
  },
  {
   "cell_type": "code",
   "execution_count": 25,
   "id": "730af1f9-a3e9-47aa-bc66-b195bce8ebbc",
   "metadata": {},
   "outputs": [
    {
     "name": "stdout",
     "output_type": "stream",
     "text": [
      "x**2 + 2*x*y + y**2\n",
      "x^{2} + 2 x y + y^{2}\n",
      " 2            2\n",
      "x  + 2*x*y + y \n",
      " 2            2\n",
      "x  + 2⋅x⋅y + y \n",
      "digraph{\n",
      "\n",
      "# Graph style\n",
      "\"ordering\"=\"out\"\n",
      "\"rankdir\"=\"TD\"\n",
      "\n",
      "#########\n",
      "# Nodes #\n",
      "#########\n",
      "\n",
      "\"Add(Pow(Symbol('x'), Integer(2)), Pow(Symbol('y'), Integer(2)), Mul(Integer(2), Symbol('x'), Symbol('y')))_()\" [\"color\"=\"black\", \"label\"=\"Add\", \"shape\"=\"ellipse\"];\n",
      "\"Pow(Symbol('x'), Integer(2))_(0,)\" [\"color\"=\"black\", \"label\"=\"Pow\", \"shape\"=\"ellipse\"];\n",
      "\"Symbol('x')_(0, 0)\" [\"color\"=\"black\", \"label\"=\"x\", \"shape\"=\"ellipse\"];\n",
      "\"Integer(2)_(0, 1)\" [\"color\"=\"black\", \"label\"=\"2\", \"shape\"=\"ellipse\"];\n",
      "\"Pow(Symbol('y'), Integer(2))_(1,)\" [\"color\"=\"black\", \"label\"=\"Pow\", \"shape\"=\"ellipse\"];\n",
      "\"Symbol('y')_(1, 0)\" [\"color\"=\"black\", \"label\"=\"y\", \"shape\"=\"ellipse\"];\n",
      "\"Integer(2)_(1, 1)\" [\"color\"=\"black\", \"label\"=\"2\", \"shape\"=\"ellipse\"];\n",
      "\"Mul(Integer(2), Symbol('x'), Symbol('y'))_(2,)\" [\"color\"=\"black\", \"label\"=\"Mul\", \"shape\"=\"ellipse\"];\n",
      "\"Integer(2)_(2, 0)\" [\"color\"=\"black\", \"label\"=\"2\", \"shape\"=\"ellipse\"];\n",
      "\"Symbol('x')_(2, 1)\" [\"color\"=\"black\", \"label\"=\"x\", \"shape\"=\"ellipse\"];\n",
      "\"Symbol('y')_(2, 2)\" [\"color\"=\"black\", \"label\"=\"y\", \"shape\"=\"ellipse\"];\n",
      "\n",
      "#########\n",
      "# Edges #\n",
      "#########\n",
      "\n",
      "\"Add(Pow(Symbol('x'), Integer(2)), Pow(Symbol('y'), Integer(2)), Mul(Integer(2), Symbol('x'), Symbol('y')))_()\" -> \"Pow(Symbol('x'), Integer(2))_(0,)\";\n",
      "\"Add(Pow(Symbol('x'), Integer(2)), Pow(Symbol('y'), Integer(2)), Mul(Integer(2), Symbol('x'), Symbol('y')))_()\" -> \"Pow(Symbol('y'), Integer(2))_(1,)\";\n",
      "\"Add(Pow(Symbol('x'), Integer(2)), Pow(Symbol('y'), Integer(2)), Mul(Integer(2), Symbol('x'), Symbol('y')))_()\" -> \"Mul(Integer(2), Symbol('x'), Symbol('y'))_(2,)\";\n",
      "\"Pow(Symbol('x'), Integer(2))_(0,)\" -> \"Symbol('x')_(0, 0)\";\n",
      "\"Pow(Symbol('x'), Integer(2))_(0,)\" -> \"Integer(2)_(0, 1)\";\n",
      "\"Pow(Symbol('y'), Integer(2))_(1,)\" -> \"Symbol('y')_(1, 0)\";\n",
      "\"Pow(Symbol('y'), Integer(2))_(1,)\" -> \"Integer(2)_(1, 1)\";\n",
      "\"Mul(Integer(2), Symbol('x'), Symbol('y'))_(2,)\" -> \"Integer(2)_(2, 0)\";\n",
      "\"Mul(Integer(2), Symbol('x'), Symbol('y'))_(2,)\" -> \"Symbol('x')_(2, 1)\";\n",
      "\"Mul(Integer(2), Symbol('x'), Symbol('y'))_(2,)\" -> \"Symbol('y')_(2, 2)\";\n",
      "}\n"
     ]
    }
   ],
   "source": [
    "# %load CH_15_2_EX_2_Different_Printings.py\n",
    "# ----------------------------------------\n",
    "#   CH_15_2_EX_2_Different_Printings.py\n",
    "# ----------------------------------------\n",
    "from sympy.printing.dot import dotprint\n",
    "from sympy import *\n",
    "x, y = symbols('x, y')\n",
    "# -----列印\n",
    "print(expand((x+y)**2))\n",
    "# ----- 列印 LaTeX 表達式\n",
    "print(latex(expand((x+y)**2)))\n",
    "# -----列印 ASCII 格式\n",
    "pprint(expand((x+y)**2), use_unicode=False)\n",
    "# -----列印 Unicode 格式\n",
    "pprint(expand((x+y)**2), use_unicode=True)\n",
    "\n",
    "print(dotprint(expand((x+y)**2)))"
   ]
  },
  {
   "cell_type": "code",
   "execution_count": 26,
   "id": "629e46cb-73ea-4bbc-9ba4-2ea0f375842c",
   "metadata": {},
   "outputs": [
    {
     "name": "stdout",
     "output_type": "stream",
     "text": [
      "4*x\n",
      "(x + 3)/(x + 2)\n",
      "x - 1\n",
      "x + 1\n",
      "sin(x + y)\n",
      "sin(2*x)\n",
      "cos(3*x)\n",
      "sinh(x)\n",
      "cosh(x)\n",
      "tanh(x)\n",
      "exp(x - y)\n",
      "exp(x)/(exp(x) + 1)\n",
      "x + 2\n",
      "(x - 3)*(x - 2)*(x - 1)\n",
      "1\n",
      "1\n",
      "3*x**2/2 - 1/2\n",
      "4*x**2 - 2\n"
     ]
    }
   ],
   "source": [
    "# %load CH_15_3_1_EX_1_Simplify.py\n",
    "# -------------------------------\n",
    "#   CH_15_3_1_EX_1_Simplify.py\n",
    "# -------------------------------\n",
    "from sympy import *\n",
    "x, y = symbols('x, y')\n",
    "#----- 多項式函數\n",
    "print(simplify((1+x)**2-(1-x)**2))\n",
    "print(simplify(1+1/(x+2)))\n",
    "print(simplify((x**2-1)/(x+1)))\n",
    "print(simplify(sqrt(x)*sqrt(x)+1))\n",
    "#----- 三角函數\n",
    "print(simplify(sin(x)*cos(y)+sin(y)*cos(x)))\n",
    "print(simplify(2*sin(x)*cos(x)))\n",
    "print(simplify(4*cos(x)**3 - 3*cos(x)))\n",
    "#----- 雙曲三角函數\n",
    "print(simplify((exp(x)-exp(-x))/2))\n",
    "print(simplify((exp(x)+exp(-x))/2))\n",
    "print(simplify((exp(x)-exp(-x))/(exp(x)+exp(-x))))\n",
    "#----- 指數與對數函數\n",
    "print(simplify(exp(x)/exp(y)))\n",
    "print(simplify(1/(1+exp(-x))))\n",
    "print(simplify(exp(log(x+2))))\n",
    "#----- 特殊函數\n",
    "print(simplify(gamma(x)/gamma(x-3)))\n",
    "print(simplify(besselj(0, 0)-besselj(1, 0)))\n",
    "print(simplify(besseli(0, 0)-besseli(1, 0)))\n",
    "print(simplify(legendre(2, x)))\n",
    "print(simplify(hermite(2, x)))"
   ]
  },
  {
   "cell_type": "code",
   "execution_count": 27,
   "id": "9b536be3-b4e2-404f-adfa-b6283200ff16",
   "metadata": {},
   "outputs": [
    {
     "name": "stdout",
     "output_type": "stream",
     "text": [
      "x**3 - 3*x**2 + 3*x - 1\n",
      "x**3 + 2*x**2 - x - 2\n",
      "(x - 1)**3\n",
      "(x - 1)*(x + 1)*(x + 2)\n"
     ]
    }
   ],
   "source": [
    "# %load CH_15_3_2_EX_1_Expand_Factor.py\n",
    "# ------------------------------------\n",
    "#   CH_15_3_2_EX_1_Expand_Factor.py\n",
    "# ------------------------------------\n",
    "from sympy import *\n",
    "x, y = symbols('x, y')\n",
    "#----- 多項式函數展開\n",
    "print(expand((x-1)**3))\n",
    "print(expand((x-1)*(x+1)*(x+2)))\n",
    "#----- 多項式函數因式分解\n",
    "print(factor(x**3 - 3*x**2 + 3*x - 1))\n",
    "print(factor(x**3 + 2*x**2 - x - 2))"
   ]
  },
  {
   "cell_type": "code",
   "execution_count": 28,
   "id": "9f0ce0ac-7b16-49a3-8a0b-20bf0d0f1fb0",
   "metadata": {},
   "outputs": [
    {
     "name": "stdout",
     "output_type": "stream",
     "text": [
      "x + 1\n",
      "(x**2 + 2*x + 1)/x\n",
      "x - (x + 1)/(x**2 + 1)\n",
      "1/(x + 1) + 1/(x - 1)\n"
     ]
    }
   ],
   "source": [
    "# %load CH_15_3_3_EX_1_Cancel_Apart.py\n",
    "# -----------------------------------\n",
    "#   CH_15_3_3_EX_1_Cancel_Apart.py\n",
    "# -----------------------------------\n",
    "from sympy import *\n",
    "x, y = symbols('x, y')\n",
    "#----- 因式消解\n",
    "print(cancel((x**2-1)/(x-1)))\n",
    "print(cancel((x**3+3*x**2+3*x+1)/(x**2+x)))\n",
    "#----- 真分式拆解\n",
    "print(apart((x**3-1)/(x**2+1)))\n",
    "print(apart((2*x)/(x**2-1)))"
   ]
  },
  {
   "cell_type": "code",
   "execution_count": 29,
   "id": "911903f5-7001-4361-893c-9a9d5e307ba9",
   "metadata": {},
   "outputs": [
    {
     "name": "stdout",
     "output_type": "stream",
     "text": [
      "cos(2*x)\n",
      "sin(x)\n",
      "sin(x)*cos(y) + sin(y)*cos(x)\n",
      "sin(x)*cos(y) - sin(y)*cos(x)\n",
      "-sin(x)*sin(y) + cos(x)*cos(y)\n",
      "sin(x)*sin(y) + cos(x)*cos(y)\n",
      "(tan(x) + tan(y))/(-tan(x)*tan(y) + 1)\n",
      "(tan(x) - tan(y))/(tan(x)*tan(y) + 1)\n"
     ]
    }
   ],
   "source": [
    "# %load CH_15_3_4_EX_1_Trigsimp_Expand_Trig.py\n",
    "# -------------------------------------------\n",
    "#   CH_15_3_4_EX_1_Trigsimp_Expand_Trig.py\n",
    "# -------------------------------------------\n",
    "from sympy import *\n",
    "x, y = symbols('x, y')\n",
    "#----- 三角函數簡化 (trigsimp)\n",
    "print(trigsimp((cos(x)**2-sin(x)**2)))\n",
    "print(trigsimp(cos(x)*tan(x)))\n",
    "#----- 三角函數展開 (expand_trig)\n",
    "print(expand_trig(sin(x+y)))\n",
    "print(expand_trig(sin(x-y)))\n",
    "print(expand_trig(cos(x+y)))\n",
    "print(expand_trig(cos(x-y)))\n",
    "print(expand_trig(tan(x+y)))\n",
    "print(expand_trig(tan(x-y)))"
   ]
  },
  {
   "cell_type": "code",
   "execution_count": 30,
   "id": "07d945f6-f072-4d5a-b365-b2cc477ee926",
   "metadata": {},
   "outputs": [
    {
     "name": "stdout",
     "output_type": "stream",
     "text": [
      "log(x*y)\n",
      "log(x/y)\n",
      "log(x) + log(y)\n",
      "log(x) - log(y)\n",
      "3*log(x)\n"
     ]
    }
   ],
   "source": [
    "# %load CH_15_3_5_EX_1_Logcombine_Expand_Log.py\n",
    "# --------------------------------------------\n",
    "#   CH_15_3_5_EX_1_Logcombine_Expand_Log.py\n",
    "# --------------------------------------------\n",
    "from sympy import *\n",
    "x, y = symbols('x, y')\n",
    "#----- 對數函數組合 (logcombine)\n",
    "print(logcombine(log(x)+log(y), force=True))\n",
    "print(logcombine(log(x)-log(y), force=True))\n",
    "#----- 對數函數展開 (expand_log)\n",
    "print(expand_log(log(x*y), force=True))\n",
    "print(expand_log(log(x/y), force=True))\n",
    "print(expand_log(log(x**3), force=True))"
   ]
  },
  {
   "cell_type": "code",
   "execution_count": 31,
   "id": "cf0c65b1-83e5-4985-b610-040d2908460c",
   "metadata": {},
   "outputs": [
    {
     "name": "stdout",
     "output_type": "stream",
     "text": [
      "2/5\n",
      "oo\n",
      "1\n",
      "0\n"
     ]
    }
   ],
   "source": [
    "# %load CH_15_4_EX_1_Limits.py\n",
    "# ---------------------------\n",
    "#   CH_15_4_EX_1_Limits.py\n",
    "# ---------------------------\n",
    "from sympy import *\n",
    "x, y = symbols('x, y')\n",
    "#----- 推求極限 (limits)\n",
    "print(limit((2*x+1)/(5*x-1), x, oo))\n",
    "print(limit(1/x, x, 0))\n",
    "print(limit(sin(x)/x, x, 0))\n",
    "print(limit((cos(x)-1)/x, x, 0))"
   ]
  },
  {
   "cell_type": "code",
   "execution_count": 32,
   "id": "642c81d5-5c07-4104-92b1-75d685a1772c",
   "metadata": {},
   "outputs": [
    {
     "name": "stdout",
     "output_type": "stream",
     "text": [
      "3*x**2\n",
      "6*x\n",
      "6\n",
      "2*cos(2*x)\n",
      "tan(x)**2 + 1\n",
      "1/sqrt(1 - x**2)\n",
      "exp(x)\n",
      "1/x\n",
      "2*x*y**2\n",
      "cos(x)*cos(y)\n",
      "-sin(x)*sin(y)\n"
     ]
    }
   ],
   "source": [
    "# %load CH_15_5_EX_1_Derivatives_Partial_Derivatives.py\n",
    "# ----------------------------------------------------\n",
    "#   CH_15_5_EX_1_Derivatives_Partial_Derivatives.py\n",
    "# ----------------------------------------------------\n",
    "from sympy import *\n",
    "x, y = symbols('x, y')\n",
    "#----- 推求微分(Derivatives)\n",
    "print(diff(x**3, x))\n",
    "print(diff(x**3, x, 2))\n",
    "print(diff(x**3, x, 3))\n",
    "print(diff(sin(2*x), x))\n",
    "print(diff(tan(x), x))\n",
    "print(diff(asin(x), x))\n",
    "print(diff(exp(x), x))\n",
    "print(diff(log(x), x))\n",
    "# ----- 推求偏微分 (Partial Derivatives)\n",
    "print(diff(x**2*y**2, x))\n",
    "print(diff(sin(x)*cos(y), x))\n",
    "print(diff(sin(x)*cos(y), y))"
   ]
  },
  {
   "cell_type": "code",
   "execution_count": 33,
   "id": "86c49ad8-b92c-4b11-af13-216786e713c7",
   "metadata": {},
   "outputs": [
    {
     "name": "stdout",
     "output_type": "stream",
     "text": [
      "x - x**3/6 + x**5/120 + O(x**6)\n",
      "x**5/120 - x**3/6 + x\n",
      "1 - x**2/2 + x**4/24 + O(x**6)\n",
      "x + x**3/3 + 2*x**5/15 + O(x**6)\n",
      "-x - x**2/2 - x**3/3 - x**4/4 - x**5/5 + O(x**6)\n",
      "1 - x**2/4 + x**4/64 + O(x**6)\n"
     ]
    }
   ],
   "source": [
    "# %load CH_15_6_EX_1_Series_Expansion.py\n",
    "# -------------------------------------\n",
    "#   CH_15_6_EX_1_Series_Expansion.py\n",
    "# -------------------------------------\n",
    "from sympy import *\n",
    "x, y = symbols('x, y')\n",
    "#----- 列印展開之級數\n",
    "print(sin(x).series(x, 0, 6))\n",
    "print(sin(x).series(x, 0, 6).removeO())\n",
    "print(cos(x).series(x, 0, 6))\n",
    "print(tan(x).series(x, 0, 6))\n",
    "print(log(1-x).series(x, 0, 6))\n",
    "print(besselj(0, x).series(x, 0, 6))"
   ]
  },
  {
   "cell_type": "code",
   "execution_count": 34,
   "id": "1d5918fd-f189-4cfd-b0f7-d1e763d84fc0",
   "metadata": {},
   "outputs": [
    {
     "name": "stdout",
     "output_type": "stream",
     "text": [
      "x**3/3\n",
      "sin(x)\n",
      "log(x)\n",
      "exp(x)\n",
      "1/3\n",
      "1.00000000000000\n",
      "log(2)\n",
      "-1 + exp(2)\n",
      "x**2*y**2/4\n",
      "pi\n"
     ]
    }
   ],
   "source": [
    "# %load CH_15_7_EX_1_Integration_Multiple_Integration.py\n",
    "# -----------------------------------------------------\n",
    "#   CH_15_7_EX_1_Integration_Multiple_Integration.py\n",
    "# -----------------------------------------------------\n",
    "import math\n",
    "from sympy import *\n",
    "x, y = symbols('x, y')\n",
    "# ----- 不定積分 (Indefinite Integration)\n",
    "print(integrate(x**2, x))\n",
    "print(integrate(cos(x), x))\n",
    "print(integrate(1/x, x))\n",
    "print(integrate(exp(x), x))\n",
    "# ----- 定積分(Definite Integration)\n",
    "print(integrate(x**2, (x, 0, 1)))\n",
    "print(integrate(cos(x), (x, 0, math.pi/2)))\n",
    "print(integrate(1/x, (x, 1, 2)))\n",
    "print(integrate(exp(x), (x, 0, 2)))\n",
    "# -----  二重積分 (Double Integration)\n",
    "print(integrate(x*y, x, y))\n",
    "print(integrate(exp(-x**2-y**2), (x, -oo, oo), (y, -oo, oo)))"
   ]
  },
  {
   "cell_type": "code",
   "execution_count": 35,
   "id": "b078b4be-023f-490a-b6a6-531f1011d989",
   "metadata": {},
   "outputs": [
    {
     "name": "stdout",
     "output_type": "stream",
     "text": [
      "[(-b - sqrt(-4*a*c + b**2))/(2*a), (-b + sqrt(-4*a*c + b**2))/(2*a)]\n",
      "[-1, 2]\n",
      "[1]\n",
      "[-1/2 - sqrt(15)*I/2, -1/2 + sqrt(15)*I/2]\n",
      "{-1: 1, 1: 1}\n",
      "{-I: 1, I: 1}\n"
     ]
    }
   ],
   "source": [
    "# %load CH_15_8_EX_1_Roots_Algebraic_Equations.py\n",
    "# ----------------------------------------------\n",
    "#   CH_15_8_EX_1_Roots_Algebraic_Equations.py\n",
    "# ----------------------------------------------\n",
    "import math\n",
    "from sympy import *\n",
    "x, y, a, b, c = symbols('x, y, a, b, c')\n",
    "# ----- 列印求根結果 (用 solve)\n",
    "print(solve(a*x**2 + b*x + c, x))\n",
    "print(solve(x**2 - x - 2, x))\n",
    "print(solve(x**2 - 2*x + 1, x))\n",
    "print(solve(x**2 + x + 4, x))\n",
    "# ----- 列印求根結果 (用 roots)\n",
    "print(roots(x**2-1))\n",
    "print(roots(x**2+1))"
   ]
  },
  {
   "cell_type": "code",
   "execution_count": 36,
   "id": "9e320522-9b7e-43df-b33b-ac27d0f7a118",
   "metadata": {},
   "outputs": [
    {
     "name": "stdout",
     "output_type": "stream",
     "text": [
      "Eq(f(x), C1*exp(x))\n",
      "Eq(f(x), C1*exp(-x))\n",
      "Eq(f(x), C1*exp(x) - exp(-2*x)/3)\n"
     ]
    },
    {
     "name": "stderr",
     "output_type": "stream",
     "text": [
      "C:\\Users\\aaronchh\\AppData\\Local\\Temp\\ipykernel_53800\\342315785.py:9: SymPyDeprecationWarning: \n",
      "\n",
      "Eq(expr) with a single argument with the right-hand side\n",
      "defaulting to 0 is deprecated. Use Eq(expr, 0) instead.\n",
      "\n",
      "See https://docs.sympy.org/latest/explanation/active-deprecations.html#deprecated-eq-expr\n",
      "for details.\n",
      "\n",
      "This has been deprecated since SymPy version 1.5. It\n",
      "will be removed in a future version of SymPy.\n",
      "\n",
      "  print(dsolve(Eq(f(x).diff(x) - f(x)), f(x)))\n"
     ]
    },
    {
     "name": "stdout",
     "output_type": "stream",
     "text": [
      "Eq(f(x), x*(I*C1 + I*exp(2*I*log(x)))/(C1 - exp(2*I*log(x))))\n",
      "Eq(f(x), 1/(C1*exp(-x) - 1))\n",
      "Eq(f(x), C1*exp(-x) + C2*exp(3*x))\n",
      "Eq(f(x), C1*exp(-x) + C2*exp(3*x) - exp(x)/4)\n",
      "Eq(f(x), C1/x + C2*x**3)\n",
      "Eq(f(x), C1/x + C2*x**3 - x/4)\n"
     ]
    }
   ],
   "source": [
    "# %load CH_15_9_EX_1_Solutions_of_ODEs.py\n",
    "# --------------------------------------\n",
    "#   CH_15_9_EX_1_Solutions_of_ODEs.py\n",
    "# --------------------------------------\n",
    "from sympy import *\n",
    "x, y, a, b, c = symbols('x, y, a, b, c')\n",
    "f, g = symbols('f, g', cls=Function)\n",
    "# -----一階齊性微分方程 (1st-order homogeneous ODE)\n",
    "print(dsolve(Eq(f(x).diff(x) - f(x)), f(x)))\n",
    "print(dsolve(Eq(f(x).diff(x) + f(x)), f(x)))\n",
    "# -----一階非齊性微分方程 (1-st order nonhomogeneous ODE)\n",
    "print(dsolve(Eq(f(x).diff(x) - f(x), exp(-2*x)), f(x)))\n",
    "# -----一階非線性微分方程 (1-st order nonlinear ODE)\n",
    "print(dsolve(Eq(f(x).diff(x) - 1 - f(x)/x - f(x)**2/x**2), f(x)))\n",
    "# ------一階 Bounoulli微分方程 (1-st order Bernoulli Eq.)\n",
    "print(dsolve(Eq(f(x).diff(x) - f(x), f(x)**2), f(x)))\n",
    "# -----二階常係微分方程 (2nd-order ODE with constant coefficients)\n",
    "print(dsolve(Eq(f(x).diff(x, 2)-2*f(x).diff(x)-3*f(x)), f(x)))\n",
    "print(dsolve(Eq(f(x).diff(x, 2)-2*f(x).diff(x)-3*f(x), exp(x)), f(x)))\n",
    "# -----二階等維微分方程 (2nd-order Euler-Cauchy ODE)\n",
    "print(dsolve(Eq(x**2*f(x).diff(x, 2) - x*f(x).diff(x) - 3*f(x)), f(x)))\n",
    "print(dsolve(Eq(x**2*f(x).diff(x, 2) - x*f(x).diff(x) - 3*f(x), x), f(x)))"
   ]
  },
  {
   "cell_type": "code",
   "execution_count": null,
   "id": "08951eb5-d1c7-4d38-b8dc-980bff07a013",
   "metadata": {},
   "outputs": [],
   "source": []
  }
 ],
 "metadata": {
  "kernelspec": {
   "display_name": "Python 3 (ipykernel)",
   "language": "python",
   "name": "python3"
  },
  "language_info": {
   "codemirror_mode": {
    "name": "ipython",
    "version": 3
   },
   "file_extension": ".py",
   "mimetype": "text/x-python",
   "name": "python",
   "nbconvert_exporter": "python",
   "pygments_lexer": "ipython3",
   "version": "3.8.13"
  }
 },
 "nbformat": 4,
 "nbformat_minor": 5
}
