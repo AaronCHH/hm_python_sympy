{
 "cells": [
  {
   "cell_type": "markdown",
   "metadata": {
    "id": "XjSsRwTemLD2"
   },
   "source": [
    "<font color=#1E8449>☘ </font> 注意事項\n",
    "1. 如果您使用 Colab，在您熟悉 Colab 的操作環境之後，建議把介面改成英文版，以便讓程式碼有最好的顯示效果\n",
    " * 選擇 Colab 功能表裡的 <font color=#E59866>說明</font> - <font color=#E59866>查看英文版本</font> 即可將介面改成英文版\n",
    " * 要改回中文版，請關掉目前開啟的 Colab 網頁，再重新開啟您執行的 Colab 檔案即可（Colab 預設為中文版）\n",
    "2. 建議選擇暗色背景，長時間撰寫程式時眼睛會比較舒服\n",
    " * 在 Colab 裡選擇 <font color=#E59866>Tools（工具）</font> - <font color=#E59866> Settings （設定）</font> - <font color=#E59866> Site（網站）</font> - <font color=#E59866> Theme （主題）</font> - <font color=#E59866> Dark </font>\n",
    " * 在 Jupyter lab 中選擇 <font color=#E59866> Settings </font> - <font color=#E59866> JupyterLab theme </font> - <font color=#E59866> JupyerterLab Dark </font>\n",
    "\n"
   ]
  },
  {
   "cell_type": "markdown",
   "metadata": {
    "id": "YYACEK49JWc2"
   },
   "source": [
    "## Chap 13 使用 Sympy 進行符號運算"
   ]
  },
  {
   "cell_type": "code",
   "execution_count": 1,
   "metadata": {
    "id": "5-i6INDGDJLE"
   },
   "outputs": [],
   "source": [
    "import sympy as sp\n",
    "import numpy as np"
   ]
  },
  {
   "cell_type": "code",
   "execution_count": 2,
   "metadata": {
    "id": "9T-UeptCDgSi"
   },
   "outputs": [],
   "source": [
    "# sp.init_printing()"
   ]
  },
  {
   "cell_type": "markdown",
   "metadata": {
    "id": "n8O_NVe620VU"
   },
   "source": [
    "## 13.1 Sympy 套件與符號物件"
   ]
  },
  {
   "cell_type": "markdown",
   "metadata": {
    "id": "OkFlSoFzDuM4"
   },
   "source": [
    "### 13.1.1 建立符號變數"
   ]
  },
  {
   "cell_type": "code",
   "execution_count": 3,
   "metadata": {
    "id": "IzoA4i-ADvoO"
   },
   "outputs": [],
   "source": [
    "x = sp.Symbol('x')"
   ]
  },
  {
   "cell_type": "code",
   "execution_count": 4,
   "metadata": {
    "colab": {
     "base_uri": "https://localhost:8080/"
    },
    "executionInfo": {
     "elapsed": 39,
     "status": "ok",
     "timestamp": 1650637045308,
     "user": {
      "displayName": "wien hong",
      "userId": "11131435925814580522"
     },
     "user_tz": -480
    },
    "id": "3ItYkXbHEBhZ",
    "outputId": "26b761b6-80de-42e2-f470-a3a80aab46a7"
   },
   "outputs": [
    {
     "data": {
      "text/plain": [
       "sympy.core.symbol.Symbol"
      ]
     },
     "execution_count": 4,
     "metadata": {},
     "output_type": "execute_result"
    }
   ],
   "source": [
    "type(x)"
   ]
  },
  {
   "cell_type": "code",
   "execution_count": 5,
   "metadata": {
    "id": "RyYMNlNcEDxE"
   },
   "outputs": [],
   "source": [
    "y = sp.Symbol('y')"
   ]
  },
  {
   "cell_type": "code",
   "execution_count": 6,
   "metadata": {
    "colab": {
     "base_uri": "https://localhost:8080/",
     "height": 38
    },
    "executionInfo": {
     "elapsed": 1721,
     "status": "ok",
     "timestamp": 1650637047018,
     "user": {
      "displayName": "wien hong",
      "userId": "11131435925814580522"
     },
     "user_tz": -480
    },
    "id": "se3sDlrIFm7V",
    "outputId": "b529a688-9e6c-46a0-e65f-65f75e4fcdf4"
   },
   "outputs": [
    {
     "data": {
      "text/latex": [
       "$\\displaystyle 2 x^{2} + x y + y$"
      ],
      "text/plain": [
       "2*x**2 + x*y + y"
      ]
     },
     "execution_count": 6,
     "metadata": {},
     "output_type": "execute_result"
    }
   ],
   "source": [
    "2 * x**2 + x * y + y"
   ]
  },
  {
   "cell_type": "code",
   "execution_count": 7,
   "metadata": {
    "colab": {
     "base_uri": "https://localhost:8080/",
     "height": 38
    },
    "executionInfo": {
     "elapsed": 16,
     "status": "ok",
     "timestamp": 1650637047019,
     "user": {
      "displayName": "wien hong",
      "userId": "11131435925814580522"
     },
     "user_tz": -480
    },
    "id": "A48NCuL8Ft6h",
    "outputId": "11758239-72b5-4327-bbf4-e2ba4c82d8f3"
   },
   "outputs": [
    {
     "data": {
      "text/latex": [
       "$\\displaystyle 6 x - 3 y$"
      ],
      "text/plain": [
       "6*x - 3*y"
      ]
     },
     "execution_count": 7,
     "metadata": {},
     "output_type": "execute_result"
    }
   ],
   "source": [
    "x + 3 * y - (6 * y - 5 * x)"
   ]
  },
  {
   "cell_type": "code",
   "execution_count": 8,
   "metadata": {
    "id": "u0_SIMaCF6so"
   },
   "outputs": [],
   "source": [
    "x, y, z = sp.symbols('x,y,z')  # 注意 symbols 的 s 是小寫"
   ]
  },
  {
   "cell_type": "code",
   "execution_count": 9,
   "metadata": {
    "id": "ZN6gW3KvGaU3"
   },
   "outputs": [],
   "source": [
    "ex = x**2 + z**3 - 2 * x * y * z"
   ]
  },
  {
   "cell_type": "code",
   "execution_count": 10,
   "metadata": {
    "colab": {
     "base_uri": "https://localhost:8080/",
     "height": 38
    },
    "executionInfo": {
     "elapsed": 15,
     "status": "ok",
     "timestamp": 1650637047022,
     "user": {
      "displayName": "wien hong",
      "userId": "11131435925814580522"
     },
     "user_tz": -480
    },
    "id": "I3gjfJOaHPfl",
    "outputId": "5ea9026a-b74e-4164-f9e0-5f8426aca2ef"
   },
   "outputs": [
    {
     "data": {
      "text/latex": [
       "$\\displaystyle x^{2} - 2 x y z + z^{3}$"
      ],
      "text/plain": [
       "x**2 - 2*x*y*z + z**3"
      ]
     },
     "execution_count": 10,
     "metadata": {},
     "output_type": "execute_result"
    }
   ],
   "source": [
    "ex"
   ]
  },
  {
   "cell_type": "code",
   "execution_count": 11,
   "metadata": {
    "colab": {
     "base_uri": "https://localhost:8080/",
     "height": 38
    },
    "executionInfo": {
     "elapsed": 433,
     "status": "ok",
     "timestamp": 1650637047441,
     "user": {
      "displayName": "wien hong",
      "userId": "11131435925814580522"
     },
     "user_tz": -480
    },
    "id": "aT-3nNHBHfHO",
    "outputId": "b176dfc7-ec85-4eaa-b150-551173f3ceb6"
   },
   "outputs": [
    {
     "data": {
      "text/latex": [
       "$\\displaystyle - 4 y z + z^{3} + 4$"
      ],
      "text/plain": [
       "-4*y*z + z**3 + 4"
      ]
     },
     "execution_count": 11,
     "metadata": {},
     "output_type": "execute_result"
    }
   ],
   "source": [
    "ex.subs(x, 2)"
   ]
  },
  {
   "cell_type": "code",
   "execution_count": 12,
   "metadata": {
    "colab": {
     "base_uri": "https://localhost:8080/",
     "height": 38
    },
    "executionInfo": {
     "elapsed": 24,
     "status": "ok",
     "timestamp": 1650637047444,
     "user": {
      "displayName": "wien hong",
      "userId": "11131435925814580522"
     },
     "user_tz": -480
    },
    "id": "a8pdDD75HjLI",
    "outputId": "d1b8db6e-04ac-448c-812a-bd3c03feb6d5"
   },
   "outputs": [
    {
     "data": {
      "text/latex": [
       "$\\displaystyle z^{3} - 20 z + 4$"
      ],
      "text/plain": [
       "z**3 - 20*z + 4"
      ]
     },
     "execution_count": 12,
     "metadata": {},
     "output_type": "execute_result"
    }
   ],
   "source": [
    "ex.subs(x, 2).subs(y, 5)"
   ]
  },
  {
   "cell_type": "code",
   "execution_count": 13,
   "metadata": {
    "colab": {
     "base_uri": "https://localhost:8080/",
     "height": 38
    },
    "executionInfo": {
     "elapsed": 788,
     "status": "ok",
     "timestamp": 1650637048210,
     "user": {
      "displayName": "wien hong",
      "userId": "11131435925814580522"
     },
     "user_tz": -480
    },
    "id": "hvR27-gYH9Rl",
    "outputId": "18d85ec1-8dde-4411-d891-209db5c4cbe3"
   },
   "outputs": [
    {
     "data": {
      "text/latex": [
       "$\\displaystyle z^{3} - 20 z + 4$"
      ],
      "text/plain": [
       "z**3 - 20*z + 4"
      ]
     },
     "execution_count": 13,
     "metadata": {},
     "output_type": "execute_result"
    }
   ],
   "source": [
    "ex.subs({x: 2, y: 5})"
   ]
  },
  {
   "cell_type": "code",
   "execution_count": 14,
   "metadata": {
    "colab": {
     "base_uri": "https://localhost:8080/",
     "height": 37
    },
    "executionInfo": {
     "elapsed": 54,
     "status": "ok",
     "timestamp": 1650637048216,
     "user": {
      "displayName": "wien hong",
      "userId": "11131435925814580522"
     },
     "user_tz": -480
    },
    "id": "z2YrTeEMIGpl",
    "outputId": "be8364b8-b14c-47b1-be1d-dd2e4fc2fed2"
   },
   "outputs": [
    {
     "data": {
      "text/latex": [
       "$\\displaystyle 4$"
      ],
      "text/plain": [
       "4"
      ]
     },
     "execution_count": 14,
     "metadata": {},
     "output_type": "execute_result"
    }
   ],
   "source": [
    "ex.subs([(x, 2), (y, 5), (z, 0)])"
   ]
  },
  {
   "cell_type": "code",
   "execution_count": 15,
   "metadata": {
    "id": "mLYOLHvqIX8z"
   },
   "outputs": [],
   "source": [
    "alp, eps, dlt = sp.symbols('alpha,epsilon,Delta')"
   ]
  },
  {
   "cell_type": "code",
   "execution_count": 16,
   "metadata": {
    "colab": {
     "base_uri": "https://localhost:8080/",
     "height": 38
    },
    "executionInfo": {
     "elapsed": 53,
     "status": "ok",
     "timestamp": 1650637048218,
     "user": {
      "displayName": "wien hong",
      "userId": "11131435925814580522"
     },
     "user_tz": -480
    },
    "id": "6qkAhTG_LKS8",
    "outputId": "a98eb3af-4674-40ac-d78a-3d940cb0e6a7"
   },
   "outputs": [
    {
     "data": {
      "text/latex": [
       "$\\displaystyle \\Delta^{4} + \\Delta^{2} \\epsilon + \\alpha^{2}$"
      ],
      "text/plain": [
       "Delta**4 + Delta**2*epsilon + alpha**2"
      ]
     },
     "execution_count": 16,
     "metadata": {},
     "output_type": "execute_result"
    }
   ],
   "source": [
    "alp**2 + eps * dlt**2 + dlt**4"
   ]
  },
  {
   "cell_type": "code",
   "execution_count": 17,
   "metadata": {
    "colab": {
     "base_uri": "https://localhost:8080/",
     "height": 38
    },
    "executionInfo": {
     "elapsed": 52,
     "status": "ok",
     "timestamp": 1650637048219,
     "user": {
      "displayName": "wien hong",
      "userId": "11131435925814580522"
     },
     "user_tz": -480
    },
    "id": "kN5AZgf3Pt7_",
    "outputId": "cfb7d620-ed43-476f-999f-69ff4e68f7f3"
   },
   "outputs": [
    {
     "data": {
      "text/latex": [
       "$\\displaystyle a_{1}$"
      ],
      "text/plain": [
       "a1"
      ]
     },
     "execution_count": 17,
     "metadata": {},
     "output_type": "execute_result"
    }
   ],
   "source": [
    "sp.symbols('a1')"
   ]
  },
  {
   "cell_type": "code",
   "execution_count": 18,
   "metadata": {
    "colab": {
     "base_uri": "https://localhost:8080/",
     "height": 38
    },
    "executionInfo": {
     "elapsed": 52,
     "status": "ok",
     "timestamp": 1650637048220,
     "user": {
      "displayName": "wien hong",
      "userId": "11131435925814580522"
     },
     "user_tz": -480
    },
    "id": "yZlBNbWOUO4_",
    "outputId": "703cf754-48f8-4044-81ca-9f98118d144b"
   },
   "outputs": [
    {
     "data": {
      "text/plain": [
       "(a0, a1, a2, a3, a4)"
      ]
     },
     "execution_count": 18,
     "metadata": {},
     "output_type": "execute_result"
    }
   ],
   "source": [
    "sp.symbols('a:5')"
   ]
  },
  {
   "cell_type": "code",
   "execution_count": 19,
   "metadata": {
    "id": "noj1b9fJS4R1"
   },
   "outputs": [],
   "source": [
    "b1, b2, b3 = sp.symbols('b(1:4)')"
   ]
  },
  {
   "cell_type": "code",
   "execution_count": 20,
   "metadata": {
    "colab": {
     "base_uri": "https://localhost:8080/",
     "height": 52
    },
    "executionInfo": {
     "elapsed": 814,
     "status": "ok",
     "timestamp": 1650637048985,
     "user": {
      "displayName": "wien hong",
      "userId": "11131435925814580522"
     },
     "user_tz": -480
    },
    "id": "v842fT4AS1vG",
    "outputId": "c3dbb74a-c22a-4847-be69-db33904a33b7"
   },
   "outputs": [
    {
     "data": {
      "text/latex": [
       "$\\displaystyle b_{1}^{2} + b_{2} - \\frac{b_{3}}{4}$"
      ],
      "text/plain": [
       "b1**2 + b2 - b3/4"
      ]
     },
     "execution_count": 20,
     "metadata": {},
     "output_type": "execute_result"
    }
   ],
   "source": [
    "b1**2 + b2 - b3 / 4"
   ]
  },
  {
   "cell_type": "code",
   "execution_count": 21,
   "metadata": {
    "colab": {
     "base_uri": "https://localhost:8080/",
     "height": 37
    },
    "executionInfo": {
     "elapsed": 271,
     "status": "ok",
     "timestamp": 1650637048986,
     "user": {
      "displayName": "wien hong",
      "userId": "11131435925814580522"
     },
     "user_tz": -480
    },
    "id": "kbv2OsjbVuce",
    "outputId": "bc798cd6-39d3-4f30-8f6c-ee89629337cc"
   },
   "outputs": [
    {
     "data": {
      "text/latex": [
       "$\\displaystyle 24$"
      ],
      "text/plain": [
       "24"
      ]
     },
     "execution_count": 21,
     "metadata": {},
     "output_type": "execute_result"
    }
   ],
   "source": [
    "u = sp.S(24)\n",
    "u"
   ]
  },
  {
   "cell_type": "code",
   "execution_count": 22,
   "metadata": {
    "colab": {
     "base_uri": "https://localhost:8080/",
     "height": 37
    },
    "executionInfo": {
     "elapsed": 270,
     "status": "ok",
     "timestamp": 1650637048987,
     "user": {
      "displayName": "wien hong",
      "userId": "11131435925814580522"
     },
     "user_tz": -480
    },
    "id": "HhcSlk5YWe3U",
    "outputId": "0a802162-dc7e-462d-c821-e2b44ca11435"
   },
   "outputs": [
    {
     "data": {
      "text/latex": [
       "$\\displaystyle 52$"
      ],
      "text/plain": [
       "52"
      ]
     },
     "execution_count": 22,
     "metadata": {},
     "output_type": "execute_result"
    }
   ],
   "source": [
    "2 * u + 4"
   ]
  },
  {
   "cell_type": "code",
   "execution_count": 23,
   "metadata": {
    "colab": {
     "base_uri": "https://localhost:8080/",
     "height": 58
    },
    "executionInfo": {
     "elapsed": 269,
     "status": "ok",
     "timestamp": 1650637048988,
     "user": {
      "displayName": "wien hong",
      "userId": "11131435925814580522"
     },
     "user_tz": -480
    },
    "id": "9LJteJkdWmbb",
    "outputId": "a90eaa52-bfc3-43c6-8cf0-20dd446cf658"
   },
   "outputs": [
    {
     "data": {
      "text/plain": [
       "(3, 24/7)"
      ]
     },
     "execution_count": 23,
     "metadata": {},
     "output_type": "execute_result"
    }
   ],
   "source": [
    "u / 8, u / 7"
   ]
  },
  {
   "cell_type": "code",
   "execution_count": 24,
   "metadata": {
    "colab": {
     "base_uri": "https://localhost:8080/"
    },
    "executionInfo": {
     "elapsed": 268,
     "status": "ok",
     "timestamp": 1650637048989,
     "user": {
      "displayName": "wien hong",
      "userId": "11131435925814580522"
     },
     "user_tz": -480
    },
    "id": "bu6rxtP1WQ1-",
    "outputId": "6c897521-3053-469c-9feb-d00f6d755cf8"
   },
   "outputs": [
    {
     "data": {
      "text/plain": [
       "sympy.core.numbers.Integer"
      ]
     },
     "execution_count": 24,
     "metadata": {},
     "output_type": "execute_result"
    }
   ],
   "source": [
    "type(u)"
   ]
  },
  {
   "cell_type": "code",
   "execution_count": 25,
   "metadata": {
    "id": "g0jowBh7Wdhk"
   },
   "outputs": [],
   "source": [
    "v = 24"
   ]
  },
  {
   "cell_type": "code",
   "execution_count": 26,
   "metadata": {
    "colab": {
     "base_uri": "https://localhost:8080/"
    },
    "executionInfo": {
     "elapsed": 40,
     "status": "ok",
     "timestamp": 1650637048991,
     "user": {
      "displayName": "wien hong",
      "userId": "11131435925814580522"
     },
     "user_tz": -480
    },
    "id": "o_KCBNDrWxn1",
    "outputId": "ffbdd874-447e-4706-975f-95efddbdbbc3"
   },
   "outputs": [
    {
     "data": {
      "text/plain": [
       "int"
      ]
     },
     "execution_count": 26,
     "metadata": {},
     "output_type": "execute_result"
    }
   ],
   "source": [
    "type(v)"
   ]
  },
  {
   "cell_type": "code",
   "execution_count": 27,
   "metadata": {
    "colab": {
     "base_uri": "https://localhost:8080/",
     "height": 37
    },
    "executionInfo": {
     "elapsed": 34,
     "status": "ok",
     "timestamp": 1650637048992,
     "user": {
      "displayName": "wien hong",
      "userId": "11131435925814580522"
     },
     "user_tz": -480
    },
    "id": "VXWNArXIWztF",
    "outputId": "6c3279ac-d421-4a3e-fb6c-53ce1d86cf67"
   },
   "outputs": [
    {
     "data": {
      "text/plain": [
       "3.4285714285714284"
      ]
     },
     "execution_count": 27,
     "metadata": {},
     "output_type": "execute_result"
    }
   ],
   "source": [
    "v / 7"
   ]
  },
  {
   "cell_type": "code",
   "execution_count": 28,
   "metadata": {
    "colab": {
     "base_uri": "https://localhost:8080/",
     "height": 37
    },
    "executionInfo": {
     "elapsed": 34,
     "status": "ok",
     "timestamp": 1650637048993,
     "user": {
      "displayName": "wien hong",
      "userId": "11131435925814580522"
     },
     "user_tz": -480
    },
    "id": "7EGSHLwwW3Ey",
    "outputId": "82ecbf85-a384-46be-a7c2-2c3d5678b7df"
   },
   "outputs": [
    {
     "data": {
      "text/latex": [
       "$\\displaystyle 3.42857142857143$"
      ],
      "text/plain": [
       "3.42857142857143"
      ]
     },
     "execution_count": 28,
     "metadata": {},
     "output_type": "execute_result"
    }
   ],
   "source": [
    "(u / 7).evalf()"
   ]
  },
  {
   "cell_type": "code",
   "execution_count": 29,
   "metadata": {
    "colab": {
     "base_uri": "https://localhost:8080/",
     "height": 37
    },
    "executionInfo": {
     "elapsed": 34,
     "status": "ok",
     "timestamp": 1650637048994,
     "user": {
      "displayName": "wien hong",
      "userId": "11131435925814580522"
     },
     "user_tz": -480
    },
    "id": "eeqOa-gFM3Q2",
    "outputId": "4db20a89-565b-48d5-a045-1eb73523ea3b"
   },
   "outputs": [
    {
     "data": {
      "text/latex": [
       "$\\displaystyle 3.4285714285714285714$"
      ],
      "text/plain": [
       "3.4285714285714285714"
      ]
     },
     "execution_count": 29,
     "metadata": {},
     "output_type": "execute_result"
    }
   ],
   "source": [
    "(u / 7).evalf(20)"
   ]
  },
  {
   "cell_type": "code",
   "execution_count": 30,
   "metadata": {
    "colab": {
     "base_uri": "https://localhost:8080/",
     "height": 37
    },
    "executionInfo": {
     "elapsed": 728,
     "status": "ok",
     "timestamp": 1650637049689,
     "user": {
      "displayName": "wien hong",
      "userId": "11131435925814580522"
     },
     "user_tz": -480
    },
    "id": "yW1R_BMaM58f",
    "outputId": "9f72c74c-e90b-49a4-e9ec-76266a418fab"
   },
   "outputs": [
    {
     "data": {
      "text/latex": [
       "$\\displaystyle 3.42857142857142857142857142857$"
      ],
      "text/plain": [
       "3.42857142857142857142857142857"
      ]
     },
     "execution_count": 30,
     "metadata": {},
     "output_type": "execute_result"
    }
   ],
   "source": [
    "sp.N(u / 7, 30)"
   ]
  },
  {
   "cell_type": "code",
   "execution_count": 31,
   "metadata": {
    "colab": {
     "base_uri": "https://localhost:8080/",
     "height": 37
    },
    "executionInfo": {
     "elapsed": 191,
     "status": "ok",
     "timestamp": 1650637049690,
     "user": {
      "displayName": "wien hong",
      "userId": "11131435925814580522"
     },
     "user_tz": -480
    },
    "id": "M08Iwc9p-vca",
    "outputId": "5eb5240d-e719-45de-e5a6-7602006055d6"
   },
   "outputs": [
    {
     "data": {
      "text/plain": [
       "0.7857142857142857"
      ]
     },
     "execution_count": 31,
     "metadata": {},
     "output_type": "execute_result"
    }
   ],
   "source": [
    "11 / 14  # numerical result"
   ]
  },
  {
   "cell_type": "code",
   "execution_count": 32,
   "metadata": {
    "colab": {
     "base_uri": "https://localhost:8080/",
     "height": 51
    },
    "executionInfo": {
     "elapsed": 190,
     "status": "ok",
     "timestamp": 1650637049691,
     "user": {
      "displayName": "wien hong",
      "userId": "11131435925814580522"
     },
     "user_tz": -480
    },
    "id": "U8LDhCTb-ygH",
    "outputId": "b01c62d5-de21-4fea-e2b2-4db6cc2bd6e1"
   },
   "outputs": [
    {
     "data": {
      "text/latex": [
       "$\\displaystyle \\frac{25}{14}$"
      ],
      "text/plain": [
       "25/14"
      ]
     },
     "execution_count": 32,
     "metadata": {},
     "output_type": "execute_result"
    }
   ],
   "source": [
    "sp.Rational(11, 14) + 1"
   ]
  },
  {
   "cell_type": "code",
   "execution_count": 33,
   "metadata": {
    "colab": {
     "base_uri": "https://localhost:8080/",
     "height": 51
    },
    "executionInfo": {
     "elapsed": 189,
     "status": "ok",
     "timestamp": 1650637049692,
     "user": {
      "displayName": "wien hong",
      "userId": "11131435925814580522"
     },
     "user_tz": -480
    },
    "id": "4Dy-qrE3Tkop",
    "outputId": "58070a9b-9782-4e3f-e072-0622f9a85255"
   },
   "outputs": [
    {
     "data": {
      "text/latex": [
       "$\\displaystyle \\frac{11}{14}$"
      ],
      "text/plain": [
       "11/14"
      ]
     },
     "execution_count": 33,
     "metadata": {},
     "output_type": "execute_result"
    }
   ],
   "source": [
    "11 / sp.S('14')"
   ]
  },
  {
   "cell_type": "code",
   "execution_count": 34,
   "metadata": {
    "colab": {
     "base_uri": "https://localhost:8080/",
     "height": 51
    },
    "executionInfo": {
     "elapsed": 189,
     "status": "ok",
     "timestamp": 1650637049693,
     "user": {
      "displayName": "wien hong",
      "userId": "11131435925814580522"
     },
     "user_tz": -480
    },
    "id": "lsqgKNpr-1Qm",
    "outputId": "fcf6f24c-a3ea-403d-8590-83ba6fc3b0e9"
   },
   "outputs": [
    {
     "data": {
      "text/latex": [
       "$\\displaystyle \\frac{269}{182}$"
      ],
      "text/plain": [
       "269/182"
      ]
     },
     "execution_count": 34,
     "metadata": {},
     "output_type": "execute_result"
    }
   ],
   "source": [
    "sp.Rational(11, 14) + sp.Rational(9, 13)"
   ]
  },
  {
   "cell_type": "code",
   "execution_count": 35,
   "metadata": {
    "colab": {
     "base_uri": "https://localhost:8080/",
     "height": 37
    },
    "executionInfo": {
     "elapsed": 190,
     "status": "ok",
     "timestamp": 1650637049693,
     "user": {
      "displayName": "wien hong",
      "userId": "11131435925814580522"
     },
     "user_tz": -480
    },
    "id": "q9jfXxZK6KWd",
    "outputId": "6fb63c63-0c4f-4615-ccf7-718a20f73eaa"
   },
   "outputs": [
    {
     "data": {
      "text/latex": [
       "$\\displaystyle 1.28571428571429$"
      ],
      "text/plain": [
       "1.28571428571429"
      ]
     },
     "execution_count": 35,
     "metadata": {},
     "output_type": "execute_result"
    }
   ],
   "source": [
    "sp.Rational(11, 14) + 0.5"
   ]
  },
  {
   "cell_type": "code",
   "execution_count": 36,
   "metadata": {
    "colab": {
     "base_uri": "https://localhost:8080/",
     "height": 51
    },
    "executionInfo": {
     "elapsed": 189,
     "status": "ok",
     "timestamp": 1650637049694,
     "user": {
      "displayName": "wien hong",
      "userId": "11131435925814580522"
     },
     "user_tz": -480
    },
    "id": "vQPnlK6RNePA",
    "outputId": "165cc16d-c786-4a04-ad86-f8bca6a69563"
   },
   "outputs": [
    {
     "data": {
      "text/latex": [
       "$\\displaystyle \\frac{1}{4}$"
      ],
      "text/plain": [
       "1/4"
      ]
     },
     "execution_count": 36,
     "metadata": {},
     "output_type": "execute_result"
    }
   ],
   "source": [
    "r = sp.Rational(0.25)\n",
    "r"
   ]
  },
  {
   "cell_type": "code",
   "execution_count": 37,
   "metadata": {
    "colab": {
     "base_uri": "https://localhost:8080/"
    },
    "executionInfo": {
     "elapsed": 190,
     "status": "ok",
     "timestamp": 1650637049696,
     "user": {
      "displayName": "wien hong",
      "userId": "11131435925814580522"
     },
     "user_tz": -480
    },
    "id": "yFSlKCnDTaBO",
    "outputId": "3e3d8efd-fda4-4a40-8ecf-93fffc94677d"
   },
   "outputs": [
    {
     "data": {
      "text/plain": [
       "sympy.core.numbers.Rational"
      ]
     },
     "execution_count": 37,
     "metadata": {},
     "output_type": "execute_result"
    }
   ],
   "source": [
    "type(r)"
   ]
  },
  {
   "cell_type": "code",
   "execution_count": 38,
   "metadata": {
    "colab": {
     "base_uri": "https://localhost:8080/",
     "height": 37
    },
    "executionInfo": {
     "elapsed": 60,
     "status": "ok",
     "timestamp": 1650637049697,
     "user": {
      "displayName": "wien hong",
      "userId": "11131435925814580522"
     },
     "user_tz": -480
    },
    "id": "zLFv8oUGTbss",
    "outputId": "67734b4c-39b4-4c3a-e47c-279372b38420"
   },
   "outputs": [
    {
     "data": {
      "text/plain": [
       "(1, 4)"
      ]
     },
     "execution_count": 38,
     "metadata": {},
     "output_type": "execute_result"
    }
   ],
   "source": [
    "r.p, r.q"
   ]
  },
  {
   "cell_type": "markdown",
   "metadata": {
    "id": "z8YfvhDQ3Q_n"
   },
   "source": [
    "### 13.1.2 常數物件"
   ]
  },
  {
   "cell_type": "code",
   "execution_count": 39,
   "metadata": {
    "colab": {
     "base_uri": "https://localhost:8080/",
     "height": 38
    },
    "executionInfo": {
     "elapsed": 61,
     "status": "ok",
     "timestamp": 1650637049699,
     "user": {
      "displayName": "wien hong",
      "userId": "11131435925814580522"
     },
     "user_tz": -480
    },
    "id": "bA28NHKT3lrs",
    "outputId": "bffc7590-1bb8-4dea-b5fe-1e352f7baadc"
   },
   "outputs": [
    {
     "data": {
      "text/latex": [
       "$\\displaystyle 1 + \\pi^{2}$"
      ],
      "text/plain": [
       "1 + pi**2"
      ]
     },
     "execution_count": 39,
     "metadata": {},
     "output_type": "execute_result"
    }
   ],
   "source": [
    "sp.pi**2 + 1"
   ]
  },
  {
   "cell_type": "code",
   "execution_count": 40,
   "metadata": {
    "colab": {
     "base_uri": "https://localhost:8080/",
     "height": 38
    },
    "executionInfo": {
     "elapsed": 60,
     "status": "ok",
     "timestamp": 1650637049700,
     "user": {
      "displayName": "wien hong",
      "userId": "11131435925814580522"
     },
     "user_tz": -480
    },
    "id": "AStUCOTD4KqY",
    "outputId": "d1a2846e-2749-4ae6-874c-5e63642f947e"
   },
   "outputs": [
    {
     "data": {
      "text/latex": [
       "$\\displaystyle e^{\\pi}$"
      ],
      "text/plain": [
       "exp(pi)"
      ]
     },
     "execution_count": 40,
     "metadata": {},
     "output_type": "execute_result"
    }
   ],
   "source": [
    "sp.exp(1)**sp.pi"
   ]
  },
  {
   "cell_type": "code",
   "execution_count": 41,
   "metadata": {
    "colab": {
     "base_uri": "https://localhost:8080/",
     "height": 38
    },
    "executionInfo": {
     "elapsed": 60,
     "status": "ok",
     "timestamp": 1650637049701,
     "user": {
      "displayName": "wien hong",
      "userId": "11131435925814580522"
     },
     "user_tz": -480
    },
    "id": "piGYQi0A5fCD",
    "outputId": "6a9e3f44-6210-4289-8c68-388ee379e619"
   },
   "outputs": [
    {
     "data": {
      "text/latex": [
       "$\\displaystyle 6 + e^{2}$"
      ],
      "text/plain": [
       "6 + exp(2)"
      ]
     },
     "execution_count": 41,
     "metadata": {},
     "output_type": "execute_result"
    }
   ],
   "source": [
    "sp.E**2 + 6"
   ]
  },
  {
   "cell_type": "code",
   "execution_count": 42,
   "metadata": {
    "colab": {
     "base_uri": "https://localhost:8080/",
     "height": 37
    },
    "executionInfo": {
     "elapsed": 61,
     "status": "ok",
     "timestamp": 1650637049703,
     "user": {
      "displayName": "wien hong",
      "userId": "11131435925814580522"
     },
     "user_tz": -480
    },
    "id": "OnnFjMnX4oP5",
    "outputId": "e7046d56-6ab0-4c9a-df3e-d64fdfe9a84e"
   },
   "outputs": [
    {
     "data": {
      "text/latex": [
       "$\\displaystyle \\infty$"
      ],
      "text/plain": [
       "oo"
      ]
     },
     "execution_count": 42,
     "metadata": {},
     "output_type": "execute_result"
    }
   ],
   "source": [
    "sp.oo + 5"
   ]
  },
  {
   "cell_type": "code",
   "execution_count": 43,
   "metadata": {
    "colab": {
     "base_uri": "https://localhost:8080/",
     "height": 38
    },
    "executionInfo": {
     "elapsed": 1411,
     "status": "ok",
     "timestamp": 1650637051055,
     "user": {
      "displayName": "wien hong",
      "userId": "11131435925814580522"
     },
     "user_tz": -480
    },
    "id": "3Xv7Whsz4uwZ",
    "outputId": "fca41c34-4257-46b2-9ed7-06fb6c2d7e04"
   },
   "outputs": [
    {
     "data": {
      "text/latex": [
       "$\\displaystyle 5 + 7 i$"
      ],
      "text/plain": [
       "5 + 7*I"
      ]
     },
     "execution_count": 43,
     "metadata": {},
     "output_type": "execute_result"
    }
   ],
   "source": [
    "5 + 7 * sp.I"
   ]
  },
  {
   "cell_type": "code",
   "execution_count": 44,
   "metadata": {
    "colab": {
     "base_uri": "https://localhost:8080/",
     "height": 37
    },
    "executionInfo": {
     "elapsed": 65,
     "status": "ok",
     "timestamp": 1650637051056,
     "user": {
      "displayName": "wien hong",
      "userId": "11131435925814580522"
     },
     "user_tz": -480
    },
    "id": "14JQDMQC5sw5",
    "outputId": "c20c7334-4353-49cc-937d-5cec79c59a26"
   },
   "outputs": [
    {
     "data": {
      "text/latex": [
       "$\\displaystyle 0$"
      ],
      "text/plain": [
       "0"
      ]
     },
     "execution_count": 44,
     "metadata": {},
     "output_type": "execute_result"
    }
   ],
   "source": [
    "sp.E**(sp.I * sp.pi) + 1"
   ]
  },
  {
   "cell_type": "code",
   "execution_count": 45,
   "metadata": {
    "id": "EGVoNC6k6Zok"
   },
   "outputs": [],
   "source": [
    "z = sp.UnevaluatedExpr(sp.E)"
   ]
  },
  {
   "cell_type": "code",
   "execution_count": 46,
   "metadata": {
    "id": "7WU_Ykfgv5L_"
   },
   "outputs": [],
   "source": [
    "ex = z**(sp.I * sp.pi) + 1"
   ]
  },
  {
   "cell_type": "code",
   "execution_count": 47,
   "metadata": {
    "colab": {
     "base_uri": "https://localhost:8080/",
     "height": 38
    },
    "executionInfo": {
     "elapsed": 65,
     "status": "ok",
     "timestamp": 1650637051058,
     "user": {
      "displayName": "wien hong",
      "userId": "11131435925814580522"
     },
     "user_tz": -480
    },
    "id": "VRu5npT5lTa8",
    "outputId": "58757074-fa16-42fa-a621-bcd6cc46f192"
   },
   "outputs": [
    {
     "data": {
      "text/latex": [
       "$\\displaystyle 1 + e^{i \\pi}$"
      ],
      "text/plain": [
       "1 + E**(I*pi)"
      ]
     },
     "execution_count": 47,
     "metadata": {},
     "output_type": "execute_result"
    }
   ],
   "source": [
    "ex"
   ]
  },
  {
   "cell_type": "code",
   "execution_count": 48,
   "metadata": {
    "colab": {
     "base_uri": "https://localhost:8080/",
     "height": 37
    },
    "executionInfo": {
     "elapsed": 65,
     "status": "ok",
     "timestamp": 1650637051059,
     "user": {
      "displayName": "wien hong",
      "userId": "11131435925814580522"
     },
     "user_tz": -480
    },
    "id": "c8RafrAf7j3B",
    "outputId": "00012fc7-07d9-425f-c569-750a1ff85fdd"
   },
   "outputs": [
    {
     "data": {
      "text/latex": [
       "$\\displaystyle 0$"
      ],
      "text/plain": [
       "0"
      ]
     },
     "execution_count": 48,
     "metadata": {},
     "output_type": "execute_result"
    }
   ],
   "source": [
    "ex.doit()"
   ]
  },
  {
   "cell_type": "code",
   "execution_count": 49,
   "metadata": {
    "colab": {
     "base_uri": "https://localhost:8080/",
     "height": 38
    },
    "executionInfo": {
     "elapsed": 64,
     "status": "ok",
     "timestamp": 1650637051060,
     "user": {
      "displayName": "wien hong",
      "userId": "11131435925814580522"
     },
     "user_tz": -480
    },
    "id": "UBU1W84o6hDL",
    "outputId": "50475e8c-00a2-476d-bec5-c684243c6a2b"
   },
   "outputs": [
    {
     "data": {
      "text/latex": [
       "$\\displaystyle e^{i \\pi} + 1$"
      ],
      "text/plain": [
       "exp(I*pi) + 1"
      ]
     },
     "execution_count": 49,
     "metadata": {},
     "output_type": "execute_result"
    }
   ],
   "source": [
    "ex = sp.E**(sp.I * sp.symbols('pi')) + 1\n",
    "ex"
   ]
  },
  {
   "cell_type": "code",
   "execution_count": 50,
   "metadata": {
    "colab": {
     "base_uri": "https://localhost:8080/",
     "height": 37
    },
    "executionInfo": {
     "elapsed": 63,
     "status": "ok",
     "timestamp": 1650637051061,
     "user": {
      "displayName": "wien hong",
      "userId": "11131435925814580522"
     },
     "user_tz": -480
    },
    "id": "f91ZCPLe7IIu",
    "outputId": "9f00747b-99f5-4c2a-a48b-d88fda368005"
   },
   "outputs": [
    {
     "data": {
      "text/latex": [
       "$\\displaystyle 0$"
      ],
      "text/plain": [
       "0"
      ]
     },
     "execution_count": 50,
     "metadata": {},
     "output_type": "execute_result"
    }
   ],
   "source": [
    "ex.subs(sp.symbols('pi'), sp.pi).doit()"
   ]
  },
  {
   "cell_type": "markdown",
   "metadata": {
    "id": "lLH27R4A3cr6"
   },
   "source": [
    "### 13.1.3 變數的性質"
   ]
  },
  {
   "cell_type": "code",
   "execution_count": 51,
   "metadata": {
    "id": "eK1vs576aUqX"
   },
   "outputs": [],
   "source": [
    "alp = sp.symbols('alpha')"
   ]
  },
  {
   "cell_type": "code",
   "execution_count": 52,
   "metadata": {
    "colab": {
     "base_uri": "https://localhost:8080/",
     "height": 39
    },
    "executionInfo": {
     "elapsed": 63,
     "status": "ok",
     "timestamp": 1650637051062,
     "user": {
      "displayName": "wien hong",
      "userId": "11131435925814580522"
     },
     "user_tz": -480
    },
    "id": "NAjVfyZjzHVy",
    "outputId": "53c7332e-b614-494d-acd9-500897eba0af"
   },
   "outputs": [
    {
     "data": {
      "text/latex": [
       "$\\displaystyle \\sqrt{\\alpha^{2}}$"
      ],
      "text/plain": [
       "sqrt(alpha**2)"
      ]
     },
     "execution_count": 52,
     "metadata": {},
     "output_type": "execute_result"
    }
   ],
   "source": [
    "sp.sqrt(alp**2)"
   ]
  },
  {
   "cell_type": "code",
   "execution_count": 53,
   "metadata": {
    "colab": {
     "base_uri": "https://localhost:8080/",
     "height": 38
    },
    "executionInfo": {
     "elapsed": 63,
     "status": "ok",
     "timestamp": 1650637051063,
     "user": {
      "displayName": "wien hong",
      "userId": "11131435925814580522"
     },
     "user_tz": -480
    },
    "id": "Ic4PFW3TzTZK",
    "outputId": "58f851c6-4f77-4ac8-b00c-c7fe9c0d7947"
   },
   "outputs": [
    {
     "data": {
      "text/latex": [
       "$\\displaystyle \\pi$"
      ],
      "text/plain": [
       "pi"
      ]
     },
     "execution_count": 53,
     "metadata": {},
     "output_type": "execute_result"
    }
   ],
   "source": [
    "sp.sqrt(sp.pi**2)"
   ]
  },
  {
   "cell_type": "code",
   "execution_count": 54,
   "metadata": {
    "id": "uQM0tc6SzaF4"
   },
   "outputs": [],
   "source": [
    "alp = sp.symbols('alpha', positive=True)"
   ]
  },
  {
   "cell_type": "code",
   "execution_count": 55,
   "metadata": {
    "colab": {
     "base_uri": "https://localhost:8080/",
     "height": 38
    },
    "executionInfo": {
     "elapsed": 65,
     "status": "ok",
     "timestamp": 1650637051066,
     "user": {
      "displayName": "wien hong",
      "userId": "11131435925814580522"
     },
     "user_tz": -480
    },
    "id": "vf77zmPj0YtE",
    "outputId": "4040f3fb-e032-4192-83e4-b7d516184c24"
   },
   "outputs": [
    {
     "data": {
      "text/latex": [
       "$\\displaystyle \\alpha$"
      ],
      "text/plain": [
       "alpha"
      ]
     },
     "execution_count": 55,
     "metadata": {},
     "output_type": "execute_result"
    }
   ],
   "source": [
    "sp.sqrt(alp**2)"
   ]
  },
  {
   "cell_type": "code",
   "execution_count": 56,
   "metadata": {
    "id": "3Lf53bXK0nqs"
   },
   "outputs": [],
   "source": [
    "x = sp.Symbol('x', even=True)"
   ]
  },
  {
   "cell_type": "code",
   "execution_count": 57,
   "metadata": {
    "colab": {
     "base_uri": "https://localhost:8080/"
    },
    "executionInfo": {
     "elapsed": 65,
     "status": "ok",
     "timestamp": 1650637051067,
     "user": {
      "displayName": "wien hong",
      "userId": "11131435925814580522"
     },
     "user_tz": -480
    },
    "id": "jgIyymKK9ZQ4",
    "outputId": "507c3c52-27d0-4cf2-e0ef-4f91ccc29744"
   },
   "outputs": [
    {
     "data": {
      "text/plain": [
       "True"
      ]
     },
     "execution_count": 57,
     "metadata": {},
     "output_type": "execute_result"
    }
   ],
   "source": [
    "x.is_integer"
   ]
  },
  {
   "cell_type": "code",
   "execution_count": 58,
   "metadata": {
    "id": "X4OAuTkG9kri"
   },
   "outputs": [],
   "source": [
    "x.is_positive"
   ]
  },
  {
   "cell_type": "code",
   "execution_count": 59,
   "metadata": {
    "id": "uDZL6dhH1BJZ"
   },
   "outputs": [],
   "source": [
    "y = x + 0.3"
   ]
  },
  {
   "cell_type": "code",
   "execution_count": 60,
   "metadata": {
    "colab": {
     "base_uri": "https://localhost:8080/"
    },
    "executionInfo": {
     "elapsed": 50,
     "status": "ok",
     "timestamp": 1650637051070,
     "user": {
      "displayName": "wien hong",
      "userId": "11131435925814580522"
     },
     "user_tz": -480
    },
    "id": "6Xo5NfQT1b8y",
    "outputId": "4220f988-1a11-4519-f56c-998ad4f91697"
   },
   "outputs": [
    {
     "data": {
      "text/plain": [
       "False"
      ]
     },
     "execution_count": 60,
     "metadata": {},
     "output_type": "execute_result"
    }
   ],
   "source": [
    "y.is_integer"
   ]
  },
  {
   "cell_type": "code",
   "execution_count": 61,
   "metadata": {
    "id": "X3dYPrkE8uKm"
   },
   "outputs": [],
   "source": [
    "a = sp.Symbol('a', real=True)"
   ]
  },
  {
   "cell_type": "code",
   "execution_count": 62,
   "metadata": {
    "colab": {
     "base_uri": "https://localhost:8080/",
     "height": 38
    },
    "executionInfo": {
     "elapsed": 101,
     "status": "ok",
     "timestamp": 1650637051845,
     "user": {
      "displayName": "wien hong",
      "userId": "11131435925814580522"
     },
     "user_tz": -480
    },
    "id": "5T6cnfmz9OPi",
    "outputId": "90c6853f-9d3e-44fb-d9b7-97e4e82669f0"
   },
   "outputs": [
    {
     "data": {
      "text/latex": [
       "$\\displaystyle \\left|{a}\\right|$"
      ],
      "text/plain": [
       "Abs(a)"
      ]
     },
     "execution_count": 62,
     "metadata": {},
     "output_type": "execute_result"
    }
   ],
   "source": [
    "sp.sqrt(a**2)"
   ]
  },
  {
   "cell_type": "markdown",
   "metadata": {
    "id": "BjX0V-DOFdbg"
   },
   "source": [
    "### 13.1.4 將數學式轉成 Latex"
   ]
  },
  {
   "cell_type": "code",
   "execution_count": 63,
   "metadata": {
    "colab": {
     "base_uri": "https://localhost:8080/",
     "height": 55
    },
    "executionInfo": {
     "elapsed": 104,
     "status": "ok",
     "timestamp": 1650637051850,
     "user": {
      "displayName": "wien hong",
      "userId": "11131435925814580522"
     },
     "user_tz": -480
    },
    "id": "7tgSQPlhFctN",
    "outputId": "83aadff2-ac77-4bf5-f6fa-001d9fdbe62d"
   },
   "outputs": [
    {
     "data": {
      "text/latex": [
       "$\\displaystyle \\frac{e^{2}}{1 + \\pi} + 3$"
      ],
      "text/plain": [
       "exp(2)/(1 + pi) + 3"
      ]
     },
     "execution_count": 63,
     "metadata": {},
     "output_type": "execute_result"
    }
   ],
   "source": [
    "ex = sp.E**2 / (1 + sp.pi) + 3\n",
    "ex"
   ]
  },
  {
   "cell_type": "code",
   "execution_count": 64,
   "metadata": {
    "colab": {
     "base_uri": "https://localhost:8080/"
    },
    "executionInfo": {
     "elapsed": 104,
     "status": "ok",
     "timestamp": 1650637051852,
     "user": {
      "displayName": "wien hong",
      "userId": "11131435925814580522"
     },
     "user_tz": -480
    },
    "id": "fMUTw1OmGXUC",
    "outputId": "2bd0c96a-7ba4-427d-f841-bf19ebf36579"
   },
   "outputs": [
    {
     "name": "stdout",
     "output_type": "stream",
     "text": [
      "\\frac{e^{2}}{1 + \\pi} + 3\n"
     ]
    }
   ],
   "source": [
    "print(sp.latex(ex))"
   ]
  },
  {
   "cell_type": "markdown",
   "metadata": {
    "id": "WJyAZPwDGgfa"
   },
   "source": [
    "<font color=#1EA004>☘ </font> 數學式： $\\frac{e^{2}}{1 + \\pi} + 3$"
   ]
  },
  {
   "cell_type": "markdown",
   "metadata": {
    "id": "U8-IuXNJHk0v"
   },
   "source": [
    "<font color=#1EA004>☘ </font> 方程式置中：$$\\frac{e^{2}}{1 + \\pi} + 3$$ "
   ]
  },
  {
   "cell_type": "markdown",
   "metadata": {
    "id": "I_kChFyWDdvj"
   },
   "source": [
    "## 13.2 基本代數運算"
   ]
  },
  {
   "cell_type": "code",
   "execution_count": 65,
   "metadata": {
    "id": "7HsqW80yLlZV"
   },
   "outputs": [],
   "source": [
    "a, b, x = sp.symbols('a,b,x')"
   ]
  },
  {
   "cell_type": "markdown",
   "metadata": {
    "id": "SjqptbzJDnIp"
   },
   "source": [
    "### 13.2.1 Sympy 提供的數學函數"
   ]
  },
  {
   "cell_type": "code",
   "execution_count": 66,
   "metadata": {
    "colab": {
     "base_uri": "https://localhost:8080/",
     "height": 38
    },
    "executionInfo": {
     "elapsed": 97,
     "status": "ok",
     "timestamp": 1650637051856,
     "user": {
      "displayName": "wien hong",
      "userId": "11131435925814580522"
     },
     "user_tz": -480
    },
    "id": "rxnJ5iArLyGp",
    "outputId": "a6b549e2-e657-4a50-ecb1-7960d076b195"
   },
   "outputs": [
    {
     "data": {
      "text/latex": [
       "$\\displaystyle a + \\sin{\\left(a^{2} \\right)} + \\cos^{2}{\\left(b \\right)}$"
      ],
      "text/plain": [
       "a + sin(a**2) + cos(b)**2"
      ]
     },
     "execution_count": 66,
     "metadata": {},
     "output_type": "execute_result"
    }
   ],
   "source": [
    "a + sp.sin(a**2) + sp.cos(b)**2"
   ]
  },
  {
   "cell_type": "code",
   "execution_count": 67,
   "metadata": {
    "colab": {
     "base_uri": "https://localhost:8080/",
     "height": 40
    },
    "executionInfo": {
     "elapsed": 97,
     "status": "ok",
     "timestamp": 1650637051858,
     "user": {
      "displayName": "wien hong",
      "userId": "11131435925814580522"
     },
     "user_tz": -480
    },
    "id": "0ey_LoTSL3ua",
    "outputId": "1dac39f1-f88c-406e-8353-1de2147e6daa"
   },
   "outputs": [
    {
     "data": {
      "text/latex": [
       "$\\displaystyle \\sqrt{\\tan{\\left(b \\right)}} + \\left|{a}\\right|$"
      ],
      "text/plain": [
       "sqrt(tan(b)) + Abs(a)"
      ]
     },
     "execution_count": 67,
     "metadata": {},
     "output_type": "execute_result"
    }
   ],
   "source": [
    "sp.Abs(a) + sp.sqrt(sp.tan(b))"
   ]
  },
  {
   "cell_type": "code",
   "execution_count": 68,
   "metadata": {
    "colab": {
     "base_uri": "https://localhost:8080/",
     "height": 38
    },
    "executionInfo": {
     "elapsed": 95,
     "status": "ok",
     "timestamp": 1650637051858,
     "user": {
      "displayName": "wien hong",
      "userId": "11131435925814580522"
     },
     "user_tz": -480
    },
    "id": "KcFc2fC7wikK",
    "outputId": "5166ce21-0140-4296-9022-640004de563e"
   },
   "outputs": [
    {
     "data": {
      "text/latex": [
       "$\\displaystyle \\left|{a^{2} + 5}\\right|$"
      ],
      "text/plain": [
       "Abs(a**2 + 5)"
      ]
     },
     "execution_count": 68,
     "metadata": {},
     "output_type": "execute_result"
    }
   ],
   "source": [
    "abs(a**2 + 5)"
   ]
  },
  {
   "cell_type": "code",
   "execution_count": 69,
   "metadata": {
    "id": "K5UZxH1jMxtH"
   },
   "outputs": [],
   "source": [
    "d = sp.symbols('d', negative=True)"
   ]
  },
  {
   "cell_type": "code",
   "execution_count": 70,
   "metadata": {
    "colab": {
     "base_uri": "https://localhost:8080/",
     "height": 38
    },
    "executionInfo": {
     "elapsed": 92,
     "status": "ok",
     "timestamp": 1650637051862,
     "user": {
      "displayName": "wien hong",
      "userId": "11131435925814580522"
     },
     "user_tz": -480
    },
    "id": "fAWXrnvvO8vX",
    "outputId": "c35dc1e3-9cd9-452b-8be1-dba0f4a40010"
   },
   "outputs": [
    {
     "data": {
      "text/latex": [
       "$\\displaystyle - d$"
      ],
      "text/plain": [
       "-d"
      ]
     },
     "execution_count": 70,
     "metadata": {},
     "output_type": "execute_result"
    }
   ],
   "source": [
    "sp.Abs(d)"
   ]
  },
  {
   "cell_type": "code",
   "execution_count": 71,
   "metadata": {
    "colab": {
     "base_uri": "https://localhost:8080/",
     "height": 38
    },
    "executionInfo": {
     "elapsed": 91,
     "status": "ok",
     "timestamp": 1650637051863,
     "user": {
      "displayName": "wien hong",
      "userId": "11131435925814580522"
     },
     "user_tz": -480
    },
    "id": "mzpE_35uBSK1",
    "outputId": "ddd6a44e-ca87-4e52-87b1-a431d8eb8eeb"
   },
   "outputs": [
    {
     "data": {
      "text/latex": [
       "$\\displaystyle \\pi$"
      ],
      "text/plain": [
       "pi"
      ]
     },
     "execution_count": 71,
     "metadata": {},
     "output_type": "execute_result"
    }
   ],
   "source": [
    "sp.Max(d, sp.pi, sp.E)"
   ]
  },
  {
   "cell_type": "code",
   "execution_count": 72,
   "metadata": {
    "colab": {
     "base_uri": "https://localhost:8080/",
     "height": 38
    },
    "executionInfo": {
     "elapsed": 90,
     "status": "ok",
     "timestamp": 1650637051863,
     "user": {
      "displayName": "wien hong",
      "userId": "11131435925814580522"
     },
     "user_tz": -480
    },
    "id": "5lZPpv9qBc6T",
    "outputId": "01f7793f-748e-4d6c-98f3-929ce226b464"
   },
   "outputs": [
    {
     "data": {
      "text/latex": [
       "$\\displaystyle \\pi^{e}$"
      ],
      "text/plain": [
       "pi**E"
      ]
     },
     "execution_count": 72,
     "metadata": {},
     "output_type": "execute_result"
    }
   ],
   "source": [
    "sp.Min(sp.pi**sp.E, sp.E**sp.pi)"
   ]
  },
  {
   "cell_type": "code",
   "execution_count": 73,
   "metadata": {
    "colab": {
     "base_uri": "https://localhost:8080/",
     "height": 57
    },
    "executionInfo": {
     "elapsed": 93,
     "status": "ok",
     "timestamp": 1650637051867,
     "user": {
      "displayName": "wien hong",
      "userId": "11131435925814580522"
     },
     "user_tz": -480
    },
    "id": "R8NQpFnSO95q",
    "outputId": "2ef84c43-f360-4316-c824-d5964b071bc3"
   },
   "outputs": [
    {
     "data": {
      "text/latex": [
       "$\\displaystyle \\frac{\\log{\\left(a \\right)}}{\\log{\\left(b \\right)}}$"
      ],
      "text/plain": [
       "log(a)/log(b)"
      ]
     },
     "execution_count": 73,
     "metadata": {},
     "output_type": "execute_result"
    }
   ],
   "source": [
    "sp.log(a, b)"
   ]
  },
  {
   "cell_type": "code",
   "execution_count": 74,
   "metadata": {
    "colab": {
     "base_uri": "https://localhost:8080/",
     "height": 37
    },
    "executionInfo": {
     "elapsed": 93,
     "status": "ok",
     "timestamp": 1650637051868,
     "user": {
      "displayName": "wien hong",
      "userId": "11131435925814580522"
     },
     "user_tz": -480
    },
    "id": "qHxaZS2-Pqkl",
    "outputId": "5a972d70-da43-4348-f3ca-f1f10fbf7473"
   },
   "outputs": [
    {
     "data": {
      "text/latex": [
       "$\\displaystyle 9$"
      ],
      "text/plain": [
       "9"
      ]
     },
     "execution_count": 74,
     "metadata": {},
     "output_type": "execute_result"
    }
   ],
   "source": [
    "sp.log(512, 2)"
   ]
  },
  {
   "cell_type": "code",
   "execution_count": 75,
   "metadata": {
    "colab": {
     "base_uri": "https://localhost:8080/",
     "height": 39
    },
    "executionInfo": {
     "elapsed": 95,
     "status": "ok",
     "timestamp": 1650637051871,
     "user": {
      "displayName": "wien hong",
      "userId": "11131435925814580522"
     },
     "user_tz": -480
    },
    "id": "MgjoqfD_wDUK",
    "outputId": "6f7227c9-6b59-4c93-aa5d-84b5925cc0ea"
   },
   "outputs": [
    {
     "data": {
      "text/latex": [
       "$\\displaystyle 2 \\cdot \\sqrt[3]{3}$"
      ],
      "text/plain": [
       "2*3**(1/3)"
      ]
     },
     "execution_count": 75,
     "metadata": {},
     "output_type": "execute_result"
    }
   ],
   "source": [
    "sp.root(24, 3)"
   ]
  },
  {
   "cell_type": "code",
   "execution_count": 76,
   "metadata": {
    "colab": {
     "base_uri": "https://localhost:8080/",
     "height": 38
    },
    "executionInfo": {
     "elapsed": 96,
     "status": "ok",
     "timestamp": 1650637051873,
     "user": {
      "displayName": "wien hong",
      "userId": "11131435925814580522"
     },
     "user_tz": -480
    },
    "id": "4t5YgiFNwNMb",
    "outputId": "188a15da-42d8-4561-dc3d-79de3633399a"
   },
   "outputs": [
    {
     "data": {
      "text/latex": [
       "$\\displaystyle x!$"
      ],
      "text/plain": [
       "factorial(x)"
      ]
     },
     "execution_count": 76,
     "metadata": {},
     "output_type": "execute_result"
    }
   ],
   "source": [
    "sp.factorial(x)"
   ]
  },
  {
   "cell_type": "markdown",
   "metadata": {
    "id": "WqBzTBbBP2iy"
   },
   "source": [
    "### 13.2.2 多項式與分式的運算"
   ]
  },
  {
   "cell_type": "code",
   "execution_count": 77,
   "metadata": {
    "id": "b0CQaOEpMbwy"
   },
   "outputs": [],
   "source": [
    "a, b, x = sp.symbols('a,b,x')"
   ]
  },
  {
   "cell_type": "code",
   "execution_count": 78,
   "metadata": {
    "colab": {
     "base_uri": "https://localhost:8080/",
     "height": 38
    },
    "executionInfo": {
     "elapsed": 96,
     "status": "ok",
     "timestamp": 1650637051875,
     "user": {
      "displayName": "wien hong",
      "userId": "11131435925814580522"
     },
     "user_tz": -480
    },
    "id": "6kGHRPuAVI_c",
    "outputId": "93a53737-6bb9-4d5c-8c66-85565767da30"
   },
   "outputs": [
    {
     "data": {
      "text/latex": [
       "$\\displaystyle a^{3} + 3 a^{2} b + 3 a b^{2} + b^{3}$"
      ],
      "text/plain": [
       "a**3 + 3*a**2*b + 3*a*b**2 + b**3"
      ]
     },
     "execution_count": 78,
     "metadata": {},
     "output_type": "execute_result"
    }
   ],
   "source": [
    "ex = sp.expand((a + b)**3)\n",
    "ex"
   ]
  },
  {
   "cell_type": "code",
   "execution_count": 79,
   "metadata": {
    "colab": {
     "base_uri": "https://localhost:8080/",
     "height": 39
    },
    "executionInfo": {
     "elapsed": 97,
     "status": "ok",
     "timestamp": 1650637051877,
     "user": {
      "displayName": "wien hong",
      "userId": "11131435925814580522"
     },
     "user_tz": -480
    },
    "id": "E4yujdBeWUiQ",
    "outputId": "7cab070b-fc2e-42b1-a477-29ecc94728fb"
   },
   "outputs": [
    {
     "data": {
      "text/latex": [
       "$\\displaystyle \\left(a + b\\right)^{3}$"
      ],
      "text/plain": [
       "(a + b)**3"
      ]
     },
     "execution_count": 79,
     "metadata": {},
     "output_type": "execute_result"
    }
   ],
   "source": [
    "sp.factor(ex)"
   ]
  },
  {
   "cell_type": "code",
   "execution_count": 80,
   "metadata": {
    "colab": {
     "base_uri": "https://localhost:8080/",
     "height": 38
    },
    "executionInfo": {
     "elapsed": 1657,
     "status": "ok",
     "timestamp": 1650637053442,
     "user": {
      "displayName": "wien hong",
      "userId": "11131435925814580522"
     },
     "user_tz": -480
    },
    "id": "_19S6nogVVCZ",
    "outputId": "c1d657b8-0e64-4c4c-f254-082043b2a79d"
   },
   "outputs": [
    {
     "data": {
      "text/latex": [
       "$\\displaystyle \\sin{\\left(a \\right)} \\cos{\\left(b \\right)} + \\sin{\\left(b \\right)} \\cos{\\left(a \\right)}$"
      ],
      "text/plain": [
       "sin(a)*cos(b) + sin(b)*cos(a)"
      ]
     },
     "execution_count": 80,
     "metadata": {},
     "output_type": "execute_result"
    }
   ],
   "source": [
    "ex = sp.expand(sp.sin(a + b), trig=True)\n",
    "ex"
   ]
  },
  {
   "cell_type": "code",
   "execution_count": 81,
   "metadata": {
    "colab": {
     "base_uri": "https://localhost:8080/",
     "height": 38
    },
    "executionInfo": {
     "elapsed": 35,
     "status": "ok",
     "timestamp": 1650637053443,
     "user": {
      "displayName": "wien hong",
      "userId": "11131435925814580522"
     },
     "user_tz": -480
    },
    "id": "lOjEvtNUWaJa",
    "outputId": "59f937da-dfd2-4c98-dcd6-90b0c4ae065a"
   },
   "outputs": [
    {
     "data": {
      "text/latex": [
       "$\\displaystyle \\sin{\\left(a \\right)} \\cos{\\left(b \\right)} + \\sin{\\left(b \\right)} \\cos{\\left(a \\right)}$"
      ],
      "text/plain": [
       "sin(a)*cos(b) + sin(b)*cos(a)"
      ]
     },
     "execution_count": 81,
     "metadata": {},
     "output_type": "execute_result"
    }
   ],
   "source": [
    "sp.factor(ex)"
   ]
  },
  {
   "cell_type": "code",
   "execution_count": 82,
   "metadata": {
    "colab": {
     "base_uri": "https://localhost:8080/",
     "height": 38
    },
    "executionInfo": {
     "elapsed": 35,
     "status": "ok",
     "timestamp": 1650637053444,
     "user": {
      "displayName": "wien hong",
      "userId": "11131435925814580522"
     },
     "user_tz": -480
    },
    "id": "ghsAvXVcW-Xp",
    "outputId": "3d0bb94e-48f6-497d-cbbe-e4a60e3e7617"
   },
   "outputs": [
    {
     "data": {
      "text/latex": [
       "$\\displaystyle \\sin{\\left(a + b \\right)}$"
      ],
      "text/plain": [
       "sin(a + b)"
      ]
     },
     "execution_count": 82,
     "metadata": {},
     "output_type": "execute_result"
    }
   ],
   "source": [
    "sp.simplify(ex)"
   ]
  },
  {
   "cell_type": "code",
   "execution_count": 83,
   "metadata": {
    "colab": {
     "base_uri": "https://localhost:8080/",
     "height": 38
    },
    "executionInfo": {
     "elapsed": 35,
     "status": "ok",
     "timestamp": 1650637053445,
     "user": {
      "displayName": "wien hong",
      "userId": "11131435925814580522"
     },
     "user_tz": -480
    },
    "id": "nZ4UhGGaVabF",
    "outputId": "dcda72d6-bff1-4817-d84a-35170ef6b61b"
   },
   "outputs": [
    {
     "data": {
      "text/latex": [
       "$\\displaystyle 2 \\sin{\\left(a \\right)} \\cos{\\left(a \\right)}$"
      ],
      "text/plain": [
       "2*sin(a)*cos(a)"
      ]
     },
     "execution_count": 83,
     "metadata": {},
     "output_type": "execute_result"
    }
   ],
   "source": [
    "sp.expand(sp.sin(2 * a), trig=True)"
   ]
  },
  {
   "cell_type": "code",
   "execution_count": 84,
   "metadata": {
    "colab": {
     "base_uri": "https://localhost:8080/",
     "height": 38
    },
    "executionInfo": {
     "elapsed": 35,
     "status": "ok",
     "timestamp": 1650637053446,
     "user": {
      "displayName": "wien hong",
      "userId": "11131435925814580522"
     },
     "user_tz": -480
    },
    "id": "6SnvC9eFVkCl",
    "outputId": "6fcc69f0-1757-4e2f-96e8-45040cd83b39"
   },
   "outputs": [
    {
     "data": {
      "text/latex": [
       "$\\displaystyle a \\left(a - 3\\right) \\left(a + 1\\right)$"
      ],
      "text/plain": [
       "a*(a - 3)*(a + 1)"
      ]
     },
     "execution_count": 84,
     "metadata": {},
     "output_type": "execute_result"
    }
   ],
   "source": [
    "sp.factor(a**3 - 2 * a**2 - 3 * a)"
   ]
  },
  {
   "cell_type": "code",
   "execution_count": 85,
   "metadata": {
    "colab": {
     "base_uri": "https://localhost:8080/",
     "height": 53
    },
    "executionInfo": {
     "elapsed": 444,
     "status": "ok",
     "timestamp": 1650637053856,
     "user": {
      "displayName": "wien hong",
      "userId": "11131435925814580522"
     },
     "user_tz": -480
    },
    "id": "e_0fLF3fabK7",
    "outputId": "8d1275c4-89a6-443f-d3e5-c7142a97b3f4"
   },
   "outputs": [
    {
     "data": {
      "text/latex": [
       "$\\displaystyle \\frac{\\sin{\\left(4 x \\right)}}{2}$"
      ],
      "text/plain": [
       "sin(4*x)/2"
      ]
     },
     "execution_count": 85,
     "metadata": {},
     "output_type": "execute_result"
    }
   ],
   "source": [
    "sp.simplify(sp.sin(2 * x) * sp.cos(2 * x))"
   ]
  },
  {
   "cell_type": "code",
   "execution_count": 86,
   "metadata": {
    "colab": {
     "base_uri": "https://localhost:8080/",
     "height": 38
    },
    "executionInfo": {
     "elapsed": 38,
     "status": "ok",
     "timestamp": 1650637053857,
     "user": {
      "displayName": "wien hong",
      "userId": "11131435925814580522"
     },
     "user_tz": -480
    },
    "id": "xHJ-mUN3adbf",
    "outputId": "717f0d98-f0c0-4aec-f1d9-3a11c25d89b8"
   },
   "outputs": [
    {
     "data": {
      "text/latex": [
       "$\\displaystyle \\sin{\\left(2 x \\right)}$"
      ],
      "text/plain": [
       "sin(2*x)"
      ]
     },
     "execution_count": 86,
     "metadata": {},
     "output_type": "execute_result"
    }
   ],
   "source": [
    "sp.trigsimp(2 * sp.sin(x) * sp.cos(x))"
   ]
  },
  {
   "cell_type": "code",
   "execution_count": 87,
   "metadata": {
    "colab": {
     "base_uri": "https://localhost:8080/",
     "height": 38
    },
    "executionInfo": {
     "elapsed": 36,
     "status": "ok",
     "timestamp": 1650637053857,
     "user": {
      "displayName": "wien hong",
      "userId": "11131435925814580522"
     },
     "user_tz": -480
    },
    "id": "9I6Z5-sKXyxH",
    "outputId": "1f61bc9e-e5f1-4a40-fbc8-547be6abcdc0"
   },
   "outputs": [
    {
     "data": {
      "text/latex": [
       "$\\displaystyle x^{2} + x \\left(a^{2} + a\\right) + 3$"
      ],
      "text/plain": [
       "x**2 + x*(a**2 + a) + 3"
      ]
     },
     "execution_count": 87,
     "metadata": {},
     "output_type": "execute_result"
    }
   ],
   "source": [
    "sp.collect(x**2 + x * a**2 + a * x + 3, x)"
   ]
  },
  {
   "cell_type": "code",
   "execution_count": 88,
   "metadata": {
    "colab": {
     "base_uri": "https://localhost:8080/",
     "height": 38
    },
    "executionInfo": {
     "elapsed": 35,
     "status": "ok",
     "timestamp": 1650637053858,
     "user": {
      "displayName": "wien hong",
      "userId": "11131435925814580522"
     },
     "user_tz": -480
    },
    "id": "aPmvrEqWYL0d",
    "outputId": "21a1d687-ee3f-4576-d1b1-632b8530a621"
   },
   "outputs": [
    {
     "data": {
      "text/latex": [
       "$\\displaystyle a^{2} x + a x + x^{2} + 3$"
      ],
      "text/plain": [
       "a**2*x + a*x + x**2 + 3"
      ]
     },
     "execution_count": 88,
     "metadata": {},
     "output_type": "execute_result"
    }
   ],
   "source": [
    "sp.collect(x**2 + x * a**2 + a * x + 3, a)"
   ]
  },
  {
   "cell_type": "code",
   "execution_count": 89,
   "metadata": {
    "colab": {
     "base_uri": "https://localhost:8080/",
     "height": 52
    },
    "executionInfo": {
     "elapsed": 35,
     "status": "ok",
     "timestamp": 1650637053859,
     "user": {
      "displayName": "wien hong",
      "userId": "11131435925814580522"
     },
     "user_tz": -480
    },
    "id": "eqO7latbZ8K4",
    "outputId": "cc6feb2f-c06c-4a7b-e611-dbcd2b14f28e"
   },
   "outputs": [
    {
     "data": {
      "text/latex": [
       "$\\displaystyle \\frac{a - 2}{a^{3} + 6 a^{2} - a - 30}$"
      ],
      "text/plain": [
       "(a - 2)/(a**3 + 6*a**2 - a - 30)"
      ]
     },
     "execution_count": 89,
     "metadata": {},
     "output_type": "execute_result"
    }
   ],
   "source": [
    "ex = (a - 2) / (a**3 + 6 * a**2 - a - 30)\n",
    "ex"
   ]
  },
  {
   "cell_type": "code",
   "execution_count": 90,
   "metadata": {
    "colab": {
     "base_uri": "https://localhost:8080/",
     "height": 52
    },
    "executionInfo": {
     "elapsed": 35,
     "status": "ok",
     "timestamp": 1650637053860,
     "user": {
      "displayName": "wien hong",
      "userId": "11131435925814580522"
     },
     "user_tz": -480
    },
    "id": "eyzdqGYiaGJ5",
    "outputId": "630e0729-1448-40eb-83aa-f0af44c8d01d"
   },
   "outputs": [
    {
     "data": {
      "text/latex": [
       "$\\displaystyle \\frac{1}{a^{2} + 8 a + 15}$"
      ],
      "text/plain": [
       "1/(a**2 + 8*a + 15)"
      ]
     },
     "execution_count": 90,
     "metadata": {},
     "output_type": "execute_result"
    }
   ],
   "source": [
    "sp.cancel(ex)"
   ]
  },
  {
   "cell_type": "code",
   "execution_count": 91,
   "metadata": {
    "colab": {
     "base_uri": "https://localhost:8080/",
     "height": 55
    },
    "executionInfo": {
     "elapsed": 35,
     "status": "ok",
     "timestamp": 1650637053861,
     "user": {
      "displayName": "wien hong",
      "userId": "11131435925814580522"
     },
     "user_tz": -480
    },
    "id": "8Z3-BFU7aJno",
    "outputId": "51ec0db1-5e1b-48c3-ac76-cfc8ac205e73"
   },
   "outputs": [
    {
     "data": {
      "text/latex": [
       "$\\displaystyle - \\frac{1}{2 \\left(a + 5\\right)} + \\frac{1}{2 \\left(a + 3\\right)}$"
      ],
      "text/plain": [
       "-1/(2*(a + 5)) + 1/(2*(a + 3))"
      ]
     },
     "execution_count": 91,
     "metadata": {},
     "output_type": "execute_result"
    }
   ],
   "source": [
    "sp.apart(ex)"
   ]
  },
  {
   "cell_type": "code",
   "execution_count": 92,
   "metadata": {
    "colab": {
     "base_uri": "https://localhost:8080/",
     "height": 55
    },
    "executionInfo": {
     "elapsed": 34,
     "status": "ok",
     "timestamp": 1650637053862,
     "user": {
      "displayName": "wien hong",
      "userId": "11131435925814580522"
     },
     "user_tz": -480
    },
    "id": "o3Wl_wwe82tO",
    "outputId": "896aabc9-0ce0-4cbd-c959-a1b8c212f4b8"
   },
   "outputs": [
    {
     "data": {
      "text/latex": [
       "$\\displaystyle - \\frac{a + 4}{12 \\left(a^{2} + 2 a + 4\\right)} + \\frac{1}{12 \\left(a - 2\\right)}$"
      ],
      "text/plain": [
       "-(a + 4)/(12*(a**2 + 2*a + 4)) + 1/(12*(a - 2))"
      ]
     },
     "execution_count": 92,
     "metadata": {},
     "output_type": "execute_result"
    }
   ],
   "source": [
    "sp.apart(1 / (a**3 - 8))"
   ]
  },
  {
   "cell_type": "markdown",
   "metadata": {
    "id": "yMoRhTB_rKWX"
   },
   "source": [
    "### 13.2.3 定義函數與建立函數物件"
   ]
  },
  {
   "cell_type": "code",
   "execution_count": 93,
   "metadata": {
    "id": "nUyWly91CVpB"
   },
   "outputs": [],
   "source": [
    "a, b, x = sp.symbols('a,b,x')"
   ]
  },
  {
   "cell_type": "code",
   "execution_count": 94,
   "metadata": {
    "colab": {
     "base_uri": "https://localhost:8080/",
     "height": 38
    },
    "executionInfo": {
     "elapsed": 333,
     "status": "ok",
     "timestamp": 1650637054163,
     "user": {
      "displayName": "wien hong",
      "userId": "11131435925814580522"
     },
     "user_tz": -480
    },
    "id": "X_X-9DoHSLzY",
    "outputId": "503f67cc-f67e-4c1e-f11c-00b1cbb81cee"
   },
   "outputs": [
    {
     "data": {
      "text/latex": [
       "$\\displaystyle b^{4} + 3$"
      ],
      "text/plain": [
       "b**4 + 3"
      ]
     },
     "execution_count": 94,
     "metadata": {},
     "output_type": "execute_result"
    }
   ],
   "source": [
    "(a**2 + 3).subs({a: b**2})"
   ]
  },
  {
   "cell_type": "code",
   "execution_count": 95,
   "metadata": {
    "id": "4cD3LCT5zYAT"
   },
   "outputs": [],
   "source": [
    "f = sp.lambdify(a, a**2 + 3)"
   ]
  },
  {
   "cell_type": "code",
   "execution_count": 96,
   "metadata": {
    "colab": {
     "base_uri": "https://localhost:8080/",
     "height": 38
    },
    "executionInfo": {
     "elapsed": 18,
     "status": "ok",
     "timestamp": 1650637054167,
     "user": {
      "displayName": "wien hong",
      "userId": "11131435925814580522"
     },
     "user_tz": -480
    },
    "id": "kJh9DJS0ScnX",
    "outputId": "df3c38be-afcf-490e-fc05-2f8cbe27e074"
   },
   "outputs": [
    {
     "data": {
      "text/latex": [
       "$\\displaystyle b^{4} + 3$"
      ],
      "text/plain": [
       "b**4 + 3"
      ]
     },
     "execution_count": 96,
     "metadata": {},
     "output_type": "execute_result"
    }
   ],
   "source": [
    "f(b**2)"
   ]
  },
  {
   "cell_type": "code",
   "execution_count": 97,
   "metadata": {
    "colab": {
     "base_uri": "https://localhost:8080/",
     "height": 47
    },
    "executionInfo": {
     "elapsed": 543,
     "status": "ok",
     "timestamp": 1650637054694,
     "user": {
      "displayName": "wien hong",
      "userId": "11131435925814580522"
     },
     "user_tz": -480
    },
    "id": "V5OB4jpM0EaR",
    "outputId": "cd829345-7eba-4208-805e-ef6f753cb97f"
   },
   "outputs": [
    {
     "data": {
      "text/plain": [
       "(a**2 + 3, 13.240000000000002, (sin(a) + E)**2 + 3)"
      ]
     },
     "execution_count": 97,
     "metadata": {},
     "output_type": "execute_result"
    }
   ],
   "source": [
    "f(a), f(3.2), f(sp.sin(a) + sp.E)"
   ]
  },
  {
   "cell_type": "code",
   "execution_count": 98,
   "metadata": {
    "colab": {
     "base_uri": "https://localhost:8080/"
    },
    "executionInfo": {
     "elapsed": 80,
     "status": "ok",
     "timestamp": 1650637054695,
     "user": {
      "displayName": "wien hong",
      "userId": "11131435925814580522"
     },
     "user_tz": -480
    },
    "id": "UKCNBbn80Qzn",
    "outputId": "e6beab05-5361-4e5a-d0c6-0e95cd1d1a8c"
   },
   "outputs": [
    {
     "data": {
      "text/plain": [
       "array([ 4,  3, 12, 39], dtype=int32)"
      ]
     },
     "execution_count": 98,
     "metadata": {},
     "output_type": "execute_result"
    }
   ],
   "source": [
    "f(np.array([-1, 0, 3, 6]))"
   ]
  },
  {
   "cell_type": "code",
   "execution_count": 99,
   "metadata": {
    "id": "SMqiEcFG4r0P"
   },
   "outputs": [],
   "source": [
    "f = sp.lambdify([a, b], a**2 + b**2)"
   ]
  },
  {
   "cell_type": "code",
   "execution_count": 100,
   "metadata": {
    "colab": {
     "base_uri": "https://localhost:8080/",
     "height": 37
    },
    "executionInfo": {
     "elapsed": 64,
     "status": "ok",
     "timestamp": 1650637054696,
     "user": {
      "displayName": "wien hong",
      "userId": "11131435925814580522"
     },
     "user_tz": -480
    },
    "id": "2LZYZi1b5E_y",
    "outputId": "7cc32cbe-d103-42fb-c9ed-0976e8406f31"
   },
   "outputs": [
    {
     "data": {
      "text/plain": [
       "25"
      ]
     },
     "execution_count": 100,
     "metadata": {},
     "output_type": "execute_result"
    }
   ],
   "source": [
    "f(3, 4)"
   ]
  },
  {
   "cell_type": "code",
   "execution_count": 101,
   "metadata": {
    "colab": {
     "base_uri": "https://localhost:8080/",
     "height": 38
    },
    "executionInfo": {
     "elapsed": 61,
     "status": "ok",
     "timestamp": 1650637054696,
     "user": {
      "displayName": "wien hong",
      "userId": "11131435925814580522"
     },
     "user_tz": -480
    },
    "id": "NIWb9yjH4xLn",
    "outputId": "3f1e9e64-b292-44f8-9f44-92bb38fc4368"
   },
   "outputs": [
    {
     "data": {
      "text/latex": [
       "$\\displaystyle \\sin^{2}{\\left(x \\right)} + \\cos^{2}{\\left(x \\right)}$"
      ],
      "text/plain": [
       "sin(x)**2 + cos(x)**2"
      ]
     },
     "execution_count": 101,
     "metadata": {},
     "output_type": "execute_result"
    }
   ],
   "source": [
    "f(sp.sin(x), sp.cos(x))"
   ]
  },
  {
   "cell_type": "code",
   "execution_count": 102,
   "metadata": {
    "id": "h9Zah0cywgKI"
   },
   "outputs": [],
   "source": [
    "def g(x):\n",
    "  t = 4 * x - 1\n",
    "  return sp.cos(t)**2 + 2"
   ]
  },
  {
   "cell_type": "code",
   "execution_count": 103,
   "metadata": {
    "colab": {
     "base_uri": "https://localhost:8080/",
     "height": 38
    },
    "executionInfo": {
     "elapsed": 504,
     "status": "ok",
     "timestamp": 1650637055141,
     "user": {
      "displayName": "wien hong",
      "userId": "11131435925814580522"
     },
     "user_tz": -480
    },
    "id": "uw4up3j-wzjZ",
    "outputId": "f14e5262-35ac-4045-a5a2-02468470584e"
   },
   "outputs": [
    {
     "data": {
      "text/latex": [
       "$\\displaystyle \\cos^{2}{\\left(4 x - 1 \\right)} + 2$"
      ],
      "text/plain": [
       "cos(4*x - 1)**2 + 2"
      ]
     },
     "execution_count": 103,
     "metadata": {},
     "output_type": "execute_result"
    }
   ],
   "source": [
    "g(x)"
   ]
  },
  {
   "cell_type": "code",
   "execution_count": 104,
   "metadata": {
    "colab": {
     "base_uri": "https://localhost:8080/",
     "height": 48
    },
    "executionInfo": {
     "elapsed": 22,
     "status": "ok",
     "timestamp": 1650637055142,
     "user": {
      "displayName": "wien hong",
      "userId": "11131435925814580522"
     },
     "user_tz": -480
    },
    "id": "1AdIpkZBw5LP",
    "outputId": "b9a123c7-5fa1-4862-82f1-c372e9608ad6"
   },
   "outputs": [
    {
     "data": {
      "text/latex": [
       "$\\displaystyle \\cos^{2}{\\left(4 x - 1 + \\frac{\\pi}{3} \\right)} + 2$"
      ],
      "text/plain": [
       "cos(4*x - 1 + pi/3)**2 + 2"
      ]
     },
     "execution_count": 104,
     "metadata": {},
     "output_type": "execute_result"
    }
   ],
   "source": [
    "g(x + sp.pi / 3)"
   ]
  },
  {
   "cell_type": "code",
   "execution_count": 105,
   "metadata": {
    "colab": {
     "base_uri": "https://localhost:8080/",
     "height": 37
    },
    "executionInfo": {
     "elapsed": 21,
     "status": "ok",
     "timestamp": 1650637055143,
     "user": {
      "displayName": "wien hong",
      "userId": "11131435925814580522"
     },
     "user_tz": -480
    },
    "id": "Wi4W_9lGxDK3",
    "outputId": "8a5b1594-ebd7-4ad3-b800-81c48ea578ff"
   },
   "outputs": [
    {
     "data": {
      "text/latex": [
       "$\\displaystyle 2.28615084419082$"
      ],
      "text/plain": [
       "2.28615084419082"
      ]
     },
     "execution_count": 105,
     "metadata": {},
     "output_type": "execute_result"
    }
   ],
   "source": [
    "g(3.14)"
   ]
  },
  {
   "cell_type": "code",
   "execution_count": 106,
   "metadata": {
    "id": "ldgYnEfPr63B"
   },
   "outputs": [],
   "source": [
    "f = sp.Function('f')"
   ]
  },
  {
   "cell_type": "code",
   "execution_count": 107,
   "metadata": {
    "colab": {
     "base_uri": "https://localhost:8080/",
     "height": 38
    },
    "executionInfo": {
     "elapsed": 951,
     "status": "ok",
     "timestamp": 1650637056078,
     "user": {
      "displayName": "wien hong",
      "userId": "11131435925814580522"
     },
     "user_tz": -480
    },
    "id": "pKacEHOIvmzB",
    "outputId": "9801ee92-b09f-481d-8770-827a845c3fcc"
   },
   "outputs": [
    {
     "data": {
      "text/latex": [
       "$\\displaystyle 4 x + f^{2}{\\left(x \\right)}$"
      ],
      "text/plain": [
       "4*x + f(x)**2"
      ]
     },
     "execution_count": 107,
     "metadata": {},
     "output_type": "execute_result"
    }
   ],
   "source": [
    "f(x)**2 + 4 * x"
   ]
  },
  {
   "cell_type": "code",
   "execution_count": 108,
   "metadata": {
    "colab": {
     "base_uri": "https://localhost:8080/",
     "height": 38
    },
    "executionInfo": {
     "elapsed": 42,
     "status": "ok",
     "timestamp": 1650637056079,
     "user": {
      "displayName": "wien hong",
      "userId": "11131435925814580522"
     },
     "user_tz": -480
    },
    "id": "y1mYVw-5vxMD",
    "outputId": "193f5ec4-fc35-4822-e112-f43368a5dd99"
   },
   "outputs": [
    {
     "data": {
      "text/latex": [
       "$\\displaystyle f{\\left(2 x + \\sin{\\left(x \\right)} \\right)}$"
      ],
      "text/plain": [
       "f(2*x + sin(x))"
      ]
     },
     "execution_count": 108,
     "metadata": {},
     "output_type": "execute_result"
    }
   ],
   "source": [
    "f(sp.sin(x) + 2 * x)"
   ]
  },
  {
   "cell_type": "code",
   "execution_count": 109,
   "metadata": {
    "colab": {
     "base_uri": "https://localhost:8080/",
     "height": 52
    },
    "executionInfo": {
     "elapsed": 41,
     "status": "ok",
     "timestamp": 1650637056080,
     "user": {
      "displayName": "wien hong",
      "userId": "11131435925814580522"
     },
     "user_tz": -480
    },
    "id": "djc5ki2xv8MT",
    "outputId": "ad80a4b9-093c-46c7-b838-e489a9aa947c"
   },
   "outputs": [
    {
     "data": {
      "text/latex": [
       "$\\displaystyle \\frac{d}{d x} f{\\left(x \\right)}$"
      ],
      "text/plain": [
       "Derivative(f(x), x)"
      ]
     },
     "execution_count": 109,
     "metadata": {},
     "output_type": "execute_result"
    }
   ],
   "source": [
    "f(x).diff(x)"
   ]
  },
  {
   "cell_type": "code",
   "execution_count": 110,
   "metadata": {
    "colab": {
     "base_uri": "https://localhost:8080/",
     "height": 61
    },
    "executionInfo": {
     "elapsed": 35,
     "status": "ok",
     "timestamp": 1650637056081,
     "user": {
      "displayName": "wien hong",
      "userId": "11131435925814580522"
     },
     "user_tz": -480
    },
    "id": "tLT8rS9lwIC0",
    "outputId": "6e163610-40a1-4fd3-efdb-05860320bb6f"
   },
   "outputs": [
    {
     "data": {
      "text/latex": [
       "$\\displaystyle \\left. \\frac{d^{2}}{d x^{2}} f{\\left(x \\right)} \\right|_{\\substack{ x=0 }}$"
      ],
      "text/plain": [
       "Subs(Derivative(f(x), (x, 2)), x, 0)"
      ]
     },
     "execution_count": 110,
     "metadata": {},
     "output_type": "execute_result"
    }
   ],
   "source": [
    "f(x).diff(x, 2).subs(x, 0)"
   ]
  },
  {
   "cell_type": "markdown",
   "metadata": {
    "id": "OaCagP9Z-7Aa"
   },
   "source": [
    "## 13.3 解方程式"
   ]
  },
  {
   "cell_type": "code",
   "execution_count": 111,
   "metadata": {
    "id": "4hG8-lMdA8lZ"
   },
   "outputs": [],
   "source": [
    "a, b, c, x, y = sp.symbols('a,b,c,x,y')"
   ]
  },
  {
   "cell_type": "code",
   "execution_count": 112,
   "metadata": {
    "colab": {
     "base_uri": "https://localhost:8080/",
     "height": 59
    },
    "executionInfo": {
     "elapsed": 561,
     "status": "ok",
     "timestamp": 1650637056615,
     "user": {
      "displayName": "wien hong",
      "userId": "11131435925814580522"
     },
     "user_tz": -480
    },
    "id": "tIc1LF5m_V1Q",
    "outputId": "077a619d-4a91-43fb-c289-e09b2ff24525"
   },
   "outputs": [
    {
     "data": {
      "text/plain": [
       "[-sqrt(4*a + 9)/2 - 3/2, sqrt(4*a + 9)/2 - 3/2]"
      ]
     },
     "execution_count": 112,
     "metadata": {},
     "output_type": "execute_result"
    }
   ],
   "source": [
    "sp.solve(x**2 + 3 * x - a, x)"
   ]
  },
  {
   "cell_type": "code",
   "execution_count": 113,
   "metadata": {
    "colab": {
     "base_uri": "https://localhost:8080/",
     "height": 58
    },
    "executionInfo": {
     "elapsed": 50,
     "status": "ok",
     "timestamp": 1650637056616,
     "user": {
      "displayName": "wien hong",
      "userId": "11131435925814580522"
     },
     "user_tz": -480
    },
    "id": "EOs9uopRA991",
    "outputId": "c3142d5f-2ebd-4d3d-deea-3319be240f7a"
   },
   "outputs": [
    {
     "data": {
      "text/plain": [
       "{x: 3/5, y: 1/10}"
      ]
     },
     "execution_count": 113,
     "metadata": {},
     "output_type": "execute_result"
    }
   ],
   "source": [
    "sp.solve([x + 4 * y - 1, 2 * x - 2 * y - 1], [x, y])"
   ]
  },
  {
   "cell_type": "code",
   "execution_count": 114,
   "metadata": {
    "colab": {
     "base_uri": "https://localhost:8080/",
     "height": 58
    },
    "executionInfo": {
     "elapsed": 48,
     "status": "ok",
     "timestamp": 1650637056618,
     "user": {
      "displayName": "wien hong",
      "userId": "11131435925814580522"
     },
     "user_tz": -480
    },
    "id": "Kb3IOF6CBqsE",
    "outputId": "ed50ec0c-27ff-45a4-c238-fa82018a8538"
   },
   "outputs": [
    {
     "data": {
      "text/plain": [
       "[(-1, 0), (1/2, 3/4)]"
      ]
     },
     "execution_count": 114,
     "metadata": {},
     "output_type": "execute_result"
    }
   ],
   "source": [
    "sp.solve([x**2 + y - 1, x - 2 * y + 1], [x, y])"
   ]
  },
  {
   "cell_type": "code",
   "execution_count": 115,
   "metadata": {
    "colab": {
     "base_uri": "https://localhost:8080/",
     "height": 37
    },
    "executionInfo": {
     "elapsed": 48,
     "status": "ok",
     "timestamp": 1650637056621,
     "user": {
      "displayName": "wien hong",
      "userId": "11131435925814580522"
     },
     "user_tz": -480
    },
    "id": "S-PRvmQpB6WS",
    "outputId": "50fb0734-408a-4cac-fb7d-74bea56b7652"
   },
   "outputs": [
    {
     "data": {
      "text/latex": [
       "$\\displaystyle 0$"
      ],
      "text/plain": [
       "0"
      ]
     },
     "execution_count": 115,
     "metadata": {},
     "output_type": "execute_result"
    }
   ],
   "source": [
    "(x**2 + y - 1).subs({x: -1, y: 0})"
   ]
  },
  {
   "cell_type": "code",
   "execution_count": 116,
   "metadata": {
    "colab": {
     "base_uri": "https://localhost:8080/",
     "height": 37
    },
    "executionInfo": {
     "elapsed": 46,
     "status": "ok",
     "timestamp": 1650637056622,
     "user": {
      "displayName": "wien hong",
      "userId": "11131435925814580522"
     },
     "user_tz": -480
    },
    "id": "vYu3Wn4-Ch9m",
    "outputId": "eb753be5-8f1d-40cf-b506-a7b74086a999"
   },
   "outputs": [
    {
     "data": {
      "text/latex": [
       "$\\displaystyle 0$"
      ],
      "text/plain": [
       "0"
      ]
     },
     "execution_count": 116,
     "metadata": {},
     "output_type": "execute_result"
    }
   ],
   "source": [
    "(x - 2 * y + 1).subs({x: -1, y: 0})"
   ]
  },
  {
   "cell_type": "code",
   "execution_count": 117,
   "metadata": {
    "colab": {
     "base_uri": "https://localhost:8080/",
     "height": 68
    },
    "executionInfo": {
     "elapsed": 675,
     "status": "ok",
     "timestamp": 1650637057254,
     "user": {
      "displayName": "wien hong",
      "userId": "11131435925814580522"
     },
     "user_tz": -480
    },
    "id": "mRbjgX6oCxto",
    "outputId": "d818d406-39b4-4895-e16e-eb42ee0cfa19"
   },
   "outputs": [
    {
     "data": {
      "text/plain": [
       "[(-b - sqrt(-4*a*c + b**2))/(2*a), (-b + sqrt(-4*a*c + b**2))/(2*a)]"
      ]
     },
     "execution_count": 117,
     "metadata": {},
     "output_type": "execute_result"
    }
   ],
   "source": [
    "sp.solve(a * x**2 + b * x + c, x)"
   ]
  },
  {
   "cell_type": "code",
   "execution_count": 118,
   "metadata": {
    "colab": {
     "base_uri": "https://localhost:8080/",
     "height": 47
    },
    "executionInfo": {
     "elapsed": 2172,
     "status": "ok",
     "timestamp": 1650637059412,
     "user": {
      "displayName": "wien hong",
      "userId": "11131435925814580522"
     },
     "user_tz": -480
    },
    "id": "jlxAyyZ3DVxP",
    "outputId": "ec80295d-84ae-4757-c62c-f30bce730774"
   },
   "outputs": [
    {
     "data": {
      "text/plain": [
       "[-sqrt(log(9)), sqrt(log(9))]"
      ]
     },
     "execution_count": 118,
     "metadata": {},
     "output_type": "execute_result"
    }
   ],
   "source": [
    "sp.solve(sp.exp(x**2) - 9, x)"
   ]
  },
  {
   "cell_type": "code",
   "execution_count": 119,
   "metadata": {
    "colab": {
     "base_uri": "https://localhost:8080/",
     "height": 68
    },
    "executionInfo": {
     "elapsed": 21,
     "status": "ok",
     "timestamp": 1650637059413,
     "user": {
      "displayName": "wien hong",
      "userId": "11131435925814580522"
     },
     "user_tz": -480
    },
    "id": "1Hfvk3oYEBd7",
    "outputId": "ecfdeefe-ae4c-41da-853b-9a0e7665af88"
   },
   "outputs": [
    {
     "data": {
      "text/plain": [
       "[-1, -1/2 + sqrt(5)/2, -sqrt(5)/2 - 1/2]"
      ]
     },
     "execution_count": 119,
     "metadata": {},
     "output_type": "execute_result"
    }
   ],
   "source": [
    "sp.solve(a**3 + 2 * a**2 - 1, a)"
   ]
  },
  {
   "cell_type": "code",
   "execution_count": 120,
   "metadata": {
    "colab": {
     "base_uri": "https://localhost:8080/",
     "height": 37
    },
    "executionInfo": {
     "elapsed": 20,
     "status": "ok",
     "timestamp": 1650637059414,
     "user": {
      "displayName": "wien hong",
      "userId": "11131435925814580522"
     },
     "user_tz": -480
    },
    "id": "cz3lYkv-FuNZ",
    "outputId": "696b8911-30ce-4d4b-b66d-8a3eb6c1f291"
   },
   "outputs": [
    {
     "data": {
      "text/plain": [
       "[-1.618, -1.000, 0.6180]"
      ]
     },
     "execution_count": 120,
     "metadata": {},
     "output_type": "execute_result"
    }
   ],
   "source": [
    "sp.nroots(a**3 + 2 * a**2 - 1, 4)"
   ]
  },
  {
   "cell_type": "code",
   "execution_count": 121,
   "metadata": {
    "id": "hQRQqIs_JIIR"
   },
   "outputs": [],
   "source": [
    "f = 4 * sp.cos(3 * x) - x**3"
   ]
  },
  {
   "cell_type": "code",
   "execution_count": 122,
   "metadata": {
    "id": "4CgG03_0EImT"
   },
   "outputs": [],
   "source": [
    "#sp.solve(f,x) # NotImplementedError: multiple generators [x, cos(3*x)]\n",
    "# No algorithms are implemented to solve equation -x**3 + 4*cos(3*x)"
   ]
  },
  {
   "cell_type": "code",
   "execution_count": 123,
   "metadata": {
    "colab": {
     "base_uri": "https://localhost:8080/",
     "height": 314
    },
    "executionInfo": {
     "elapsed": 656,
     "status": "ok",
     "timestamp": 1650637060053,
     "user": {
      "displayName": "wien hong",
      "userId": "11131435925814580522"
     },
     "user_tz": -480
    },
    "id": "K90bz1S_JElE",
    "outputId": "7f0aa414-c519-4ca7-ea61-63824ef78f05"
   },
   "outputs": [
    {
     "data": {
      "image/png": "[encoded data removed]",
      "text/plain": [
       "<Figure size 432x288 with 1 Axes>"
      ]
     },
     "metadata": {
      "needs_background": "light"
     },
     "output_type": "display_data"
    },
    {
     "data": {
      "text/plain": [
       "<sympy.plotting.plot.Plot at 0x2392bbd9a00>"
      ]
     },
     "execution_count": 123,
     "metadata": {},
     "output_type": "execute_result"
    }
   ],
   "source": [
    "sp.plot(f, (x, -2, 2), line_color='red')"
   ]
  },
  {
   "cell_type": "code",
   "execution_count": 124,
   "metadata": {
    "colab": {
     "base_uri": "https://localhost:8080/",
     "height": 37
    },
    "executionInfo": {
     "elapsed": 46,
     "status": "ok",
     "timestamp": 1650637060055,
     "user": {
      "displayName": "wien hong",
      "userId": "11131435925814580522"
     },
     "user_tz": -480
    },
    "id": "oyhXPX3DHqEH",
    "outputId": "929b4361-ff72-4713-f627-4a7697011557"
   },
   "outputs": [
    {
     "data": {
      "text/latex": [
       "$\\displaystyle 0.51239$"
      ],
      "text/plain": [
       "0.51239"
      ]
     },
     "execution_count": 124,
     "metadata": {},
     "output_type": "execute_result"
    }
   ],
   "source": [
    "sp.nsolve(f, x, 1, prec=5)"
   ]
  },
  {
   "cell_type": "code",
   "execution_count": 125,
   "metadata": {
    "colab": {
     "base_uri": "https://localhost:8080/",
     "height": 37
    },
    "executionInfo": {
     "elapsed": 47,
     "status": "ok",
     "timestamp": 1650637060057,
     "user": {
      "displayName": "wien hong",
      "userId": "11131435925814580522"
     },
     "user_tz": -480
    },
    "id": "odTO5MR3IRQc",
    "outputId": "a7079128-4a18-4172-d666-e1f95d9bf382"
   },
   "outputs": [
    {
     "data": {
      "text/latex": [
       "$\\displaystyle -1.34997551856788$"
      ],
      "text/plain": [
       "-1.34997551856788"
      ]
     },
     "execution_count": 125,
     "metadata": {},
     "output_type": "execute_result"
    }
   ],
   "source": [
    "sp.nsolve(f, x, -2)"
   ]
  },
  {
   "cell_type": "code",
   "execution_count": 126,
   "metadata": {
    "colab": {
     "base_uri": "https://localhost:8080/",
     "height": 38
    },
    "executionInfo": {
     "elapsed": 46,
     "status": "ok",
     "timestamp": 1650637060058,
     "user": {
      "displayName": "wien hong",
      "userId": "11131435925814580522"
     },
     "user_tz": -480
    },
    "id": "iL18x_ATTngB",
    "outputId": "58cce6ab-4145-43b6-add9-2e1553abd061"
   },
   "outputs": [
    {
     "data": {
      "text/latex": [
       "$\\displaystyle \\sin{\\left(x \\right)} + \\cos{\\left(x \\right)} = 1$"
      ],
      "text/plain": [
       "Eq(sin(x) + cos(x), 1)"
      ]
     },
     "execution_count": 126,
     "metadata": {},
     "output_type": "execute_result"
    }
   ],
   "source": [
    "eq = sp.Eq(sp.sin(x) + sp.cos(x), 1)\n",
    "eq"
   ]
  },
  {
   "cell_type": "code",
   "execution_count": 127,
   "metadata": {
    "colab": {
     "base_uri": "https://localhost:8080/",
     "height": 48
    },
    "executionInfo": {
     "elapsed": 46,
     "status": "ok",
     "timestamp": 1650637060059,
     "user": {
      "displayName": "wien hong",
      "userId": "11131435925814580522"
     },
     "user_tz": -480
    },
    "id": "DOBn3M9TT6Ti",
    "outputId": "1b63cfe2-25b8-4e4a-ca18-280d508080d6"
   },
   "outputs": [
    {
     "data": {
      "text/plain": [
       "[0, pi/2]"
      ]
     },
     "execution_count": 127,
     "metadata": {},
     "output_type": "execute_result"
    }
   ],
   "source": [
    "sp.solve(eq, x)"
   ]
  },
  {
   "cell_type": "code",
   "execution_count": 128,
   "metadata": {
    "colab": {
     "base_uri": "https://localhost:8080/",
     "height": 37
    },
    "executionInfo": {
     "elapsed": 46,
     "status": "ok",
     "timestamp": 1650637060060,
     "user": {
      "displayName": "wien hong",
      "userId": "11131435925814580522"
     },
     "user_tz": -480
    },
    "id": "lhwUeYHwY98Z",
    "outputId": "8dbd859b-faba-413e-da6e-77f7b0c9305f"
   },
   "outputs": [
    {
     "data": {
      "text/latex": [
       "$\\displaystyle 1.5707963267949$"
      ],
      "text/plain": [
       "1.57079632679490"
      ]
     },
     "execution_count": 128,
     "metadata": {},
     "output_type": "execute_result"
    }
   ],
   "source": [
    "sp.nsolve(eq, x, 2)"
   ]
  },
  {
   "cell_type": "code",
   "execution_count": 129,
   "metadata": {
    "colab": {
     "base_uri": "https://localhost:8080/",
     "height": 38
    },
    "executionInfo": {
     "elapsed": 45,
     "status": "ok",
     "timestamp": 1650637060061,
     "user": {
      "displayName": "wien hong",
      "userId": "11131435925814580522"
     },
     "user_tz": -480
    },
    "id": "IvVGfgERVBbo",
    "outputId": "43a5bf4a-d449-4a95-db31-6faa94539e53"
   },
   "outputs": [
    {
     "data": {
      "text/latex": [
       "$\\displaystyle x^{2} + y^{2} = 1$"
      ],
      "text/plain": [
       "Eq(x**2 + y**2, 1)"
      ]
     },
     "execution_count": 129,
     "metadata": {},
     "output_type": "execute_result"
    }
   ],
   "source": [
    "eq1 = sp.Eq(x**2 + y**2, 1)\n",
    "eq1"
   ]
  },
  {
   "cell_type": "code",
   "execution_count": 130,
   "metadata": {
    "colab": {
     "base_uri": "https://localhost:8080/",
     "height": 39
    },
    "executionInfo": {
     "elapsed": 45,
     "status": "ok",
     "timestamp": 1650637060062,
     "user": {
      "displayName": "wien hong",
      "userId": "11131435925814580522"
     },
     "user_tz": -480
    },
    "id": "IqfmmKxGYoY0",
    "outputId": "7a6f6675-d9e5-45a1-95c9-a9a953887d3e"
   },
   "outputs": [
    {
     "data": {
      "text/latex": [
       "$\\displaystyle \\left(x - 2\\right)^{2} + \\left(y - 1\\right)^{2} = 4$"
      ],
      "text/plain": [
       "Eq((x - 2)**2 + (y - 1)**2, 4)"
      ]
     },
     "execution_count": 130,
     "metadata": {},
     "output_type": "execute_result"
    }
   ],
   "source": [
    "eq2 = sp.Eq((x - 2)**2 + (y - 1)**2, 4)\n",
    "eq2"
   ]
  },
  {
   "cell_type": "code",
   "execution_count": 131,
   "metadata": {
    "colab": {
     "base_uri": "https://localhost:8080/",
     "height": 58
    },
    "executionInfo": {
     "elapsed": 45,
     "status": "ok",
     "timestamp": 1650637060064,
     "user": {
      "displayName": "wien hong",
      "userId": "11131435925814580522"
     },
     "user_tz": -480
    },
    "id": "Tr0JAvdhVhX0",
    "outputId": "0f32f0ef-efe1-40e7-e26f-c6e9feb27e58"
   },
   "outputs": [
    {
     "data": {
      "text/plain": [
       "[(0, 1), (4/5, -3/5)]"
      ]
     },
     "execution_count": 131,
     "metadata": {},
     "output_type": "execute_result"
    }
   ],
   "source": [
    "sp.solve([eq1, eq2], [x, y])"
   ]
  },
  {
   "cell_type": "code",
   "execution_count": 132,
   "metadata": {
    "id": "gqi2entiZI9r"
   },
   "outputs": [],
   "source": [
    "p1 = sp.plot_implicit(eq1, (x, -1, 4), (y, -2, 3),\n",
    "                      line_color='r',\n",
    "                      aspect_ratio=(1, 1),\n",
    "                      show=False)"
   ]
  },
  {
   "cell_type": "code",
   "execution_count": 133,
   "metadata": {
    "id": "mDemvSvycKbB"
   },
   "outputs": [],
   "source": [
    "p2 = sp.plot_implicit(eq2, (x, -1, 4), (y, -2, 3),\n",
    "                      line_color='g',\n",
    "                      aspect_ratio=(1, 1),\n",
    "                      show=False)"
   ]
  },
  {
   "cell_type": "code",
   "execution_count": 134,
   "metadata": {
    "colab": {
     "base_uri": "https://localhost:8080/",
     "height": 297
    },
    "executionInfo": {
     "elapsed": 2255,
     "status": "ok",
     "timestamp": 1650637062278,
     "user": {
      "displayName": "wien hong",
      "userId": "11131435925814580522"
     },
     "user_tz": -480
    },
    "id": "zhn7Pm8lclpO",
    "outputId": "64f11b4e-4748-4865-8c25-d9f60b6bbfaa"
   },
   "outputs": [
    {
     "data": {
      "image/png": "[encoded data removed]",
      "text/plain": [
       "<Figure size 432x288 with 1 Axes>"
      ]
     },
     "metadata": {
      "needs_background": "light"
     },
     "output_type": "display_data"
    }
   ],
   "source": [
    "p1.extend(p2)\n",
    "p1.show()"
   ]
  },
  {
   "cell_type": "markdown",
   "metadata": {
    "id": "4uPnKh-fMXtX"
   },
   "source": [
    "## 13.4 微積分"
   ]
  },
  {
   "cell_type": "markdown",
   "metadata": {
    "id": "up8ul2FEOD_U"
   },
   "source": [
    "### 13.4.1 極限、微分與積分"
   ]
  },
  {
   "cell_type": "code",
   "execution_count": 135,
   "metadata": {
    "id": "2YrUl2Aqio1L"
   },
   "outputs": [],
   "source": [
    "x, y = sp.symbols('x,y')"
   ]
  },
  {
   "cell_type": "code",
   "execution_count": 136,
   "metadata": {
    "colab": {
     "base_uri": "https://localhost:8080/",
     "height": 58
    },
    "executionInfo": {
     "elapsed": 41,
     "status": "ok",
     "timestamp": 1650637062281,
     "user": {
      "displayName": "wien hong",
      "userId": "11131435925814580522"
     },
     "user_tz": -480
    },
    "id": "jo7kRO_2OMmN",
    "outputId": "74131869-1281-4ede-fc83-5eef8fac97b1"
   },
   "outputs": [
    {
     "data": {
      "text/latex": [
       "$\\displaystyle \\lim_{x \\to 0}\\left(\\frac{\\sin{\\left(x \\right)}}{x}\\right)$"
      ],
      "text/plain": [
       "Limit(sin(x)/x, x, 0, dir='+-')"
      ]
     },
     "execution_count": 136,
     "metadata": {},
     "output_type": "execute_result"
    }
   ],
   "source": [
    "lim = sp.Limit(sp.sin(x) / x, x, 0, dir='+-')\n",
    "lim"
   ]
  },
  {
   "cell_type": "code",
   "execution_count": 137,
   "metadata": {
    "colab": {
     "base_uri": "https://localhost:8080/",
     "height": 37
    },
    "executionInfo": {
     "elapsed": 41,
     "status": "ok",
     "timestamp": 1650637062283,
     "user": {
      "displayName": "wien hong",
      "userId": "11131435925814580522"
     },
     "user_tz": -480
    },
    "id": "hrO0tMmqOjVe",
    "outputId": "9e88a694-b3cb-4472-e6cd-b470450a85d0"
   },
   "outputs": [
    {
     "data": {
      "text/latex": [
       "$\\displaystyle 1$"
      ],
      "text/plain": [
       "1"
      ]
     },
     "execution_count": 137,
     "metadata": {},
     "output_type": "execute_result"
    }
   ],
   "source": [
    "lim.doit()"
   ]
  },
  {
   "cell_type": "code",
   "execution_count": 138,
   "metadata": {
    "colab": {
     "base_uri": "https://localhost:8080/",
     "height": 59
    },
    "executionInfo": {
     "elapsed": 41,
     "status": "ok",
     "timestamp": 1650637062284,
     "user": {
      "displayName": "wien hong",
      "userId": "11131435925814580522"
     },
     "user_tz": -480
    },
    "id": "VF2nUSqjOmLG",
    "outputId": "0eff8c80-5f33-4b55-c256-999aa1bc0856"
   },
   "outputs": [
    {
     "data": {
      "text/latex": [
       "$\\displaystyle \\lim_{x \\to \\infty} \\left(1 + \\frac{1}{x}\\right)^{x}$"
      ],
      "text/plain": [
       "Limit((1 + 1/x)**x, x, oo, dir='-')"
      ]
     },
     "execution_count": 138,
     "metadata": {},
     "output_type": "execute_result"
    }
   ],
   "source": [
    "lim = sp.Limit((1 + 1 / x)**x, x, sp.oo)\n",
    "lim"
   ]
  },
  {
   "cell_type": "code",
   "execution_count": 139,
   "metadata": {
    "colab": {
     "base_uri": "https://localhost:8080/",
     "height": 38
    },
    "executionInfo": {
     "elapsed": 42,
     "status": "ok",
     "timestamp": 1650637062286,
     "user": {
      "displayName": "wien hong",
      "userId": "11131435925814580522"
     },
     "user_tz": -480
    },
    "id": "6-mYRPuJOpdH",
    "outputId": "9322b139-3fc5-4d59-a5e8-085bb1e3c5ed"
   },
   "outputs": [
    {
     "data": {
      "text/latex": [
       "$\\displaystyle e$"
      ],
      "text/plain": [
       "E"
      ]
     },
     "execution_count": 139,
     "metadata": {},
     "output_type": "execute_result"
    }
   ],
   "source": [
    "lim.doit()"
   ]
  },
  {
   "cell_type": "code",
   "execution_count": 140,
   "metadata": {
    "colab": {
     "base_uri": "https://localhost:8080/",
     "height": 59
    },
    "executionInfo": {
     "elapsed": 43,
     "status": "ok",
     "timestamp": 1650637062288,
     "user": {
      "displayName": "wien hong",
      "userId": "11131435925814580522"
     },
     "user_tz": -480
    },
    "id": "n0tzhFHkDMp1",
    "outputId": "d5a89a04-2a51-4676-ee83-8052f17f8eaa"
   },
   "outputs": [
    {
     "data": {
      "text/latex": [
       "$\\displaystyle \\lim_{x \\to \\infty} \\left(1 + \\frac{1}{x}\\right)^{x} = e$"
      ],
      "text/plain": [
       "Eq(Limit((1 + 1/x)**x, x, oo, dir='-'), E)"
      ]
     },
     "execution_count": 140,
     "metadata": {},
     "output_type": "execute_result"
    }
   ],
   "source": [
    "sp.Eq(lim, lim.doit())"
   ]
  },
  {
   "cell_type": "code",
   "execution_count": 141,
   "metadata": {
    "colab": {
     "base_uri": "https://localhost:8080/",
     "height": 37
    },
    "executionInfo": {
     "elapsed": 45,
     "status": "ok",
     "timestamp": 1650637062290,
     "user": {
      "displayName": "wien hong",
      "userId": "11131435925814580522"
     },
     "user_tz": -480
    },
    "id": "lBr5d_4EPF0m",
    "outputId": "596a5e7a-f1be-4ad2-d4ef-c76aa91a3283"
   },
   "outputs": [
    {
     "data": {
      "text/latex": [
       "$\\displaystyle -\\infty$"
      ],
      "text/plain": [
       "-oo"
      ]
     },
     "execution_count": 141,
     "metadata": {},
     "output_type": "execute_result"
    }
   ],
   "source": [
    "sp.limit(1 / x, x, 0, dir='-')"
   ]
  },
  {
   "cell_type": "code",
   "execution_count": 142,
   "metadata": {
    "colab": {
     "base_uri": "https://localhost:8080/",
     "height": 37
    },
    "executionInfo": {
     "elapsed": 44,
     "status": "ok",
     "timestamp": 1650637062292,
     "user": {
      "displayName": "wien hong",
      "userId": "11131435925814580522"
     },
     "user_tz": -480
    },
    "id": "99FCOB1XPLyS",
    "outputId": "f515c7f4-99b1-417e-db00-074309eb1400"
   },
   "outputs": [
    {
     "data": {
      "text/latex": [
       "$\\displaystyle \\infty$"
      ],
      "text/plain": [
       "oo"
      ]
     },
     "execution_count": 142,
     "metadata": {},
     "output_type": "execute_result"
    }
   ],
   "source": [
    "sp.limit(1 / x, x, 0, dir='+')"
   ]
  },
  {
   "cell_type": "code",
   "execution_count": 143,
   "metadata": {
    "id": "reFD-4UxPevy"
   },
   "outputs": [],
   "source": [
    "ex = x * sp.sin(x**2) + 1"
   ]
  },
  {
   "cell_type": "code",
   "execution_count": 144,
   "metadata": {
    "colab": {
     "base_uri": "https://localhost:8080/",
     "height": 52
    },
    "executionInfo": {
     "elapsed": 1217,
     "status": "ok",
     "timestamp": 1650637063467,
     "user": {
      "displayName": "wien hong",
      "userId": "11131435925814580522"
     },
     "user_tz": -480
    },
    "id": "3YuwqgiqPgd-",
    "outputId": "9bac752f-2038-4ca6-e412-5a930e8524b3"
   },
   "outputs": [
    {
     "data": {
      "text/latex": [
       "$\\displaystyle \\frac{d}{d x} \\left(x \\sin{\\left(x^{2} \\right)} + 1\\right)$"
      ],
      "text/plain": [
       "Derivative(x*sin(x**2) + 1, x)"
      ]
     },
     "execution_count": 144,
     "metadata": {},
     "output_type": "execute_result"
    }
   ],
   "source": [
    "d = sp.Derivative(ex, x)\n",
    "d"
   ]
  },
  {
   "cell_type": "code",
   "execution_count": 145,
   "metadata": {
    "colab": {
     "base_uri": "https://localhost:8080/",
     "height": 38
    },
    "executionInfo": {
     "elapsed": 25,
     "status": "ok",
     "timestamp": 1650637063469,
     "user": {
      "displayName": "wien hong",
      "userId": "11131435925814580522"
     },
     "user_tz": -480
    },
    "id": "YlMaWLwaPlHl",
    "outputId": "3349b1c8-235b-41c5-cda9-6891417da8c2"
   },
   "outputs": [
    {
     "data": {
      "text/latex": [
       "$\\displaystyle 2 x^{2} \\cos{\\left(x^{2} \\right)} + \\sin{\\left(x^{2} \\right)}$"
      ],
      "text/plain": [
       "2*x**2*cos(x**2) + sin(x**2)"
      ]
     },
     "execution_count": 145,
     "metadata": {},
     "output_type": "execute_result"
    }
   ],
   "source": [
    "d.doit()"
   ]
  },
  {
   "cell_type": "code",
   "execution_count": 146,
   "metadata": {
    "colab": {
     "base_uri": "https://localhost:8080/",
     "height": 38
    },
    "executionInfo": {
     "elapsed": 24,
     "status": "ok",
     "timestamp": 1650637063470,
     "user": {
      "displayName": "wien hong",
      "userId": "11131435925814580522"
     },
     "user_tz": -480
    },
    "id": "Xi_XmjdrP4kq",
    "outputId": "7a1592a0-13e0-4c20-94f5-c38997953ba8"
   },
   "outputs": [
    {
     "data": {
      "text/latex": [
       "$\\displaystyle 2 x^{2} \\cos{\\left(x^{2} \\right)} + \\sin{\\left(x^{2} \\right)}$"
      ],
      "text/plain": [
       "2*x**2*cos(x**2) + sin(x**2)"
      ]
     },
     "execution_count": 146,
     "metadata": {},
     "output_type": "execute_result"
    }
   ],
   "source": [
    "sp.diff(ex, x)"
   ]
  },
  {
   "cell_type": "code",
   "execution_count": 147,
   "metadata": {
    "colab": {
     "base_uri": "https://localhost:8080/",
     "height": 38
    },
    "executionInfo": {
     "elapsed": 853,
     "status": "ok",
     "timestamp": 1650637064301,
     "user": {
      "displayName": "wien hong",
      "userId": "11131435925814580522"
     },
     "user_tz": -480
    },
    "id": "A_k-L7Q-P8RX",
    "outputId": "3a255859-daef-4921-d105-ff759d7568b3"
   },
   "outputs": [
    {
     "data": {
      "text/latex": [
       "$\\displaystyle 2 x \\left(- 2 x^{2} \\sin{\\left(x^{2} \\right)} + 3 \\cos{\\left(x^{2} \\right)}\\right)$"
      ],
      "text/plain": [
       "2*x*(-2*x**2*sin(x**2) + 3*cos(x**2))"
      ]
     },
     "execution_count": 147,
     "metadata": {},
     "output_type": "execute_result"
    }
   ],
   "source": [
    "sp.diff(ex, x, 2)"
   ]
  },
  {
   "cell_type": "code",
   "execution_count": 148,
   "metadata": {
    "colab": {
     "base_uri": "https://localhost:8080/",
     "height": 61
    },
    "executionInfo": {
     "elapsed": 22,
     "status": "ok",
     "timestamp": 1650637064302,
     "user": {
      "displayName": "wien hong",
      "userId": "11131435925814580522"
     },
     "user_tz": -480
    },
    "id": "lvCxwU6spBAS",
    "outputId": "996021ad-1c55-4eb0-fd27-7b60bee97702"
   },
   "outputs": [
    {
     "data": {
      "text/latex": [
       "$\\displaystyle \\left. \\frac{d}{d x} \\left(x \\sin{\\left(x^{2} \\right)} + 1\\right) \\right|_{\\substack{ x=0 }}$"
      ],
      "text/plain": [
       "Subs(Derivative(x*sin(x**2) + 1, x), x, 0)"
      ]
     },
     "execution_count": 148,
     "metadata": {},
     "output_type": "execute_result"
    }
   ],
   "source": [
    "d = sp.Derivative(ex, x).subs(x, 0)\n",
    "d"
   ]
  },
  {
   "cell_type": "code",
   "execution_count": 149,
   "metadata": {
    "colab": {
     "base_uri": "https://localhost:8080/",
     "height": 37
    },
    "executionInfo": {
     "elapsed": 22,
     "status": "ok",
     "timestamp": 1650637064304,
     "user": {
      "displayName": "wien hong",
      "userId": "11131435925814580522"
     },
     "user_tz": -480
    },
    "id": "W7oOg0E2pRSW",
    "outputId": "362a0bf7-bd26-47fd-c73a-6bdc78733b56"
   },
   "outputs": [
    {
     "data": {
      "text/latex": [
       "$\\displaystyle 0$"
      ],
      "text/plain": [
       "0"
      ]
     },
     "execution_count": 149,
     "metadata": {},
     "output_type": "execute_result"
    }
   ],
   "source": [
    "d.doit()"
   ]
  },
  {
   "cell_type": "code",
   "execution_count": 150,
   "metadata": {
    "colab": {
     "base_uri": "https://localhost:8080/",
     "height": 38
    },
    "executionInfo": {
     "elapsed": 21,
     "status": "ok",
     "timestamp": 1650637064305,
     "user": {
      "displayName": "wien hong",
      "userId": "11131435925814580522"
     },
     "user_tz": -480
    },
    "id": "f3yvaoThJqR2",
    "outputId": "66c7ef78-b091-4fe1-c72e-65c05458bf17"
   },
   "outputs": [
    {
     "data": {
      "text/latex": [
       "$\\displaystyle x^{x} \\left(\\log{\\left(x \\right)} + 1\\right)$"
      ],
      "text/plain": [
       "x**x*(log(x) + 1)"
      ]
     },
     "execution_count": 150,
     "metadata": {},
     "output_type": "execute_result"
    }
   ],
   "source": [
    "sp.diff(x**x, x)"
   ]
  },
  {
   "cell_type": "code",
   "execution_count": 151,
   "metadata": {
    "id": "I_TkP3zNSND3"
   },
   "outputs": [],
   "source": [
    "ex = x * sp.sin(x**2) + 1"
   ]
  },
  {
   "cell_type": "code",
   "execution_count": 152,
   "metadata": {
    "colab": {
     "base_uri": "https://localhost:8080/",
     "height": 56
    },
    "executionInfo": {
     "elapsed": 901,
     "status": "ok",
     "timestamp": 1650637065186,
     "user": {
      "displayName": "wien hong",
      "userId": "11131435925814580522"
     },
     "user_tz": -480
    },
    "id": "26kBC5JcSbii",
    "outputId": "e3978cb8-8597-4054-c4a7-f867c70473cb"
   },
   "outputs": [
    {
     "data": {
      "text/latex": [
       "$\\displaystyle x - \\frac{\\cos{\\left(x^{2} \\right)}}{2}$"
      ],
      "text/plain": [
       "x - cos(x**2)/2"
      ]
     },
     "execution_count": 152,
     "metadata": {},
     "output_type": "execute_result"
    }
   ],
   "source": [
    "sp.integrate(ex, x)"
   ]
  },
  {
   "cell_type": "code",
   "execution_count": 153,
   "metadata": {
    "colab": {
     "base_uri": "https://localhost:8080/",
     "height": 77
    },
    "executionInfo": {
     "elapsed": 24,
     "status": "ok",
     "timestamp": 1650637065188,
     "user": {
      "displayName": "wien hong",
      "userId": "11131435925814580522"
     },
     "user_tz": -480
    },
    "id": "30QMhF9GSghK",
    "outputId": "4f7ac165-48d0-4f14-986d-b6d33a08b544"
   },
   "outputs": [
    {
     "data": {
      "text/latex": [
       "$\\displaystyle \\int\\limits_{0}^{\\pi} \\left(x \\sin{\\left(x^{2} \\right)} + 1\\right)\\, dx$"
      ],
      "text/plain": [
       "Integral(x*sin(x**2) + 1, (x, 0, pi))"
      ]
     },
     "execution_count": 153,
     "metadata": {},
     "output_type": "execute_result"
    }
   ],
   "source": [
    "i = sp.Integral(ex, (x, 0, sp.pi))\n",
    "i"
   ]
  },
  {
   "cell_type": "code",
   "execution_count": 154,
   "metadata": {
    "colab": {
     "base_uri": "https://localhost:8080/",
     "height": 56
    },
    "executionInfo": {
     "elapsed": 24,
     "status": "ok",
     "timestamp": 1650637065189,
     "user": {
      "displayName": "wien hong",
      "userId": "11131435925814580522"
     },
     "user_tz": -480
    },
    "id": "GeK4Q3f_SjHu",
    "outputId": "05212454-8c09-4b3e-e5cb-8dc241087baf"
   },
   "outputs": [
    {
     "data": {
      "text/latex": [
       "$\\displaystyle - \\frac{\\cos{\\left(\\pi^{2} \\right)}}{2} + \\frac{1}{2} + \\pi$"
      ],
      "text/plain": [
       "-cos(pi**2)/2 + 1/2 + pi"
      ]
     },
     "execution_count": 154,
     "metadata": {},
     "output_type": "execute_result"
    }
   ],
   "source": [
    "i.doit()"
   ]
  },
  {
   "cell_type": "code",
   "execution_count": 155,
   "metadata": {
    "colab": {
     "base_uri": "https://localhost:8080/",
     "height": 77
    },
    "executionInfo": {
     "elapsed": 24,
     "status": "ok",
     "timestamp": 1650637065190,
     "user": {
      "displayName": "wien hong",
      "userId": "11131435925814580522"
     },
     "user_tz": -480
    },
    "id": "L2NtcMQrSm7A",
    "outputId": "af10b2b7-f786-42df-fd69-4b995c293d03"
   },
   "outputs": [
    {
     "data": {
      "text/latex": [
       "$\\displaystyle \\int\\limits_{0}^{\\pi} \\left(x \\sin{\\left(x^{2} \\right)} + 1\\right)\\, dx$"
      ],
      "text/plain": [
       "Integral(x*sin(x**2) + 1, (x, 0, pi))"
      ]
     },
     "execution_count": 155,
     "metadata": {},
     "output_type": "execute_result"
    }
   ],
   "source": [
    "i = sp.Integral(ex, (x, 0, sp.pi))\n",
    "i"
   ]
  },
  {
   "cell_type": "code",
   "execution_count": 156,
   "metadata": {
    "colab": {
     "base_uri": "https://localhost:8080/",
     "height": 56
    },
    "executionInfo": {
     "elapsed": 1015,
     "status": "ok",
     "timestamp": 1650637066182,
     "user": {
      "displayName": "wien hong",
      "userId": "11131435925814580522"
     },
     "user_tz": -480
    },
    "id": "5pV-vxybTUmz",
    "outputId": "053d3f21-2c42-4771-c827-4d5671f4712d"
   },
   "outputs": [
    {
     "data": {
      "text/latex": [
       "$\\displaystyle - \\frac{\\cos{\\left(\\pi^{2} \\right)}}{2} + \\frac{1}{2} + \\pi$"
      ],
      "text/plain": [
       "-cos(pi**2)/2 + 1/2 + pi"
      ]
     },
     "execution_count": 156,
     "metadata": {},
     "output_type": "execute_result"
    }
   ],
   "source": [
    "i.doit()"
   ]
  },
  {
   "cell_type": "code",
   "execution_count": 157,
   "metadata": {
    "colab": {
     "base_uri": "https://localhost:8080/",
     "height": 77
    },
    "executionInfo": {
     "elapsed": 17,
     "status": "ok",
     "timestamp": 1650637066182,
     "user": {
      "displayName": "wien hong",
      "userId": "11131435925814580522"
     },
     "user_tz": -480
    },
    "id": "xn1abUubTZ_O",
    "outputId": "6aab8a3f-311b-4dc9-fd9e-c4b3385847f9"
   },
   "outputs": [
    {
     "data": {
      "text/latex": [
       "$\\displaystyle \\int\\limits_{0}^{\\infty} \\frac{1}{x^{2} + 1}\\, dx$"
      ],
      "text/plain": [
       "Integral(1/(x**2 + 1), (x, 0, oo))"
      ]
     },
     "execution_count": 157,
     "metadata": {},
     "output_type": "execute_result"
    }
   ],
   "source": [
    "i = sp.Integral(1 / (1 + x**2), (x, 0, sp.oo))\n",
    "i"
   ]
  },
  {
   "cell_type": "code",
   "execution_count": 158,
   "metadata": {
    "colab": {
     "base_uri": "https://localhost:8080/",
     "height": 47
    },
    "executionInfo": {
     "elapsed": 545,
     "status": "ok",
     "timestamp": 1650637066711,
     "user": {
      "displayName": "wien hong",
      "userId": "11131435925814580522"
     },
     "user_tz": -480
    },
    "id": "wjO2wLl1Tgs0",
    "outputId": "0163ef76-dc15-46f0-9e08-586d2cd0b343"
   },
   "outputs": [
    {
     "data": {
      "text/latex": [
       "$\\displaystyle \\frac{\\pi}{2}$"
      ],
      "text/plain": [
       "pi/2"
      ]
     },
     "execution_count": 158,
     "metadata": {},
     "output_type": "execute_result"
    }
   ],
   "source": [
    "i.doit()"
   ]
  },
  {
   "cell_type": "code",
   "execution_count": 159,
   "metadata": {
    "colab": {
     "base_uri": "https://localhost:8080/",
     "height": 80
    },
    "executionInfo": {
     "elapsed": 29,
     "status": "ok",
     "timestamp": 1650637066712,
     "user": {
      "displayName": "wien hong",
      "userId": "11131435925814580522"
     },
     "user_tz": -480
    },
    "id": "_HTISWEOJ6kt",
    "outputId": "d0887d35-1dbe-4d8a-e44f-6276a7ff9b81"
   },
   "outputs": [
    {
     "data": {
      "text/latex": [
       "$\\displaystyle \\int\\limits_{0}^{1}\\int\\limits_{0}^{\\infty} \\frac{y}{x^{2} + 1}\\, dx\\, dy$"
      ],
      "text/plain": [
       "Integral(y/(x**2 + 1), (x, 0, oo), (y, 0, 1))"
      ]
     },
     "execution_count": 159,
     "metadata": {},
     "output_type": "execute_result"
    }
   ],
   "source": [
    "i = sp.Integral(y / (1 + x**2), (x, 0, sp.oo), (y, 0, 1))\n",
    "i"
   ]
  },
  {
   "cell_type": "code",
   "execution_count": 160,
   "metadata": {
    "colab": {
     "base_uri": "https://localhost:8080/",
     "height": 47
    },
    "executionInfo": {
     "elapsed": 28,
     "status": "ok",
     "timestamp": 1650637066712,
     "user": {
      "displayName": "wien hong",
      "userId": "11131435925814580522"
     },
     "user_tz": -480
    },
    "id": "U7jfRTeKKXik",
    "outputId": "9ae7a637-7b85-4a0d-c518-b0276725e161"
   },
   "outputs": [
    {
     "data": {
      "text/latex": [
       "$\\displaystyle \\frac{\\pi}{4}$"
      ],
      "text/plain": [
       "pi/4"
      ]
     },
     "execution_count": 160,
     "metadata": {},
     "output_type": "execute_result"
    }
   ],
   "source": [
    "i.doit()"
   ]
  },
  {
   "cell_type": "markdown",
   "metadata": {
    "id": "DDis-82VTjL9"
   },
   "source": [
    "### 13.4.2 數列的加總與連乘"
   ]
  },
  {
   "cell_type": "code",
   "execution_count": 161,
   "metadata": {
    "id": "DuKqgrAIUti7"
   },
   "outputs": [],
   "source": [
    "i, n, x = sp.symbols('i,n,x')"
   ]
  },
  {
   "cell_type": "code",
   "execution_count": 162,
   "metadata": {
    "colab": {
     "base_uri": "https://localhost:8080/",
     "height": 66
    },
    "executionInfo": {
     "elapsed": 28,
     "status": "ok",
     "timestamp": 1650637066714,
     "user": {
      "displayName": "wien hong",
      "userId": "11131435925814580522"
     },
     "user_tz": -480
    },
    "id": "reqNsk3EUz62",
    "outputId": "2812a35b-fa7a-4e9c-d759-2c886712bfc5"
   },
   "outputs": [
    {
     "data": {
      "text/latex": [
       "$\\displaystyle \\sum_{x=1}^{n} x^{3}$"
      ],
      "text/plain": [
       "Sum(x**3, (x, 1, n))"
      ]
     },
     "execution_count": 162,
     "metadata": {},
     "output_type": "execute_result"
    }
   ],
   "source": [
    "s1 = sp.Sum(x**3, (x, 1, n))\n",
    "s1"
   ]
  },
  {
   "cell_type": "code",
   "execution_count": 163,
   "metadata": {
    "colab": {
     "base_uri": "https://localhost:8080/",
     "height": 56
    },
    "executionInfo": {
     "elapsed": 29,
     "status": "ok",
     "timestamp": 1650637066716,
     "user": {
      "displayName": "wien hong",
      "userId": "11131435925814580522"
     },
     "user_tz": -480
    },
    "id": "M_8CZ41KU3Xo",
    "outputId": "2930d3a0-7fc6-4f08-a061-c6e51f4f16a1"
   },
   "outputs": [
    {
     "data": {
      "text/latex": [
       "$\\displaystyle \\frac{n^{2} \\left(n^{2} + 2 n + 1\\right)}{4}$"
      ],
      "text/plain": [
       "n**2*(n**2 + 2*n + 1)/4"
      ]
     },
     "execution_count": 163,
     "metadata": {},
     "output_type": "execute_result"
    }
   ],
   "source": [
    "s1.doit().simplify()"
   ]
  },
  {
   "cell_type": "code",
   "execution_count": 164,
   "metadata": {
    "colab": {
     "base_uri": "https://localhost:8080/",
     "height": 66
    },
    "executionInfo": {
     "elapsed": 29,
     "status": "ok",
     "timestamp": 1650637066717,
     "user": {
      "displayName": "wien hong",
      "userId": "11131435925814580522"
     },
     "user_tz": -480
    },
    "id": "amox8FJlU7N-",
    "outputId": "d39ed162-49c3-4f2d-d780-465aa7205ae4"
   },
   "outputs": [
    {
     "data": {
      "text/latex": [
       "$\\displaystyle \\sum_{n=1}^{\\infty} \\frac{\\left(-1\\right)^{n} x^{2 n + 1}}{\\left(2 n + 1\\right)!}$"
      ],
      "text/plain": [
       "Sum((-1)**n*x**(2*n + 1)/factorial(2*n + 1), (n, 1, oo))"
      ]
     },
     "execution_count": 164,
     "metadata": {},
     "output_type": "execute_result"
    }
   ],
   "source": [
    "s2 = sp.Sum((-1)**n * x**(2 * n + 1) / sp.factorial(2 * n + 1), (n, 1, sp.oo))\n",
    "s2"
   ]
  },
  {
   "cell_type": "code",
   "execution_count": 165,
   "metadata": {
    "colab": {
     "base_uri": "https://localhost:8080/",
     "height": 38
    },
    "executionInfo": {
     "elapsed": 2464,
     "status": "ok",
     "timestamp": 1650637069153,
     "user": {
      "displayName": "wien hong",
      "userId": "11131435925814580522"
     },
     "user_tz": -480
    },
    "id": "qUD3Puh4V_Ap",
    "outputId": "8ce0bcb2-4900-4c79-9bfa-b5b8b40cee3c"
   },
   "outputs": [
    {
     "data": {
      "text/latex": [
       "$\\displaystyle - x + \\sin{\\left(x \\right)}$"
      ],
      "text/plain": [
       "-x + sin(x)"
      ]
     },
     "execution_count": 165,
     "metadata": {},
     "output_type": "execute_result"
    }
   ],
   "source": [
    "s2.doit().simplify()"
   ]
  },
  {
   "cell_type": "code",
   "execution_count": 166,
   "metadata": {
    "colab": {
     "base_uri": "https://localhost:8080/",
     "height": 51
    },
    "executionInfo": {
     "elapsed": 20,
     "status": "ok",
     "timestamp": 1650637069154,
     "user": {
      "displayName": "wien hong",
      "userId": "11131435925814580522"
     },
     "user_tz": -480
    },
    "id": "wSQ9LSA9WBhm",
    "outputId": "002d66d2-75ee-4b05-bcef-1e8950f39044"
   },
   "outputs": [
    {
     "data": {
      "text/latex": [
       "$\\displaystyle \\frac{1}{2}$"
      ],
      "text/plain": [
       "1/2"
      ]
     },
     "execution_count": 166,
     "metadata": {},
     "output_type": "execute_result"
    }
   ],
   "source": [
    "sp.summation(1 / 3**n, (n, 1, sp.oo))"
   ]
  },
  {
   "cell_type": "code",
   "execution_count": 167,
   "metadata": {
    "colab": {
     "base_uri": "https://localhost:8080/",
     "height": 69
    },
    "executionInfo": {
     "elapsed": 18,
     "status": "ok",
     "timestamp": 1650637069155,
     "user": {
      "displayName": "wien hong",
      "userId": "11131435925814580522"
     },
     "user_tz": -480
    },
    "id": "7tg1t16cW6Lc",
    "outputId": "ea448809-1466-48fe-ac05-e7d8c078fce5"
   },
   "outputs": [
    {
     "data": {
      "text/latex": [
       "$\\displaystyle \\prod_{n=1}^{10} n$"
      ],
      "text/plain": [
       "Product(n, (n, 1, 10))"
      ]
     },
     "execution_count": 167,
     "metadata": {},
     "output_type": "execute_result"
    }
   ],
   "source": [
    "sp.Product(n, (n, 1, 10))  # 10!"
   ]
  },
  {
   "cell_type": "code",
   "execution_count": 168,
   "metadata": {
    "colab": {
     "base_uri": "https://localhost:8080/",
     "height": 59
    },
    "executionInfo": {
     "elapsed": 502,
     "status": "ok",
     "timestamp": 1650637069641,
     "user": {
      "displayName": "wien hong",
      "userId": "11131435925814580522"
     },
     "user_tz": -480
    },
    "id": "CIZBdz2wYEO0",
    "outputId": "c4966afb-375b-4dfe-eec2-b8445ef8f195"
   },
   "outputs": [
    {
     "data": {
      "text/latex": [
       "$\\displaystyle \\left(\\frac{1}{n^{2}}\\right)^{n} n!$"
      ],
      "text/plain": [
       "(n**(-2))**n*factorial(n)"
      ]
     },
     "execution_count": 168,
     "metadata": {},
     "output_type": "execute_result"
    }
   ],
   "source": [
    "sp.product(i / n**2, (i, 1, n))"
   ]
  },
  {
   "cell_type": "markdown",
   "metadata": {
    "id": "c54Uvul7aYKm"
   },
   "source": [
    "### 13.4.3 泰勒級數"
   ]
  },
  {
   "cell_type": "code",
   "execution_count": 169,
   "metadata": {
    "id": "AfIKjZYxpchn"
   },
   "outputs": [],
   "source": [
    "x = sp.symbols('x')"
   ]
  },
  {
   "cell_type": "code",
   "execution_count": 170,
   "metadata": {
    "colab": {
     "base_uri": "https://localhost:8080/",
     "height": 54
    },
    "executionInfo": {
     "elapsed": 391,
     "status": "ok",
     "timestamp": 1650637070027,
     "user": {
      "displayName": "wien hong",
      "userId": "11131435925814580522"
     },
     "user_tz": -480
    },
    "id": "CXxGLJWTaejX",
    "outputId": "cb14453c-258c-4d6e-a0c7-d48c7f75d1b5"
   },
   "outputs": [
    {
     "data": {
      "text/latex": [
       "$\\displaystyle x - \\frac{x^{3}}{6} + \\frac{x^{5}}{120} - \\frac{x^{7}}{5040} + \\frac{x^{9}}{362880} + O\\left(x^{10}\\right)$"
      ],
      "text/plain": [
       "x - x**3/6 + x**5/120 - x**7/5040 + x**9/362880 + O(x**10)"
      ]
     },
     "execution_count": 170,
     "metadata": {},
     "output_type": "execute_result"
    }
   ],
   "source": [
    "s1 = sp.sin(x).series(x, 0, 10)\n",
    "s1"
   ]
  },
  {
   "cell_type": "code",
   "execution_count": 171,
   "metadata": {
    "colab": {
     "base_uri": "https://localhost:8080/",
     "height": 54
    },
    "executionInfo": {
     "elapsed": 506,
     "status": "ok",
     "timestamp": 1650637070527,
     "user": {
      "displayName": "wien hong",
      "userId": "11131435925814580522"
     },
     "user_tz": -480
    },
    "id": "OvnUSD3UbQxe",
    "outputId": "5aef9d0d-6142-4b61-fba3-fe9d91965987"
   },
   "outputs": [
    {
     "data": {
      "text/latex": [
       "$\\displaystyle 1 - \\frac{x^{2}}{2} + \\frac{x^{4}}{24} - \\frac{x^{6}}{720} + \\frac{x^{8}}{40320} + O\\left(x^{10}\\right)$"
      ],
      "text/plain": [
       "1 - x**2/2 + x**4/24 - x**6/720 + x**8/40320 + O(x**10)"
      ]
     },
     "execution_count": 171,
     "metadata": {},
     "output_type": "execute_result"
    }
   ],
   "source": [
    "s2 = sp.cos(x).series(x, 0, 10)\n",
    "s2"
   ]
  },
  {
   "cell_type": "code",
   "execution_count": 172,
   "metadata": {
    "colab": {
     "base_uri": "https://localhost:8080/",
     "height": 54
    },
    "executionInfo": {
     "elapsed": 486,
     "status": "ok",
     "timestamp": 1650637071002,
     "user": {
      "displayName": "wien hong",
      "userId": "11131435925814580522"
     },
     "user_tz": -480
    },
    "id": "2PwlpWaKbTR8",
    "outputId": "5ad833bf-266f-4dc1-8874-3a28215abe28"
   },
   "outputs": [
    {
     "data": {
      "text/latex": [
       "$\\displaystyle x - \\frac{2 x^{3}}{3} + \\frac{2 x^{5}}{15} - \\frac{4 x^{7}}{315} + \\frac{2 x^{9}}{2835} + O\\left(x^{10}\\right)$"
      ],
      "text/plain": [
       "x - 2*x**3/3 + 2*x**5/15 - 4*x**7/315 + 2*x**9/2835 + O(x**10)"
      ]
     },
     "execution_count": 172,
     "metadata": {},
     "output_type": "execute_result"
    }
   ],
   "source": [
    "sp.expand(s1 * s2)"
   ]
  },
  {
   "cell_type": "code",
   "execution_count": 173,
   "metadata": {
    "colab": {
     "base_uri": "https://localhost:8080/",
     "height": 56
    },
    "executionInfo": {
     "elapsed": 612,
     "status": "ok",
     "timestamp": 1650637071608,
     "user": {
      "displayName": "wien hong",
      "userId": "11131435925814580522"
     },
     "user_tz": -480
    },
    "id": "R3f9gSuhaqrC",
    "outputId": "9b6c0287-c448-4638-848b-7cc68177f76b"
   },
   "outputs": [
    {
     "data": {
      "text/latex": [
       "$\\displaystyle \\frac{e \\left(x - 1\\right)^{2}}{2} + e \\left(x - 1\\right) + e$"
      ],
      "text/plain": [
       "E*(x - 1)**2/2 + E*(x - 1) + E"
      ]
     },
     "execution_count": 173,
     "metadata": {},
     "output_type": "execute_result"
    }
   ],
   "source": [
    "sp.exp(x).series(x, 1, 3).removeO()"
   ]
  },
  {
   "cell_type": "code",
   "execution_count": 174,
   "metadata": {
    "id": "-CQBzgPv5bDr"
   },
   "outputs": [],
   "source": [
    "p0 = sp.plot(sp.sin(x), (x, 0, 6),\n",
    "             show=False,\n",
    "             ylim=(-2, 2),\n",
    "             line_color='black')"
   ]
  },
  {
   "cell_type": "code",
   "execution_count": 175,
   "metadata": {
    "id": "U1LuHLTGS4IU"
   },
   "outputs": [],
   "source": [
    "for t, c in zip([2, 4, 6], ['r', 'g', 'b']):\n",
    "  s = sp.sin(x).series(x, 0, t).removeO()\n",
    "  p = sp.plot(s, (x, 0, 6), show=False, line_color=c)\n",
    "  p0.extend(p)"
   ]
  },
  {
   "cell_type": "code",
   "execution_count": 176,
   "metadata": {
    "colab": {
     "base_uri": "https://localhost:8080/",
     "height": 297
    },
    "executionInfo": {
     "elapsed": 395,
     "status": "ok",
     "timestamp": 1650637072350,
     "user": {
      "displayName": "wien hong",
      "userId": "11131435925814580522"
     },
     "user_tz": -480
    },
    "id": "PK0VFFkpKepu",
    "outputId": "0f57e483-3ec4-4afe-83c1-0177090ef091"
   },
   "outputs": [
    {
     "data": {
      "image/png": "[encoded data removed]",
      "text/plain": [
       "<Figure size 432x288 with 1 Axes>"
      ]
     },
     "metadata": {
      "needs_background": "light"
     },
     "output_type": "display_data"
    }
   ],
   "source": [
    "p0.show()"
   ]
  },
  {
   "cell_type": "markdown",
   "metadata": {
    "id": "t8KkLRC1dKq-"
   },
   "source": [
    "## 13.5 線性代數"
   ]
  },
  {
   "cell_type": "code",
   "execution_count": 177,
   "metadata": {
    "id": "U56NjC9Jfdnk"
   },
   "outputs": [],
   "source": [
    "a, b, c, x, y, z = sp.symbols('a,b,c,x,y,z')"
   ]
  },
  {
   "cell_type": "code",
   "execution_count": 178,
   "metadata": {
    "colab": {
     "base_uri": "https://localhost:8080/",
     "height": 38
    },
    "executionInfo": {
     "elapsed": 36,
     "status": "ok",
     "timestamp": 1650637072715,
     "user": {
      "displayName": "wien hong",
      "userId": "11131435925814580522"
     },
     "user_tz": -480
    },
    "id": "D9nUVafmnHlc",
    "outputId": "356420e6-6a48-4c75-99dd-410d003d867b"
   },
   "outputs": [
    {
     "data": {
      "text/latex": [
       "$\\displaystyle \\left[\\begin{matrix}a & b & c\\end{matrix}\\right]$"
      ],
      "text/plain": [
       "Matrix([[a, b, c]])"
      ]
     },
     "execution_count": 178,
     "metadata": {},
     "output_type": "execute_result"
    }
   ],
   "source": [
    "sp.Matrix([[a, b, c]])"
   ]
  },
  {
   "cell_type": "code",
   "execution_count": 179,
   "metadata": {
    "colab": {
     "base_uri": "https://localhost:8080/",
     "height": 78
    },
    "executionInfo": {
     "elapsed": 36,
     "status": "ok",
     "timestamp": 1650637072717,
     "user": {
      "displayName": "wien hong",
      "userId": "11131435925814580522"
     },
     "user_tz": -480
    },
    "id": "GmdzCr_jndV2",
    "outputId": "493da565-1619-41cb-a509-dd743bf6bc85"
   },
   "outputs": [
    {
     "data": {
      "text/latex": [
       "$\\displaystyle \\left[\\begin{matrix}a\\\\b\\\\c\\end{matrix}\\right]$"
      ],
      "text/plain": [
       "Matrix([\n",
       "[a],\n",
       "[b],\n",
       "[c]])"
      ]
     },
     "execution_count": 179,
     "metadata": {},
     "output_type": "execute_result"
    }
   ],
   "source": [
    "sp.Matrix([a, b, c])"
   ]
  },
  {
   "cell_type": "code",
   "execution_count": 180,
   "metadata": {
    "colab": {
     "base_uri": "https://localhost:8080/",
     "height": 58
    },
    "executionInfo": {
     "elapsed": 35,
     "status": "ok",
     "timestamp": 1650637072717,
     "user": {
      "displayName": "wien hong",
      "userId": "11131435925814580522"
     },
     "user_tz": -480
    },
    "id": "Hiw5F6S-fifW",
    "outputId": "7dce558d-859a-4174-a8a6-3a70f77b19a0"
   },
   "outputs": [
    {
     "data": {
      "text/latex": [
       "$\\displaystyle \\left[\\begin{matrix}0 & 1 & 2\\\\3 & 4 & 5\\end{matrix}\\right]$"
      ],
      "text/plain": [
       "Matrix([\n",
       "[0, 1, 2],\n",
       "[3, 4, 5]])"
      ]
     },
     "execution_count": 180,
     "metadata": {},
     "output_type": "execute_result"
    }
   ],
   "source": [
    "sp.Matrix(np.array([[0, 1, 2], [3, 4, 5]]))"
   ]
  },
  {
   "cell_type": "code",
   "execution_count": 181,
   "metadata": {
    "colab": {
     "base_uri": "https://localhost:8080/",
     "height": 58
    },
    "executionInfo": {
     "elapsed": 35,
     "status": "ok",
     "timestamp": 1650637072718,
     "user": {
      "displayName": "wien hong",
      "userId": "11131435925814580522"
     },
     "user_tz": -480
    },
    "id": "xlOa8_dNsEI5",
    "outputId": "8b310c0f-dc87-405f-af4d-470000d7c2db"
   },
   "outputs": [
    {
     "data": {
      "text/latex": [
       "$\\displaystyle \\left[\\begin{matrix}1 & 1 & 1\\\\1 & 1 & 1\\end{matrix}\\right]$"
      ],
      "text/plain": [
       "Matrix([\n",
       "[1, 1, 1],\n",
       "[1, 1, 1]])"
      ]
     },
     "execution_count": 181,
     "metadata": {},
     "output_type": "execute_result"
    }
   ],
   "source": [
    "sp.ones(2, 3)"
   ]
  },
  {
   "cell_type": "code",
   "execution_count": 182,
   "metadata": {
    "colab": {
     "base_uri": "https://localhost:8080/",
     "height": 78
    },
    "executionInfo": {
     "elapsed": 35,
     "status": "ok",
     "timestamp": 1650637072719,
     "user": {
      "displayName": "wien hong",
      "userId": "11131435925814580522"
     },
     "user_tz": -480
    },
    "id": "i14GKwA1sMui",
    "outputId": "bc64252d-7e1f-4dc5-ff68-21f94278cf6c"
   },
   "outputs": [
    {
     "data": {
      "text/latex": [
       "$\\displaystyle \\left[\\begin{matrix}1 & 0 & 0\\\\0 & 1 & 0\\\\0 & 0 & 1\\end{matrix}\\right]$"
      ],
      "text/plain": [
       "Matrix([\n",
       "[1, 0, 0],\n",
       "[0, 1, 0],\n",
       "[0, 0, 1]])"
      ]
     },
     "execution_count": 182,
     "metadata": {},
     "output_type": "execute_result"
    }
   ],
   "source": [
    "sp.eye(3)"
   ]
  },
  {
   "cell_type": "code",
   "execution_count": 183,
   "metadata": {
    "colab": {
     "base_uri": "https://localhost:8080/",
     "height": 78
    },
    "executionInfo": {
     "elapsed": 35,
     "status": "ok",
     "timestamp": 1650637072720,
     "user": {
      "displayName": "wien hong",
      "userId": "11131435925814580522"
     },
     "user_tz": -480
    },
    "id": "x2t8NvKNsrC-",
    "outputId": "41a72854-be16-4b0d-b433-9d2279133efa"
   },
   "outputs": [
    {
     "data": {
      "text/latex": [
       "$\\displaystyle \\left[\\begin{matrix}a & 0 & 0\\\\0 & b & 0\\\\0 & 0 & c\\end{matrix}\\right]$"
      ],
      "text/plain": [
       "Matrix([\n",
       "[a, 0, 0],\n",
       "[0, b, 0],\n",
       "[0, 0, c]])"
      ]
     },
     "execution_count": 183,
     "metadata": {},
     "output_type": "execute_result"
    }
   ],
   "source": [
    "sp.diag(a, b, c)"
   ]
  },
  {
   "cell_type": "code",
   "execution_count": 184,
   "metadata": {
    "colab": {
     "base_uri": "https://localhost:8080/",
     "height": 78
    },
    "executionInfo": {
     "elapsed": 35,
     "status": "ok",
     "timestamp": 1650637072721,
     "user": {
      "displayName": "wien hong",
      "userId": "11131435925814580522"
     },
     "user_tz": -480
    },
    "id": "kQggQPX-suuw",
    "outputId": "5ab7d199-424d-4eda-8fa2-54700710d21f"
   },
   "outputs": [
    {
     "data": {
      "text/latex": [
       "$\\displaystyle \\left[\\begin{matrix}a & 0 & 0\\\\0 & b & 0\\\\0 & 0 & c\\end{matrix}\\right]$"
      ],
      "text/plain": [
       "Matrix([\n",
       "[a, 0, 0],\n",
       "[0, b, 0],\n",
       "[0, 0, c]])"
      ]
     },
     "execution_count": 184,
     "metadata": {},
     "output_type": "execute_result"
    }
   ],
   "source": [
    "sp.diag(*[a, b, c])"
   ]
  },
  {
   "cell_type": "code",
   "execution_count": 185,
   "metadata": {
    "colab": {
     "base_uri": "https://localhost:8080/",
     "height": 58
    },
    "executionInfo": {
     "elapsed": 35,
     "status": "ok",
     "timestamp": 1650637072722,
     "user": {
      "displayName": "wien hong",
      "userId": "11131435925814580522"
     },
     "user_tz": -480
    },
    "id": "oGUy4Vb4dty7",
    "outputId": "cdacffc6-027e-470a-b825-47d085041a4d"
   },
   "outputs": [
    {
     "data": {
      "text/latex": [
       "$\\displaystyle \\left[\\begin{matrix}a & b & c\\\\x & y & z\\end{matrix}\\right]$"
      ],
      "text/plain": [
       "Matrix([\n",
       "[a, b, c],\n",
       "[x, y, z]])"
      ]
     },
     "execution_count": 185,
     "metadata": {},
     "output_type": "execute_result"
    }
   ],
   "source": [
    "m1 = sp.Matrix([[a, b, c], [x, y, z]])\n",
    "m1"
   ]
  },
  {
   "cell_type": "code",
   "execution_count": 186,
   "metadata": {
    "colab": {
     "base_uri": "https://localhost:8080/",
     "height": 78
    },
    "executionInfo": {
     "elapsed": 672,
     "status": "ok",
     "timestamp": 1650637073360,
     "user": {
      "displayName": "wien hong",
      "userId": "11131435925814580522"
     },
     "user_tz": -480
    },
    "id": "x-Bmm7nCnm9E",
    "outputId": "cb19e896-fa30-481d-f8cd-9ef3f12827f1"
   },
   "outputs": [
    {
     "data": {
      "text/latex": [
       "$\\displaystyle \\left[\\begin{matrix}a & x\\\\b & y\\\\c & z\\end{matrix}\\right]$"
      ],
      "text/plain": [
       "Matrix([\n",
       "[a, x],\n",
       "[b, y],\n",
       "[c, z]])"
      ]
     },
     "execution_count": 186,
     "metadata": {},
     "output_type": "execute_result"
    }
   ],
   "source": [
    "m1.T"
   ]
  },
  {
   "cell_type": "code",
   "execution_count": 187,
   "metadata": {
    "colab": {
     "base_uri": "https://localhost:8080/",
     "height": 78
    },
    "executionInfo": {
     "elapsed": 26,
     "status": "ok",
     "timestamp": 1650637073361,
     "user": {
      "displayName": "wien hong",
      "userId": "11131435925814580522"
     },
     "user_tz": -480
    },
    "id": "0cNAkLCrkF71",
    "outputId": "4a6cd4aa-c5c4-4feb-d93a-013fa932707d"
   },
   "outputs": [
    {
     "data": {
      "text/latex": [
       "$\\displaystyle \\left[\\begin{matrix}a & b\\\\c & x\\\\y & z\\end{matrix}\\right]$"
      ],
      "text/plain": [
       "Matrix([\n",
       "[a, b],\n",
       "[c, x],\n",
       "[y, z]])"
      ]
     },
     "execution_count": 187,
     "metadata": {},
     "output_type": "execute_result"
    }
   ],
   "source": [
    "m2 = sp.Matrix(3, 2, [a, b, c, x, y, z])\n",
    "m2"
   ]
  },
  {
   "cell_type": "code",
   "execution_count": 188,
   "metadata": {
    "colab": {
     "base_uri": "https://localhost:8080/",
     "height": 58
    },
    "executionInfo": {
     "elapsed": 26,
     "status": "ok",
     "timestamp": 1650637073362,
     "user": {
      "displayName": "wien hong",
      "userId": "11131435925814580522"
     },
     "user_tz": -480
    },
    "id": "nlh__GTlkNsv",
    "outputId": "a7a0af28-2d3a-4278-c902-5f38710d5ecb"
   },
   "outputs": [
    {
     "data": {
      "text/latex": [
       "$\\displaystyle \\left[\\begin{matrix}a^{2} + b c + c y & a b + b x + c z\\\\a x + c y + y z & b x + x y + z^{2}\\end{matrix}\\right]$"
      ],
      "text/plain": [
       "Matrix([\n",
       "[a**2 + b*c + c*y,  a*b + b*x + c*z],\n",
       "[ a*x + c*y + y*z, b*x + x*y + z**2]])"
      ]
     },
     "execution_count": 188,
     "metadata": {},
     "output_type": "execute_result"
    }
   ],
   "source": [
    "m1 * m2"
   ]
  },
  {
   "cell_type": "code",
   "execution_count": 189,
   "metadata": {
    "colab": {
     "base_uri": "https://localhost:8080/",
     "height": 58
    },
    "executionInfo": {
     "elapsed": 28,
     "status": "ok",
     "timestamp": 1650637073365,
     "user": {
      "displayName": "wien hong",
      "userId": "11131435925814580522"
     },
     "user_tz": -480
    },
    "id": "-9uofbE-nvQE",
    "outputId": "688eea83-5da0-487c-b399-549b35c8e4e7"
   },
   "outputs": [
    {
     "data": {
      "text/latex": [
       "$\\displaystyle \\left[\\begin{matrix}2 a & b + c & c + y\\\\b + x & x + y & 2 z\\end{matrix}\\right]$"
      ],
      "text/plain": [
       "Matrix([\n",
       "[  2*a, b + c, c + y],\n",
       "[b + x, x + y,   2*z]])"
      ]
     },
     "execution_count": 189,
     "metadata": {},
     "output_type": "execute_result"
    }
   ],
   "source": [
    "m1 + m2.T"
   ]
  },
  {
   "cell_type": "code",
   "execution_count": 190,
   "metadata": {
    "colab": {
     "base_uri": "https://localhost:8080/",
     "height": 58
    },
    "executionInfo": {
     "elapsed": 27,
     "status": "ok",
     "timestamp": 1650637073366,
     "user": {
      "displayName": "wien hong",
      "userId": "11131435925814580522"
     },
     "user_tz": -480
    },
    "id": "Aljhoe7KnzkD",
    "outputId": "b400c142-9cc3-449d-91ba-6866afc66bc4"
   },
   "outputs": [
    {
     "data": {
      "text/latex": [
       "$\\displaystyle \\left[\\begin{matrix}a^{2} & b c & c y\\\\b x & x y & z^{2}\\end{matrix}\\right]$"
      ],
      "text/plain": [
       "Matrix([\n",
       "[a**2, b*c,  c*y],\n",
       "[ b*x, x*y, z**2]])"
      ]
     },
     "execution_count": 190,
     "metadata": {},
     "output_type": "execute_result"
    }
   ],
   "source": [
    "m1.multiply_elementwise(m2.T)"
   ]
  },
  {
   "cell_type": "code",
   "execution_count": 191,
   "metadata": {
    "colab": {
     "base_uri": "https://localhost:8080/",
     "height": 78
    },
    "executionInfo": {
     "elapsed": 27,
     "status": "ok",
     "timestamp": 1650637073367,
     "user": {
      "displayName": "wien hong",
      "userId": "11131435925814580522"
     },
     "user_tz": -480
    },
    "id": "mJrVvAEEot4L",
    "outputId": "246fa63a-b26b-4504-a723-e1edeadc6c18"
   },
   "outputs": [
    {
     "data": {
      "text/latex": [
       "$\\displaystyle \\left[\\begin{matrix}3 a & 3 b\\\\3 c & 3 x\\\\3 y & 3 z\\end{matrix}\\right]$"
      ],
      "text/plain": [
       "Matrix([\n",
       "[3*a, 3*b],\n",
       "[3*c, 3*x],\n",
       "[3*y, 3*z]])"
      ]
     },
     "execution_count": 191,
     "metadata": {},
     "output_type": "execute_result"
    }
   ],
   "source": [
    "m2 * 3"
   ]
  },
  {
   "cell_type": "code",
   "execution_count": 192,
   "metadata": {
    "colab": {
     "base_uri": "https://localhost:8080/",
     "height": 37
    },
    "executionInfo": {
     "elapsed": 529,
     "status": "ok",
     "timestamp": 1650637073871,
     "user": {
      "displayName": "wien hong",
      "userId": "11131435925814580522"
     },
     "user_tz": -480
    },
    "id": "D06DpIjokanM",
    "outputId": "51d0b8aa-c204-4f80-c0ce-fa388a652076"
   },
   "outputs": [
    {
     "data": {
      "text/plain": [
       "(2, 3)"
      ]
     },
     "execution_count": 192,
     "metadata": {},
     "output_type": "execute_result"
    }
   ],
   "source": [
    "m1.shape"
   ]
  },
  {
   "cell_type": "code",
   "execution_count": 193,
   "metadata": {
    "colab": {
     "base_uri": "https://localhost:8080/",
     "height": 38
    },
    "executionInfo": {
     "elapsed": 41,
     "status": "ok",
     "timestamp": 1650637073872,
     "user": {
      "displayName": "wien hong",
      "userId": "11131435925814580522"
     },
     "user_tz": -480
    },
    "id": "bWWX27cZkzVs",
    "outputId": "4b74c63f-ebd6-49a1-e33e-fd08596117d9"
   },
   "outputs": [
    {
     "data": {
      "text/latex": [
       "$\\displaystyle \\left[\\begin{matrix}a & b & c\\end{matrix}\\right]$"
      ],
      "text/plain": [
       "Matrix([[a, b, c]])"
      ]
     },
     "execution_count": 193,
     "metadata": {},
     "output_type": "execute_result"
    }
   ],
   "source": [
    "m1.row(0)"
   ]
  },
  {
   "cell_type": "code",
   "execution_count": 194,
   "metadata": {
    "colab": {
     "base_uri": "https://localhost:8080/",
     "height": 58
    },
    "executionInfo": {
     "elapsed": 40,
     "status": "ok",
     "timestamp": 1650637073873,
     "user": {
      "displayName": "wien hong",
      "userId": "11131435925814580522"
     },
     "user_tz": -480
    },
    "id": "oifh8oEek232",
    "outputId": "37ff65b8-4488-41ae-eaf7-9cc5be012c04"
   },
   "outputs": [
    {
     "data": {
      "text/latex": [
       "$\\displaystyle \\left[\\begin{matrix}c\\\\z\\end{matrix}\\right]$"
      ],
      "text/plain": [
       "Matrix([\n",
       "[c],\n",
       "[z]])"
      ]
     },
     "execution_count": 194,
     "metadata": {},
     "output_type": "execute_result"
    }
   ],
   "source": [
    "m1.col(-1)"
   ]
  },
  {
   "cell_type": "code",
   "execution_count": 195,
   "metadata": {
    "colab": {
     "base_uri": "https://localhost:8080/",
     "height": 58
    },
    "executionInfo": {
     "elapsed": 40,
     "status": "ok",
     "timestamp": 1650637073874,
     "user": {
      "displayName": "wien hong",
      "userId": "11131435925814580522"
     },
     "user_tz": -480
    },
    "id": "aiEUJqoclEU-",
    "outputId": "825b0935-b5d3-40a6-b53c-6ce023b80fe0"
   },
   "outputs": [
    {
     "data": {
      "text/latex": [
       "$\\displaystyle \\left[\\begin{matrix}b & c\\\\y & z\\end{matrix}\\right]$"
      ],
      "text/plain": [
       "Matrix([\n",
       "[b, c],\n",
       "[y, z]])"
      ]
     },
     "execution_count": 195,
     "metadata": {},
     "output_type": "execute_result"
    }
   ],
   "source": [
    "m1.col_del(0)\n",
    "m1"
   ]
  },
  {
   "cell_type": "code",
   "execution_count": 196,
   "metadata": {
    "colab": {
     "base_uri": "https://localhost:8080/",
     "height": 78
    },
    "executionInfo": {
     "elapsed": 40,
     "status": "ok",
     "timestamp": 1650637073876,
     "user": {
      "displayName": "wien hong",
      "userId": "11131435925814580522"
     },
     "user_tz": -480
    },
    "id": "pI99ttM9lIoI",
    "outputId": "0ff16bf3-402b-46f5-bf10-27f27d013e1b"
   },
   "outputs": [
    {
     "data": {
      "text/latex": [
       "$\\displaystyle \\left[\\begin{matrix}b & c\\\\y & z\\\\a & a^{2}\\end{matrix}\\right]$"
      ],
      "text/plain": [
       "Matrix([\n",
       "[b,    c],\n",
       "[y,    z],\n",
       "[a, a**2]])"
      ]
     },
     "execution_count": 196,
     "metadata": {},
     "output_type": "execute_result"
    }
   ],
   "source": [
    "m1.row_insert(2, sp.Matrix([[a, a**2]]))"
   ]
  },
  {
   "cell_type": "code",
   "execution_count": 197,
   "metadata": {
    "colab": {
     "base_uri": "https://localhost:8080/",
     "height": 58
    },
    "executionInfo": {
     "elapsed": 40,
     "status": "ok",
     "timestamp": 1650637073877,
     "user": {
      "displayName": "wien hong",
      "userId": "11131435925814580522"
     },
     "user_tz": -480
    },
    "id": "dpdgABQTs8kP",
    "outputId": "47c53ce5-60e2-4c46-cf2f-a83a48885c9e"
   },
   "outputs": [
    {
     "data": {
      "text/latex": [
       "$\\displaystyle \\left[\\begin{matrix}0 & a\\\\4 & 0\\end{matrix}\\right]$"
      ],
      "text/plain": [
       "Matrix([\n",
       "[0, a],\n",
       "[4, 0]])"
      ]
     },
     "execution_count": 197,
     "metadata": {},
     "output_type": "execute_result"
    }
   ],
   "source": [
    "m = sp.Matrix([[0, a], [4, 0]])\n",
    "m"
   ]
  },
  {
   "cell_type": "code",
   "execution_count": 198,
   "metadata": {
    "colab": {
     "base_uri": "https://localhost:8080/",
     "height": 58
    },
    "executionInfo": {
     "elapsed": 40,
     "status": "ok",
     "timestamp": 1650637073878,
     "user": {
      "displayName": "wien hong",
      "userId": "11131435925814580522"
     },
     "user_tz": -480
    },
    "id": "a8Vi8zYZtHBO",
    "outputId": "1153612b-f8c0-412d-934f-cf08908f26bd"
   },
   "outputs": [
    {
     "data": {
      "text/latex": [
       "$\\displaystyle \\left[\\begin{matrix}4 a & 0\\\\0 & 4 a\\end{matrix}\\right]$"
      ],
      "text/plain": [
       "Matrix([\n",
       "[4*a,   0],\n",
       "[  0, 4*a]])"
      ]
     },
     "execution_count": 198,
     "metadata": {},
     "output_type": "execute_result"
    }
   ],
   "source": [
    "m**2"
   ]
  },
  {
   "cell_type": "code",
   "execution_count": 199,
   "metadata": {
    "colab": {
     "base_uri": "https://localhost:8080/",
     "height": 58
    },
    "executionInfo": {
     "elapsed": 41,
     "status": "ok",
     "timestamp": 1650637073881,
     "user": {
      "displayName": "wien hong",
      "userId": "11131435925814580522"
     },
     "user_tz": -480
    },
    "id": "RXMIhxAOtkFL",
    "outputId": "c3e451a1-defe-48a4-c856-93697e6dc982"
   },
   "outputs": [
    {
     "data": {
      "text/latex": [
       "$\\displaystyle \\left[\\begin{matrix}0 & \\frac{1}{4}\\\\\\frac{1}{a} & 0\\end{matrix}\\right]$"
      ],
      "text/plain": [
       "Matrix([\n",
       "[  0, 1/4],\n",
       "[1/a,   0]])"
      ]
     },
     "execution_count": 199,
     "metadata": {},
     "output_type": "execute_result"
    }
   ],
   "source": [
    "m.inv()"
   ]
  },
  {
   "cell_type": "code",
   "execution_count": 200,
   "metadata": {
    "colab": {
     "base_uri": "https://localhost:8080/",
     "height": 38
    },
    "executionInfo": {
     "elapsed": 41,
     "status": "ok",
     "timestamp": 1650637073882,
     "user": {
      "displayName": "wien hong",
      "userId": "11131435925814580522"
     },
     "user_tz": -480
    },
    "id": "FlzzcakEtnOw",
    "outputId": "c4727dce-90ad-431e-9999-cb27f0f7b085"
   },
   "outputs": [
    {
     "data": {
      "text/plain": [
       "{-2*sqrt(a): 1, 2*sqrt(a): 1}"
      ]
     },
     "execution_count": 200,
     "metadata": {},
     "output_type": "execute_result"
    }
   ],
   "source": [
    "m.eigenvals()"
   ]
  },
  {
   "cell_type": "code",
   "execution_count": 201,
   "metadata": {
    "colab": {
     "base_uri": "https://localhost:8080/",
     "height": 61
    },
    "executionInfo": {
     "elapsed": 42,
     "status": "ok",
     "timestamp": 1650637073884,
     "user": {
      "displayName": "wien hong",
      "userId": "11131435925814580522"
     },
     "user_tz": -480
    },
    "id": "Whs0CCUguSOJ",
    "outputId": "d9c3133e-414b-48c3-b146-914c706cdefe"
   },
   "outputs": [
    {
     "data": {
      "text/plain": [
       "[(-2*sqrt(a),\n",
       "  1,\n",
       "  [Matrix([\n",
       "   [-sqrt(a)/2],\n",
       "   [         1]])]),\n",
       " (2*sqrt(a),\n",
       "  1,\n",
       "  [Matrix([\n",
       "   [sqrt(a)/2],\n",
       "   [        1]])])]"
      ]
     },
     "execution_count": 201,
     "metadata": {},
     "output_type": "execute_result"
    }
   ],
   "source": [
    "m.eigenvects()"
   ]
  },
  {
   "cell_type": "code",
   "execution_count": 202,
   "metadata": {
    "id": "XDL5iT7pulxf"
   },
   "outputs": [],
   "source": [
    "m = sp.Matrix([[a, b], [0, c]])\n",
    "v = sp.Matrix([4, 9])"
   ]
  },
  {
   "cell_type": "code",
   "execution_count": 203,
   "metadata": {
    "colab": {
     "base_uri": "https://localhost:8080/",
     "height": 58
    },
    "executionInfo": {
     "elapsed": 994,
     "status": "ok",
     "timestamp": 1650637074839,
     "user": {
      "displayName": "wien hong",
      "userId": "11131435925814580522"
     },
     "user_tz": -480
    },
    "id": "uZ5TA4D_xnW8",
    "outputId": "cb6eabb4-108d-4ee3-e15a-e85e0d8fe18a"
   },
   "outputs": [
    {
     "data": {
      "text/latex": [
       "$\\displaystyle \\left\\{\\left( \\frac{- 9 b + 4 c}{a c}, \\  \\frac{9}{c}\\right)\\right\\}$"
      ],
      "text/plain": [
       "{((-9*b + 4*c)/(a*c), 9/c)}"
      ]
     },
     "execution_count": 203,
     "metadata": {},
     "output_type": "execute_result"
    }
   ],
   "source": [
    "sp.linsolve([m, v])"
   ]
  },
  {
   "cell_type": "markdown",
   "metadata": {
    "id": "FkyYCfpVxpBM"
   },
   "source": [
    "## 13.6 解微分方程式"
   ]
  },
  {
   "cell_type": "code",
   "execution_count": 204,
   "metadata": {
    "id": "kkQ08gXavBsA"
   },
   "outputs": [],
   "source": [
    "a, b, c, x, y = sp.symbols('a,b,c,x,y')"
   ]
  },
  {
   "cell_type": "code",
   "execution_count": 205,
   "metadata": {
    "id": "q5sHDtNizXXU"
   },
   "outputs": [],
   "source": [
    "f = sp.Function('f')"
   ]
  },
  {
   "cell_type": "code",
   "execution_count": 206,
   "metadata": {
    "colab": {
     "base_uri": "https://localhost:8080/",
     "height": 52
    },
    "executionInfo": {
     "elapsed": 39,
     "status": "ok",
     "timestamp": 1650637074842,
     "user": {
      "displayName": "wien hong",
      "userId": "11131435925814580522"
     },
     "user_tz": -480
    },
    "id": "47tSLRPX0wW-",
    "outputId": "3f01134d-539c-402e-844f-4e9c7177a962"
   },
   "outputs": [
    {
     "data": {
      "text/latex": [
       "$\\displaystyle - f{\\left(x \\right)} + \\frac{d}{d x} f{\\left(x \\right)} = \\cos{\\left(x \\right)}$"
      ],
      "text/plain": [
       "Eq(-f(x) + Derivative(f(x), x), cos(x))"
      ]
     },
     "execution_count": 206,
     "metadata": {},
     "output_type": "execute_result"
    }
   ],
   "source": [
    "eqn = sp.Eq(f(x).diff(x) - f(x), sp.cos(x))\n",
    "eqn"
   ]
  },
  {
   "cell_type": "code",
   "execution_count": 207,
   "metadata": {
    "colab": {
     "base_uri": "https://localhost:8080/",
     "height": 52
    },
    "executionInfo": {
     "elapsed": 38,
     "status": "ok",
     "timestamp": 1650637074843,
     "user": {
      "displayName": "wien hong",
      "userId": "11131435925814580522"
     },
     "user_tz": -480
    },
    "id": "Q7wJZz1g19yJ",
    "outputId": "131d1046-90d3-4b14-f2d0-ddaf0218b773"
   },
   "outputs": [
    {
     "data": {
      "text/latex": [
       "$\\displaystyle - f{\\left(x \\right)} + \\frac{d}{d x} f{\\left(x \\right)}$"
      ],
      "text/plain": [
       "-f(x) + Derivative(f(x), x)"
      ]
     },
     "execution_count": 207,
     "metadata": {},
     "output_type": "execute_result"
    }
   ],
   "source": [
    "eqn.lhs"
   ]
  },
  {
   "cell_type": "code",
   "execution_count": 208,
   "metadata": {
    "colab": {
     "base_uri": "https://localhost:8080/",
     "height": 38
    },
    "executionInfo": {
     "elapsed": 37,
     "status": "ok",
     "timestamp": 1650637074844,
     "user": {
      "displayName": "wien hong",
      "userId": "11131435925814580522"
     },
     "user_tz": -480
    },
    "id": "slFexUS_2DP1",
    "outputId": "55b67ded-f637-42b8-f8f9-5291e612f901"
   },
   "outputs": [
    {
     "data": {
      "text/latex": [
       "$\\displaystyle \\cos{\\left(x \\right)}$"
      ],
      "text/plain": [
       "cos(x)"
      ]
     },
     "execution_count": 208,
     "metadata": {},
     "output_type": "execute_result"
    }
   ],
   "source": [
    "eqn.rhs"
   ]
  },
  {
   "cell_type": "code",
   "execution_count": 209,
   "metadata": {
    "colab": {
     "base_uri": "https://localhost:8080/",
     "height": 58
    },
    "executionInfo": {
     "elapsed": 2482,
     "status": "ok",
     "timestamp": 1650637077291,
     "user": {
      "displayName": "wien hong",
      "userId": "11131435925814580522"
     },
     "user_tz": -480
    },
    "id": "OVtQu5BK0zH7",
    "outputId": "55e44e44-307b-44bc-c23e-52142bf61c02"
   },
   "outputs": [
    {
     "data": {
      "text/latex": [
       "$\\displaystyle f{\\left(x \\right)} = C_{1} e^{x} + \\frac{\\sin{\\left(x \\right)}}{2} - \\frac{\\cos{\\left(x \\right)}}{2}$"
      ],
      "text/plain": [
       "Eq(f(x), C1*exp(x) + sin(x)/2 - cos(x)/2)"
      ]
     },
     "execution_count": 209,
     "metadata": {},
     "output_type": "execute_result"
    }
   ],
   "source": [
    "sp.dsolve(eqn)"
   ]
  },
  {
   "cell_type": "code",
   "execution_count": 210,
   "metadata": {
    "colab": {
     "base_uri": "https://localhost:8080/",
     "height": 58
    },
    "executionInfo": {
     "elapsed": 2246,
     "status": "ok",
     "timestamp": 1650637079531,
     "user": {
      "displayName": "wien hong",
      "userId": "11131435925814580522"
     },
     "user_tz": -480
    },
    "id": "JUJjPSRY010D",
    "outputId": "537296ff-e64d-4672-ad74-6f7cc850c9e3"
   },
   "outputs": [
    {
     "data": {
      "text/latex": [
       "$\\displaystyle f{\\left(x \\right)} = \\frac{7 e^{x}}{2} + \\frac{\\sin{\\left(x \\right)}}{2} - \\frac{\\cos{\\left(x \\right)}}{2}$"
      ],
      "text/plain": [
       "Eq(f(x), 7*exp(x)/2 + sin(x)/2 - cos(x)/2)"
      ]
     },
     "execution_count": 210,
     "metadata": {},
     "output_type": "execute_result"
    }
   ],
   "source": [
    "sp.dsolve(eqn, ics={f(0): 3})"
   ]
  },
  {
   "cell_type": "code",
   "execution_count": 211,
   "metadata": {
    "colab": {
     "base_uri": "https://localhost:8080/",
     "height": 54
    },
    "executionInfo": {
     "elapsed": 35,
     "status": "ok",
     "timestamp": 1650637079532,
     "user": {
      "displayName": "wien hong",
      "userId": "11131435925814580522"
     },
     "user_tz": -480
    },
    "id": "Z414auCK1MwS",
    "outputId": "d81451ac-1e7a-4fc4-d78f-6a0abb2be15d"
   },
   "outputs": [
    {
     "data": {
      "text/latex": [
       "$\\displaystyle 2 f{\\left(x \\right)} + \\frac{d^{2}}{d x^{2}} f{\\left(x \\right)} = \\sin{\\left(x \\right)}$"
      ],
      "text/plain": [
       "Eq(2*f(x) + Derivative(f(x), (x, 2)), sin(x))"
      ]
     },
     "execution_count": 211,
     "metadata": {},
     "output_type": "execute_result"
    }
   ],
   "source": [
    "eqn = sp.Eq(f(x).diff(x, 2) + 2 * f(x), sp.sin(x))\n",
    "eqn"
   ]
  },
  {
   "cell_type": "code",
   "execution_count": 212,
   "metadata": {
    "colab": {
     "base_uri": "https://localhost:8080/",
     "height": 61
    },
    "executionInfo": {
     "elapsed": 32,
     "status": "ok",
     "timestamp": 1650637079533,
     "user": {
      "displayName": "wien hong",
      "userId": "11131435925814580522"
     },
     "user_tz": -480
    },
    "id": "vNJC3GlK3Yv_",
    "outputId": "8a21a6ef-d527-40e0-fc91-d2fefb46ce3c"
   },
   "outputs": [
    {
     "data": {
      "text/latex": [
       "$\\displaystyle \\left. \\frac{d}{d x} f{\\left(x \\right)} \\right|_{\\substack{ x=0 }}$"
      ],
      "text/plain": [
       "Subs(Derivative(f(x), x), x, 0)"
      ]
     },
     "execution_count": 212,
     "metadata": {},
     "output_type": "execute_result"
    }
   ],
   "source": [
    "fp = sp.diff(f(x), x).subs(x, 0)\n",
    "fp"
   ]
  },
  {
   "cell_type": "code",
   "execution_count": 213,
   "metadata": {
    "colab": {
     "base_uri": "https://localhost:8080/",
     "height": 57
    },
    "executionInfo": {
     "elapsed": 1444,
     "status": "ok",
     "timestamp": 1650637080947,
     "user": {
      "displayName": "wien hong",
      "userId": "11131435925814580522"
     },
     "user_tz": -480
    },
    "id": "bbrNiiD408Lj",
    "outputId": "16cfceb0-0967-4219-cb37-af81137b3f79"
   },
   "outputs": [
    {
     "data": {
      "text/latex": [
       "$\\displaystyle f{\\left(x \\right)} = \\sin{\\left(x \\right)} - \\frac{\\sqrt{2} \\sin{\\left(\\sqrt{2} x \\right)}}{2} + 3 \\cos{\\left(\\sqrt{2} x \\right)}$"
      ],
      "text/plain": [
       "Eq(f(x), sin(x) - sqrt(2)*sin(sqrt(2)*x)/2 + 3*cos(sqrt(2)*x))"
      ]
     },
     "execution_count": 213,
     "metadata": {},
     "output_type": "execute_result"
    }
   ],
   "source": [
    "sol = sp.dsolve(eqn, ics={f(0): 3, fp: 0})\n",
    "sol"
   ]
  },
  {
   "cell_type": "code",
   "execution_count": 214,
   "metadata": {
    "colab": {
     "base_uri": "https://localhost:8080/",
     "height": 314
    },
    "executionInfo": {
     "elapsed": 1179,
     "status": "ok",
     "timestamp": 1650637082116,
     "user": {
      "displayName": "wien hong",
      "userId": "11131435925814580522"
     },
     "user_tz": -480
    },
    "id": "SMMpoTNE1BNH",
    "outputId": "688f012a-70e1-4709-d25f-3327b2d0d010"
   },
   "outputs": [
    {
     "data": {
      "image/png": "[encoded data removed]",
      "text/plain": [
       "<Figure size 432x288 with 1 Axes>"
      ]
     },
     "metadata": {
      "needs_background": "light"
     },
     "output_type": "display_data"
    },
    {
     "data": {
      "text/plain": [
       "<sympy.plotting.plot.Plot at 0x2392df6ddc0>"
      ]
     },
     "execution_count": 214,
     "metadata": {},
     "output_type": "execute_result"
    }
   ],
   "source": [
    "sp.plot(sol.rhs, (x, 0, 20))"
   ]
  },
  {
   "cell_type": "code",
   "execution_count": 215,
   "metadata": {
    "id": "rTMgGkNA1baG"
   },
   "outputs": [],
   "source": [
    "u = sp.Function('u')\n",
    "v = sp.Function('v')\n",
    "t = sp.symbols('t')"
   ]
  },
  {
   "cell_type": "code",
   "execution_count": 216,
   "metadata": {
    "colab": {
     "base_uri": "https://localhost:8080/",
     "height": 52
    },
    "executionInfo": {
     "elapsed": 34,
     "status": "ok",
     "timestamp": 1650637082125,
     "user": {
      "displayName": "wien hong",
      "userId": "11131435925814580522"
     },
     "user_tz": -480
    },
    "id": "5Hq7Whqm7VfN",
    "outputId": "226facf8-c796-43a2-fb52-4428d496f372"
   },
   "outputs": [
    {
     "data": {
      "text/latex": [
       "$\\displaystyle \\frac{d}{d t} u{\\left(t \\right)} = 5 u{\\left(t \\right)} - 3 v{\\left(t \\right)}$"
      ],
      "text/plain": [
       "Eq(Derivative(u(t), t), 5*u(t) - 3*v(t))"
      ]
     },
     "execution_count": 216,
     "metadata": {},
     "output_type": "execute_result"
    }
   ],
   "source": [
    "eq1 = sp.Eq(u(t).diff(t), 5 * u(t) - 3 * v(t))\n",
    "eq1"
   ]
  },
  {
   "cell_type": "code",
   "execution_count": 217,
   "metadata": {
    "colab": {
     "base_uri": "https://localhost:8080/",
     "height": 52
    },
    "executionInfo": {
     "elapsed": 630,
     "status": "ok",
     "timestamp": 1650637082726,
     "user": {
      "displayName": "wien hong",
      "userId": "11131435925814580522"
     },
     "user_tz": -480
    },
    "id": "VLpyVEGL7gc9",
    "outputId": "7fcf2740-e515-4035-edb5-4d5c327a47bd"
   },
   "outputs": [
    {
     "data": {
      "text/latex": [
       "$\\displaystyle \\frac{d}{d t} v{\\left(t \\right)} = - 6 u{\\left(t \\right)} + 2 v{\\left(t \\right)}$"
      ],
      "text/plain": [
       "Eq(Derivative(v(t), t), -6*u(t) + 2*v(t))"
      ]
     },
     "execution_count": 217,
     "metadata": {},
     "output_type": "execute_result"
    }
   ],
   "source": [
    "eq2 = sp.Eq(v(t).diff(t), -6 * u(t) + 2 * v(t))\n",
    "eq2"
   ]
  },
  {
   "cell_type": "code",
   "execution_count": 218,
   "metadata": {
    "colab": {
     "base_uri": "https://localhost:8080/",
     "height": 58
    },
    "executionInfo": {
     "elapsed": 450,
     "status": "ok",
     "timestamp": 1650637083149,
     "user": {
      "displayName": "wien hong",
      "userId": "11131435925814580522"
     },
     "user_tz": -480
    },
    "id": "BxlmDpXc77VD",
    "outputId": "081e5e44-db24-4714-9700-197fcc594d5f"
   },
   "outputs": [
    {
     "data": {
      "text/plain": [
       "[Eq(u(t), C1*exp(-t)/2 - C2*exp(8*t)), Eq(v(t), C1*exp(-t) + C2*exp(8*t))]"
      ]
     },
     "execution_count": 218,
     "metadata": {},
     "output_type": "execute_result"
    }
   ],
   "source": [
    "sp.dsolve([eq1, eq2])"
   ]
  },
  {
   "cell_type": "code",
   "execution_count": 219,
   "metadata": {
    "colab": {
     "base_uri": "https://localhost:8080/",
     "height": 58
    },
    "executionInfo": {
     "elapsed": 336,
     "status": "ok",
     "timestamp": 1650637083480,
     "user": {
      "displayName": "wien hong",
      "userId": "11131435925814580522"
     },
     "user_tz": -480
    },
    "id": "XZ9iI1Qw8Kyn",
    "outputId": "556d081e-beea-429a-b5f3-6bfbf2d1c620"
   },
   "outputs": [
    {
     "data": {
      "text/plain": [
       "[Eq(u(t), -exp(8*t)/3 + 10*exp(-t)/3), Eq(v(t), exp(8*t)/3 + 20*exp(-t)/3)]"
      ]
     },
     "execution_count": 219,
     "metadata": {},
     "output_type": "execute_result"
    }
   ],
   "source": [
    "sol = sp.dsolve([eq1, eq2], ics={u(0): 3, v(0): 7})\n",
    "sol"
   ]
  }
 ],
 "metadata": {
  "colab": {
   "authorship_tag": "ABX9TyMep1ZHWKrWOz8F3goNEbwZ",
   "collapsed_sections": [],
   "name": "第13章-使用 Sympy 進行符號運算.ipynb",
   "provenance": [
    {
     "file_id": "1gTYCxuj7te3roemCBKVnG4FBSsQMkjSN",
     "timestamp": 1650617487685
    }
   ],
   "toc_visible": true
  },
  "kernelspec": {
   "display_name": "Python 3 (ipykernel)",
   "language": "python",
   "name": "python3"
  },
  "language_info": {
   "codemirror_mode": {
    "name": "ipython",
    "version": 3
   },
   "file_extension": ".py",
   "mimetype": "text/x-python",
   "name": "python",
   "nbconvert_exporter": "python",
   "pygments_lexer": "ipython3",
   "version": "3.8.13"
  },
  "toc": {
   "base_numbering": 1,
   "nav_menu": {},
   "number_sections": true,
   "sideBar": true,
   "skip_h1_title": false,
   "title_cell": "Table of Contents",
   "title_sidebar": "Contents",
   "toc_cell": false,
   "toc_position": {},
   "toc_section_display": true,
   "toc_window_display": false
  },
  "varInspector": {
   "cols": {
    "lenName": 16,
    "lenType": 16,
    "lenVar": 40
   },
   "kernels_config": {
    "python": {
     "delete_cmd_postfix": "",
     "delete_cmd_prefix": "del ",
     "library": "var_list.py",
     "varRefreshCmd": "print(var_dic_list())"
    },
    "r": {
     "delete_cmd_postfix": ") ",
     "delete_cmd_prefix": "rm(",
     "library": "var_list.r",
     "varRefreshCmd": "cat(var_dic_list()) "
    }
   },
   "types_to_exclude": [
    "module",
    "function",
    "builtin_function_or_method",
    "instance",
    "_Feature"
   ],
   "window_display": false
  }
 },
 "nbformat": 4,
 "nbformat_minor": 1
}
